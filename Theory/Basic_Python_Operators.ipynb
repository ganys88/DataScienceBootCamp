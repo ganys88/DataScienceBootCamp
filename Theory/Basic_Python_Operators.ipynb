{
  "nbformat": 4,
  "nbformat_minor": 0,
  "metadata": {
    "colab": {
      "provenance": []
    },
    "kernelspec": {
      "name": "python3",
      "display_name": "Python 3"
    },
    "language_info": {
      "name": "python"
    }
  },
  "cells": [
    {
      "cell_type": "code",
      "execution_count": null,
      "metadata": {
        "colab": {
          "base_uri": "https://localhost:8080/"
        },
        "id": "ljOgei3z3mBT",
        "outputId": "8062e265-99d5-4cf3-d252-da0dcb9c19eb"
      },
      "outputs": [
        {
          "output_type": "stream",
          "name": "stdout",
          "text": [
            "240\n",
            "160\n",
            "8000\n",
            "5.0\n",
            "0\n",
            "5\n",
            "109951162777600000000000000000000000000000000000000000000000000000000000000000000000000000000\n"
          ]
        }
      ],
      "source": [
        "# basic operators\n",
        "\n",
        "a = 200\n",
        "b = 40\n",
        "print (a+b)  #1\n",
        "print (a-b)  #2\n",
        "print (a*b)  #3\n",
        "print (a/b)  #4\n",
        "print (a%b)  #5.modulus gives us whatever remainder\n",
        "print (a//b) #6.floor division gives us quotient down to nearest integer\n",
        "print (a**b) #7.exponentiation tells to multiply itself by other number of times\n",
        "             #eg:multiply 200, 40 times\n",
        "             #200*200*200....40 times\n"
      ]
    },
    {
      "cell_type": "code",
      "source": [
        "# comparision operators\n",
        "\n",
        "a = 100\n",
        "b = 20\n",
        "print (a == b)  #1. equal to/comparision\n",
        "print (a != b)  #2.\n",
        "print (a > b)    #3.\n",
        "print (a < b)    #4.\n",
        "print (a >= b)   #5.\n",
        "print (a <= b)   #6.\n",
        "\n"
      ],
      "metadata": {
        "colab": {
          "base_uri": "https://localhost:8080/"
        },
        "id": "31XvAtHf7O4X",
        "outputId": "2eaabb58-bf59-4ac2-c357-2510cd34b915"
      },
      "execution_count": null,
      "outputs": [
        {
          "output_type": "stream",
          "name": "stdout",
          "text": [
            "False\n",
            "True\n",
            "True\n",
            "False\n",
            "True\n",
            "False\n"
          ]
        }
      ]
    },
    {
      "cell_type": "code",
      "source": [
        "# assignment operators\n",
        "\n",
        "# eg: a = a + b => a += b\n",
        "\n",
        "a = 100\n",
        "b = 20\n",
        "a += b\n",
        "print (a,b)\n",
        "a -= b\n",
        "print (a,b)\n",
        "a *= b\n",
        "print (a,b)\n",
        "a /= b\n",
        "print (a,b)\n",
        "a %= b\n",
        "print (a,b)\n",
        "a //= b\n",
        "print (a,b)\n",
        "a **= b\n",
        "print (a,b)\n",
        "\n",
        "#below answers depends on the numbers above\n",
        "#if done individually gives different results"
      ],
      "metadata": {
        "colab": {
          "base_uri": "https://localhost:8080/"
        },
        "id": "mPCicVyv9EBx",
        "outputId": "f8e5c510-0b87-49bf-d3e6-9a99aec68a95"
      },
      "execution_count": null,
      "outputs": [
        {
          "output_type": "stream",
          "name": "stdout",
          "text": [
            "120 20\n",
            "100 20\n",
            "2000 20\n",
            "100.0 20\n",
            "0.0 20\n",
            "0.0 20\n",
            "0.0 20\n"
          ]
        }
      ]
    },
    {
      "cell_type": "code",
      "source": [
        "a = 100\n",
        "b = 20\n",
        "\n",
        "#and operators all conditions must be true\n",
        "print (a > 80 and b < 80)\n",
        "print (a == 80 and b < 80)\n",
        "print (a < 80 and b < 80)\n",
        "print (a > 80 and b > 80)\n",
        "\n",
        "#or operators one of the conditions must be true\n",
        "print (a > 80 or b < 80)\n",
        "print (a == 80 or b < 80)\n",
        "print (a < 80 or b < 80)\n",
        "print (a > 80 or b > 80)\n",
        "\n"
      ],
      "metadata": {
        "colab": {
          "base_uri": "https://localhost:8080/"
        },
        "id": "Kj-RVqobBYtk",
        "outputId": "9556f50c-0304-478f-da08-a1c890e46cf0"
      },
      "execution_count": null,
      "outputs": [
        {
          "output_type": "stream",
          "name": "stdout",
          "text": [
            "True\n",
            "False\n",
            "False\n",
            "False\n",
            "True\n",
            "True\n",
            "True\n",
            "True\n"
          ]
        }
      ]
    },
    {
      "cell_type": "code",
      "source": [
        "# Membership Operators\n",
        "\n",
        "a = 100\n",
        "b = [100, 200, 300, 400, 500]\n",
        "c = 600\n",
        "print (a in b)\n",
        "print (c in b)\n",
        "print (a not in b)\n",
        "print (c not in b)"
      ],
      "metadata": {
        "colab": {
          "base_uri": "https://localhost:8080/"
        },
        "id": "yaN9zsbyC0tc",
        "outputId": "0cd919f9-8c53-4f5f-ad19-b65c63afba30"
      },
      "execution_count": null,
      "outputs": [
        {
          "output_type": "stream",
          "name": "stdout",
          "text": [
            "True\n",
            "False\n",
            "False\n",
            "True\n"
          ]
        }
      ]
    },
    {
      "cell_type": "code",
      "source": [
        "# Identity Operators\n",
        "a = 100\n",
        "b = 20\n",
        "\n",
        "print (a is b)\n",
        "print (a is not b)"
      ],
      "metadata": {
        "colab": {
          "base_uri": "https://localhost:8080/"
        },
        "id": "Mt9oQTAjDrp5",
        "outputId": "28c6da5e-8d15-45de-c27a-a1e452bcb9cf"
      },
      "execution_count": null,
      "outputs": [
        {
          "output_type": "stream",
          "name": "stdout",
          "text": [
            "False\n",
            "True\n"
          ]
        }
      ]
    },
    {
      "cell_type": "code",
      "source": [
        "# 'and' or 'or' statements\n",
        "\n",
        "a = 100\n",
        "b = 20\n",
        "\n",
        "# and operators works only when both the conditions is true\n",
        "if (a > b) and (a != b): #true\n",
        "  print('a is greater than b')\n",
        "\n",
        "if (a > b) and (a == b):\n",
        "  print('a is greater than b') #false\n",
        "\n",
        "# or opeartors one of the condition must be true\n",
        "\n",
        "if (a > b) or (a != b): #true\n",
        "  print('a is greater than b')\n",
        "\n",
        "if (a > b) or (a == b): #false\n",
        "  print('a is greater than b')\n",
        "\n"
      ],
      "metadata": {
        "colab": {
          "base_uri": "https://localhost:8080/"
        },
        "id": "MliF35_GaGDh",
        "outputId": "08922fab-6993-4a90-f13c-a3f76f636e46"
      },
      "execution_count": null,
      "outputs": [
        {
          "output_type": "stream",
          "name": "stdout",
          "text": [
            "a is greater than b\n",
            "a is greater than b\n",
            "a is greater than b\n"
          ]
        }
      ]
    },
    {
      "cell_type": "code",
      "source": [
        "# 'if' and 'else' statements\n",
        "\n",
        "a = 100\n",
        "b = 20\n",
        "\n",
        "if (a > b) and (a != b): #true #and statement\n",
        "  print('true')\n",
        "else:\n",
        "  print('false')\n",
        "\n",
        "if (a > b) and (a == b):# false #and statement\n",
        "    print('true')\n",
        "else:\n",
        "    print('false')\n",
        "\n",
        "if (a > b) or (a == b): #true #or statement\n",
        "  print('true')\n",
        "else:\n",
        "  print('false')\n",
        "\n",
        "if (a > b) or (a == b): # true #or statement\n",
        "  print('true')\n",
        "else:\n",
        "  print('false')\n",
        "\n",
        "if (a < b) or (a ==b): #false\n",
        "  print('true')\n",
        "else:\n",
        "  print('false')"
      ],
      "metadata": {
        "colab": {
          "base_uri": "https://localhost:8080/"
        },
        "id": "yAhIE5MLc7YP",
        "outputId": "527b0386-9026-4779-94d2-09ad1ab82599"
      },
      "execution_count": null,
      "outputs": [
        {
          "output_type": "stream",
          "name": "stdout",
          "text": [
            "true\n",
            "false\n",
            "true\n",
            "true\n",
            "false\n"
          ]
        }
      ]
    },
    {
      "cell_type": "code",
      "source": [
        "percentage = 78\n",
        "percentage = 65\n",
        "percentage = 50\n",
        "percentage = 35\n",
        "\n",
        "if percentage >=75:\n",
        "  print('first class with distinction')\n",
        "elif percentage >=60:\n",
        "  print('first class')\n",
        "elif percentage >=40:\n",
        "  print('second class')\n",
        "else:\n",
        "  print('better luck next time')\n"
      ],
      "metadata": {
        "colab": {
          "base_uri": "https://localhost:8080/"
        },
        "id": "GSgDBITofzcG",
        "outputId": "5c59b0cb-daaf-4be0-f474-80aa540749db"
      },
      "execution_count": null,
      "outputs": [
        {
          "output_type": "stream",
          "name": "stdout",
          "text": [
            "better luck next time\n"
          ]
        }
      ]
    },
    {
      "cell_type": "code",
      "source": [
        "a = 100\n",
        "\n",
        "if a > 25:\n",
        "  print ('a > 25')\n",
        "  if a > 50:\n",
        "    print ('a > 50')\n",
        "    if a > 75:\n",
        "      print ('a > 75')\n",
        "      if a > 100:\n",
        "        print ('a > 100')\n",
        "      if a > 125:\n",
        "        print ('a > 125')\n"
      ],
      "metadata": {
        "colab": {
          "base_uri": "https://localhost:8080/"
        },
        "id": "2HqFsAEdCnNn",
        "outputId": "e5f7df0e-e984-4766-9df6-78f43723ae73"
      },
      "execution_count": null,
      "outputs": [
        {
          "output_type": "stream",
          "name": "stdout",
          "text": [
            "a > 25\n",
            "a > 50\n",
            "a > 75\n"
          ]
        }
      ]
    },
    {
      "cell_type": "code",
      "source": [],
      "metadata": {
        "id": "kVfT2qSwHcSa"
      },
      "execution_count": null,
      "outputs": []
    }
  ]
}