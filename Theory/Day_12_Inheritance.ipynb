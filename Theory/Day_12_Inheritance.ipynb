{
  "nbformat": 4,
  "nbformat_minor": 0,
  "metadata": {
    "colab": {
      "provenance": []
    },
    "kernelspec": {
      "name": "python3",
      "display_name": "Python 3"
    },
    "language_info": {
      "name": "python"
    }
  },
  "cells": [
    {
      "cell_type": "markdown",
      "source": [
        "**Tuesday Aug 22, 2023**\n",
        "\n",
        "**Inheritance**"
      ],
      "metadata": {
        "id": "lA996WDEtAiS"
      }
    },
    {
      "cell_type": "code",
      "source": [
        "class person:\n",
        "  def __init__(self, fname, lname):\n",
        "    self.firstname = fname\n",
        "    self.lastname = lname\n",
        "\n",
        "  def printname(self):\n",
        "    print(self.firstname, ' ', self.lastname)\n"
      ],
      "metadata": {
        "id": "ePqJexzLtSiE"
      },
      "execution_count": null,
      "outputs": []
    },
    {
      "cell_type": "code",
      "source": [
        "class childclass(person):    #pass means pass through\n",
        "  pass"
      ],
      "metadata": {
        "id": "VJSNMoX1uuG4"
      },
      "execution_count": null,
      "outputs": []
    },
    {
      "cell_type": "code",
      "source": [
        "obj2 = childclass('Ganesh','G')\n",
        "obj2.printname()\n"
      ],
      "metadata": {
        "colab": {
          "base_uri": "https://localhost:8080/"
        },
        "id": "YUrC3BKquz6r",
        "outputId": "422891bc-6cf6-4b5a-ff81-be2b167d160d"
      },
      "execution_count": null,
      "outputs": [
        {
          "output_type": "stream",
          "name": "stdout",
          "text": [
            "Ganesh   G\n"
          ]
        }
      ]
    },
    {
      "cell_type": "code",
      "source": [],
      "metadata": {
        "id": "CxoWPD4L7v3O"
      },
      "execution_count": null,
      "outputs": []
    },
    {
      "cell_type": "markdown",
      "source": [
        "==============================================================================="
      ],
      "metadata": {
        "id": "2V2L2rPw7wmk"
      }
    },
    {
      "cell_type": "code",
      "source": [
        "class person:\n",
        "  def __init__(self, fname, lname):\n",
        "    self.firstname = fname\n",
        "    self.lastname = lname\n",
        "\n",
        "  def printname(self):\n",
        "    print(\"class person: \", self.firstname, ' ', self.lastname)"
      ],
      "metadata": {
        "id": "G1g2HM4Swvxz"
      },
      "execution_count": null,
      "outputs": []
    },
    {
      "cell_type": "code",
      "source": [
        "class childperson(person):\n",
        "  def __init__ (self, fname, lastname):\n",
        "    self.firstname = fname\n",
        "    self.lastname = lastname\n",
        "\n",
        "  def printname(self):\n",
        "    print(\"class childperson: \", self.firstname, ' ', self.lastname)\n"
      ],
      "metadata": {
        "id": "x_dZFejfwwBF"
      },
      "execution_count": null,
      "outputs": []
    },
    {
      "cell_type": "code",
      "source": [
        "obj1 = childclass ('Ganesh','G')\n",
        "obj1.printname()"
      ],
      "metadata": {
        "colab": {
          "base_uri": "https://localhost:8080/"
        },
        "id": "0OEv8Mcmxg53",
        "outputId": "f8794084-305e-47c3-c930-ed3007d3abf1"
      },
      "execution_count": null,
      "outputs": [
        {
          "output_type": "stream",
          "name": "stdout",
          "text": [
            "Ganesh   G\n"
          ]
        }
      ]
    },
    {
      "cell_type": "markdown",
      "source": [
        "==========================================================================="
      ],
      "metadata": {
        "id": "UByElznT732T"
      }
    },
    {
      "cell_type": "code",
      "source": [
        "class Vehicle:\n",
        "  def __init__ (self, vname, vtype):\n",
        "    self.vehiclename = vname\n",
        "    self.vehicletype = vtype\n",
        "\n",
        "  def car(self):\n",
        "    print(\"Vehicle: \",self.vehiclename, self.vehicletype)"
      ],
      "metadata": {
        "id": "3DUbcmLYx7-J"
      },
      "execution_count": null,
      "outputs": []
    },
    {
      "cell_type": "code",
      "source": [
        "obj1 = Vehicle ('Tesla','Y')"
      ],
      "metadata": {
        "id": "6c00QvHk3TPx"
      },
      "execution_count": null,
      "outputs": []
    },
    {
      "cell_type": "code",
      "source": [
        "obj1.car()"
      ],
      "metadata": {
        "id": "VCNiD5lb3h2N"
      },
      "execution_count": null,
      "outputs": []
    },
    {
      "cell_type": "code",
      "source": [
        "class Kind(Vehicle):\n",
        "  pass"
      ],
      "metadata": {
        "id": "5E0K3cjP31cm"
      },
      "execution_count": null,
      "outputs": []
    },
    {
      "cell_type": "code",
      "source": [
        "obj2 = Kind('Tesla','Electric')"
      ],
      "metadata": {
        "id": "MDKwD16u6Lsm"
      },
      "execution_count": null,
      "outputs": []
    },
    {
      "cell_type": "code",
      "source": [
        "obj2.car()"
      ],
      "metadata": {
        "id": "HPCnk9aO4ySn"
      },
      "execution_count": null,
      "outputs": []
    },
    {
      "cell_type": "markdown",
      "source": [
        "=============================================================================="
      ],
      "metadata": {
        "id": "4yfENILW78XP"
      }
    },
    {
      "cell_type": "code",
      "source": [
        "class vehicle:\n",
        "  def __init__ (car, name, kind):\n",
        "    car.name = name\n",
        "    car.kind = kind\n",
        "\n",
        "  def printname (car):\n",
        "    print(car.name, ' ', car.kind)\n",
        "\n",
        "class vehicle2(vehicle):\n",
        "  def __init__ (car, name, model, kind):\n",
        "    super(). __init__ (name, kind)\n",
        "    car.model = model\n",
        "    print(car.name, ' ', car.kind, ' ', car.model)\n",
        "\n",
        "obj = vehicle2('Tesla', 'Y', 'Electric')"
      ],
      "metadata": {
        "colab": {
          "base_uri": "https://localhost:8080/"
        },
        "id": "8QL3igG2j3Ma",
        "outputId": "435a221d-01a8-4920-a143-543b7eada1c7"
      },
      "execution_count": null,
      "outputs": [
        {
          "output_type": "stream",
          "name": "stdout",
          "text": [
            "Tesla   Electric   Y\n"
          ]
        }
      ]
    },
    {
      "cell_type": "markdown",
      "source": [
        "======================================================================"
      ],
      "metadata": {
        "id": "oEGpvHRej6HF"
      }
    },
    {
      "cell_type": "code",
      "source": [
        "class Inst_User():\n",
        "  def __init__ (user, name, age, email):\n",
        "    user.name = name\n",
        "    user.age = age\n",
        "    user.email = email\n",
        "\n",
        "  def printname (user):\n",
        "    print(user.name)\n",
        "    print(user.age)\n",
        "    print(user.email)\n",
        "\n",
        "class Inst_User2(Inst_User):\n",
        "  def __init__ (user, name, age, email, phone_no):\n",
        "    super().__init__(name, age, email)\n",
        "    user.phone_no = phone_no\n",
        "\n",
        "  def printname2 (user):\n",
        "    print(user.phone_no)"
      ],
      "metadata": {
        "id": "OmyXcyLt8eJb"
      },
      "execution_count": 7,
      "outputs": []
    },
    {
      "cell_type": "code",
      "source": [
        "obj1 = Inst_User2('Jay', 23, 'jay23@email.com', 1234346)"
      ],
      "metadata": {
        "id": "zybTIjBt-tCP"
      },
      "execution_count": 8,
      "outputs": []
    },
    {
      "cell_type": "code",
      "source": [
        "obj1.printname()\n",
        "obj1.printname2()"
      ],
      "metadata": {
        "colab": {
          "base_uri": "https://localhost:8080/"
        },
        "id": "BV1nMcH5KwiU",
        "outputId": "debe6885-692d-4c05-829d-d0d9a8cfc9f0"
      },
      "execution_count": 9,
      "outputs": [
        {
          "output_type": "stream",
          "name": "stdout",
          "text": [
            "Jay\n",
            "23\n",
            "jay23@email.com\n",
            "1234346\n"
          ]
        }
      ]
    }
  ]
}