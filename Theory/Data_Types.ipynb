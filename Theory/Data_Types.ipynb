{
  "nbformat": 4,
  "nbformat_minor": 0,
  "metadata": {
    "colab": {
      "provenance": []
    },
    "kernelspec": {
      "name": "python3",
      "display_name": "Python 3"
    },
    "language_info": {
      "name": "python"
    }
  },
  "cells": [
    {
      "cell_type": "markdown",
      "source": [
        "hello world\n"
      ],
      "metadata": {
        "id": "zrjMtgDLRtnY"
      }
    },
    {
      "cell_type": "code",
      "source": [
        "name = 'Ganesh'\n",
        "print (type(name))"
      ],
      "metadata": {
        "colab": {
          "base_uri": "https://localhost:8080/"
        },
        "id": "TmmUaUu0AxKN",
        "outputId": "fc91b844-ab6c-4615-f6f5-d7d92d643384"
      },
      "execution_count": null,
      "outputs": [
        {
          "output_type": "stream",
          "name": "stdout",
          "text": [
            "<class 'str'>\n"
          ]
        }
      ]
    },
    {
      "cell_type": "code",
      "source": [
        "print(\"hello world\")"
      ],
      "metadata": {
        "id": "E8bLgwyBWnWN",
        "outputId": "0948971d-9af9-451d-e098-ed87469d03f3",
        "colab": {
          "base_uri": "https://localhost:8080/"
        }
      },
      "execution_count": null,
      "outputs": [
        {
          "output_type": "stream",
          "name": "stdout",
          "text": [
            "hello world\n"
          ]
        }
      ]
    },
    {
      "cell_type": "code",
      "source": [
        "Str1 = 'Data is Future'\n",
        "print (Str1)\n",
        "Str2 = \"Data is Future\"\n",
        "print (Str2)\n",
        "Str3 = '''Data is Future. I am learning 'Data Science'.'''\n",
        "print (Str3)\n",
        "Str4 = \"\"\"Data is Future. I am learning \"Data Science\".\"\"\"\n",
        "print (Str4)\n",
        "print (type(Str4))"
      ],
      "metadata": {
        "colab": {
          "base_uri": "https://localhost:8080/"
        },
        "id": "BJ_MGQIv1ZJm",
        "outputId": "e1b985ab-c3bf-4abe-d8c9-cfe60c9df28e"
      },
      "execution_count": 6,
      "outputs": [
        {
          "output_type": "stream",
          "name": "stdout",
          "text": [
            "Data is Future\n",
            "Data is Future\n",
            "Data is Future. I am learning 'Data Science'.\n",
            "Data is Future. I am learning \"Data Science\".\n",
            "<class 'str'>\n"
          ]
        }
      ]
    },
    {
      "cell_type": "code",
      "source": [
        "lst1 = [1,2,3]\n",
        "lst2 = [1.11, 2.22, -3.33]\n",
        "lst3 = ['True']\n",
        "print(lst1)\n",
        "print(lst2)\n",
        "print(lst3)\n",
        "print(type(lst3))\n",
        "\n",
        "tup1 =(1,2,3)\n",
        "tup2 =(1.11,2.22,3.33)\n",
        "tup3 =('False')\n",
        "print (tup1)\n",
        "print (tup2)\n",
        "print (tup3)\n",
        "print(type(tup1))\n",
        "\n",
        "set1 = {0,1,2,3,'a','b','c',\"Data\",\"Science\",True,False}\n",
        "print (set1)\n",
        "print(type(set1))\n"
      ],
      "metadata": {
        "colab": {
          "base_uri": "https://localhost:8080/"
        },
        "id": "zJQjFz727DqO",
        "outputId": "a7c697c3-12bc-4008-ffdd-3f1f2eefdea5"
      },
      "execution_count": 18,
      "outputs": [
        {
          "output_type": "stream",
          "name": "stdout",
          "text": [
            "[1, 2, 3]\n",
            "[1.11, 2.22, -3.33]\n",
            "['True']\n",
            "<class 'list'>\n",
            "(1, 2, 3)\n",
            "(1.11, 2.22, 3.33)\n",
            "False\n",
            "<class 'tuple'>\n",
            "{0, 1, 2, 3, 'b', 'a', 'c', 'Data', 'Science'}\n",
            "<class 'set'>\n"
          ]
        }
      ]
    },
    {
      "cell_type": "code",
      "source": [
        "dict1 = {'a':'andy', 'x':(1,2,3), 'y':(\"Andy\",\"Barry\",\"Harry\"), 'z':True}\n",
        "print (dict1)\n",
        "print (type(dict1))"
      ],
      "metadata": {
        "colab": {
          "base_uri": "https://localhost:8080/"
        },
        "id": "0_-hBRE-_99A",
        "outputId": "7ca26758-ccde-4305-964c-69f610b41a77"
      },
      "execution_count": 23,
      "outputs": [
        {
          "output_type": "stream",
          "name": "stdout",
          "text": [
            "{'a': 'andy', 'x': (1, 2, 3), 'y': ('Andy', 'Barry', 'Harry'), 'z': True}\n",
            "<class 'dict'>\n"
          ]
        }
      ]
    },
    {
      "cell_type": "code",
      "source": [
        "x = 'GaneshGurung'\n",
        "print (x)\n",
        "print (type(x))\n",
        "print (len(x))\n",
        "print (x[0])\n",
        "print (x[1])\n",
        "print (x[2])\n",
        "print (x[3])\n",
        "print (x[4])\n",
        "print (x[5])\n",
        "print (x[6])\n",
        "print (x[7])\n",
        "print (x[8])\n",
        "print (x[9])\n",
        "print (x[10])\n",
        "print (x[11])\n",
        "print (x[0:6:1], x[6:12:1])\n",
        "print (x[0:6:6], x[6:12:6])\n"
      ],
      "metadata": {
        "colab": {
          "base_uri": "https://localhost:8080/"
        },
        "id": "4Ccx-ik6B9w_",
        "outputId": "2182fb79-1b7d-4a26-fafc-36ba565aca93"
      },
      "execution_count": 56,
      "outputs": [
        {
          "output_type": "stream",
          "name": "stdout",
          "text": [
            "GaneshGurung\n",
            "<class 'str'>\n",
            "12\n",
            "G\n",
            "a\n",
            "n\n",
            "e\n",
            "s\n",
            "h\n",
            "G\n",
            "u\n",
            "r\n",
            "u\n",
            "n\n",
            "g\n",
            "Ganesh Gurung\n",
            "G G\n"
          ]
        }
      ]
    },
    {
      "cell_type": "code",
      "source": [
        "\n",
        "x[0:6:1], x[6:12:1]\n"
      ],
      "metadata": {
        "colab": {
          "base_uri": "https://localhost:8080/"
        },
        "id": "0YtUZMNNGy2Q",
        "outputId": "8714446b-1c7a-45a0-8c77-68a81b21a96e"
      },
      "execution_count": 57,
      "outputs": [
        {
          "output_type": "execute_result",
          "data": {
            "text/plain": [
              "('Ganesh', 'Gurung')"
            ]
          },
          "metadata": {},
          "execution_count": 57
        }
      ]
    },
    {
      "cell_type": "code",
      "source": [
        "x[:6:], x[6:12:], x[:len(x):], x[:12:]"
      ],
      "metadata": {
        "colab": {
          "base_uri": "https://localhost:8080/"
        },
        "id": "Hfi2lBm_I8St",
        "outputId": "166fbc80-23d7-40ae-9ec1-c721e7aa0e27"
      },
      "execution_count": 65,
      "outputs": [
        {
          "output_type": "execute_result",
          "data": {
            "text/plain": [
              "('Ganesh', 'Gurung', 'GaneshGurung', 'GaneshGurung')"
            ]
          },
          "metadata": {},
          "execution_count": 65
        }
      ]
    },
    {
      "cell_type": "code",
      "source": [
        "x[0:6:6], x[6:12:6]"
      ],
      "metadata": {
        "colab": {
          "base_uri": "https://localhost:8080/"
        },
        "id": "7f60329TG7BQ",
        "outputId": "ef008792-cdb9-4098-b937-27d751f73214"
      },
      "execution_count": 54,
      "outputs": [
        {
          "output_type": "execute_result",
          "data": {
            "text/plain": [
              "('G', 'G')"
            ]
          },
          "metadata": {},
          "execution_count": 54
        }
      ]
    }
  ]
}