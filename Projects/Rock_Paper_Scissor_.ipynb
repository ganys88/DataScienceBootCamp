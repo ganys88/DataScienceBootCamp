{
  "nbformat": 4,
  "nbformat_minor": 0,
  "metadata": {
    "colab": {
      "provenance": []
    },
    "kernelspec": {
      "name": "python3",
      "display_name": "Python 3"
    },
    "language_info": {
      "name": "python"
    }
  },
  "cells": [
    {
      "cell_type": "code",
      "execution_count": 1,
      "metadata": {
        "colab": {
          "base_uri": "https://localhost:8080/"
        },
        "id": "RnQV6qdNIFx-",
        "outputId": "2d0d8b08-7906-45aa-8328-92cdda24edcf"
      },
      "outputs": [
        {
          "name": "stdout",
          "output_type": "stream",
          "text": [
            "Enter your choice: rick\n",
            "Invalid action. Please try again.\n",
            "Enter your choice: rock\n",
            "Both players selected rock. It's a tie!\n",
            "Paper covers rock! You lose.\n",
            "Play again? (y/n): y\n",
            "Enter your choice: rock\n",
            "Both players selected rock. It's a tie!\n",
            "Paper covers rock! You lose.\n",
            "Play again? (y/n): y\n",
            "Enter your choice: rock\n",
            "Rock smashes scissors! You win!\n",
            "Play again? (y/n): n\n"
          ]
        }
      ],
      "source": [
        "import random\n",
        "\n",
        "while True:\n",
        "    possible_actions = [\"rock\", \"paper\", \"scissors\"]\n",
        "    computer_action = random.choice(possible_actions)\n",
        "\n",
        "    player_action = input(\"Enter your choice: \")\n",
        "\n",
        "    if player_action not in possible_actions:\n",
        "        print(\"Invalid action. Please try again.\")\n",
        "        continue\n",
        "\n",
        "    if player_action == computer_action:\n",
        "        print(f\"Both players selected {player_action}. It's a tie!\")\n",
        "\n",
        "    if player_action == \"rock\":\n",
        "        if computer_action == \"scissors\":\n",
        "            print(\"Rock smashes scissors! You win!\")\n",
        "        else:\n",
        "            print(\"Paper covers rock! You lose.\")\n",
        "\n",
        "    if player_action == \"paper\":\n",
        "        if computer_action == \"rock\":\n",
        "            print(\"Paper covers rock! You win!\")\n",
        "        else:\n",
        "            print(\"Scissors cuts paper! You lose.\")\n",
        "\n",
        "    if player_action == \"scissors\":\n",
        "        if computer_action == \"paper\":\n",
        "            print(\"Scissors cuts paper! You win!\")\n",
        "        else:\n",
        "            print(\"Rock smashes scissors! You lose.\")\n",
        "\n",
        "    play_again = input(\"Play again? (y/n): \")\n",
        "    if play_again.lower() != \"y\":\n",
        "        break"
      ]
    }
  ]
}