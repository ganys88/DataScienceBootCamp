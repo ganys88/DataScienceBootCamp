{
  "nbformat": 4,
  "nbformat_minor": 0,
  "metadata": {
    "colab": {
      "provenance": []
    },
    "kernelspec": {
      "name": "python3",
      "display_name": "Python 3"
    },
    "language_info": {
      "name": "python"
    }
  },
  "cells": [
    {
      "cell_type": "code",
      "source": [
        "dir(set)"
      ],
      "metadata": {
        "colab": {
          "base_uri": "https://localhost:8080/"
        },
        "id": "6h1d6mi3gA_8",
        "outputId": "be4b4e34-edd3-4987-e87f-a4ae315ed95b"
      },
      "execution_count": 1,
      "outputs": [
        {
          "output_type": "execute_result",
          "data": {
            "text/plain": [
              "['__and__',\n",
              " '__class__',\n",
              " '__class_getitem__',\n",
              " '__contains__',\n",
              " '__delattr__',\n",
              " '__dir__',\n",
              " '__doc__',\n",
              " '__eq__',\n",
              " '__format__',\n",
              " '__ge__',\n",
              " '__getattribute__',\n",
              " '__gt__',\n",
              " '__hash__',\n",
              " '__iand__',\n",
              " '__init__',\n",
              " '__init_subclass__',\n",
              " '__ior__',\n",
              " '__isub__',\n",
              " '__iter__',\n",
              " '__ixor__',\n",
              " '__le__',\n",
              " '__len__',\n",
              " '__lt__',\n",
              " '__ne__',\n",
              " '__new__',\n",
              " '__or__',\n",
              " '__rand__',\n",
              " '__reduce__',\n",
              " '__reduce_ex__',\n",
              " '__repr__',\n",
              " '__ror__',\n",
              " '__rsub__',\n",
              " '__rxor__',\n",
              " '__setattr__',\n",
              " '__sizeof__',\n",
              " '__str__',\n",
              " '__sub__',\n",
              " '__subclasshook__',\n",
              " '__xor__',\n",
              " 'add',\n",
              " 'clear',\n",
              " 'copy',\n",
              " 'difference',\n",
              " 'difference_update',\n",
              " 'discard',\n",
              " 'intersection',\n",
              " 'intersection_update',\n",
              " 'isdisjoint',\n",
              " 'issubset',\n",
              " 'issuperset',\n",
              " 'pop',\n",
              " 'remove',\n",
              " 'symmetric_difference',\n",
              " 'symmetric_difference_update',\n",
              " 'union',\n",
              " 'update']"
            ]
          },
          "metadata": {},
          "execution_count": 1
        }
      ]
    },
    {
      "cell_type": "code",
      "source": [
        "set1 = {1,2,3,4,5}\n",
        "set2 = {10,20,30,40,50}\n",
        "set3 = {'Hello','class','how','are','you'}\n"
      ],
      "metadata": {
        "id": "h_HM5zHfgG0w"
      },
      "execution_count": 14,
      "outputs": []
    },
    {
      "cell_type": "code",
      "source": [
        "set1.add(6)\n",
        "print(set1)\n",
        "set3.add('good?')\n",
        "print(set3)"
      ],
      "metadata": {
        "colab": {
          "base_uri": "https://localhost:8080/"
        },
        "id": "6-uOnlEuhCfN",
        "outputId": "5dd588c4-ab48-4351-a653-a3b99eafbf73"
      },
      "execution_count": 5,
      "outputs": [
        {
          "output_type": "stream",
          "name": "stdout",
          "text": [
            "{1, 2, 3, 4, 5, 6}\n",
            "{'class', 'good?', 'you', 'are', 'Hello', 'how'}\n"
          ]
        }
      ]
    },
    {
      "cell_type": "code",
      "source": [
        "set1.clear()\n",
        "print(set1)\n",
        "set3.clear()\n",
        "print(set3)"
      ],
      "metadata": {
        "colab": {
          "base_uri": "https://localhost:8080/"
        },
        "id": "iVQ9uQ1who5_",
        "outputId": "c15ffd2e-0396-4847-e41f-a97e2d3e70da"
      },
      "execution_count": 12,
      "outputs": [
        {
          "output_type": "stream",
          "name": "stdout",
          "text": [
            "set()\n",
            "set()\n"
          ]
        }
      ]
    },
    {
      "cell_type": "code",
      "source": [
        "set4=set3.copy()\n",
        "print(set4)\n",
        "set4.add('anybody sleepy?')\n",
        "print(set4)"
      ],
      "metadata": {
        "colab": {
          "base_uri": "https://localhost:8080/"
        },
        "id": "sDfT7QfwijDW",
        "outputId": "b855c65d-5b7a-4395-f76c-56bc778057c0"
      },
      "execution_count": 16,
      "outputs": [
        {
          "output_type": "stream",
          "name": "stdout",
          "text": [
            "{'class', 'you', 'are', 'Hello', 'how'}\n",
            "{'class', 'anybody sleepy?', 'you', 'are', 'Hello', 'how'}\n"
          ]
        }
      ]
    },
    {
      "cell_type": "code",
      "source": [
        "x = {10,20,30,500,600}\n",
        "y = {50,60,500,600}\n",
        "i = {'a','b','c','d'}\n",
        "j = {'abcd'}\n",
        "k = {'a','b','c','d','e','x','y','z'}\n",
        "l = {'x','y','z'}\n",
        "\n",
        "print(x.difference(y))\n",
        "print(i.difference(j))\n",
        "print(i.difference(k))\n",
        "print(k.difference(l))"
      ],
      "metadata": {
        "colab": {
          "base_uri": "https://localhost:8080/"
        },
        "id": "IEop4sPUjdLo",
        "outputId": "07c9bc35-2e5e-4fa3-f2d8-3718d6540f71"
      },
      "execution_count": 23,
      "outputs": [
        {
          "output_type": "stream",
          "name": "stdout",
          "text": [
            "{10, 20, 30}\n",
            "{'d', 'b', 'a', 'c'}\n",
            "set()\n",
            "{'d', 'a', 'c', 'e', 'b'}\n"
          ]
        }
      ]
    },
    {
      "cell_type": "code",
      "source": [
        "x = {10,20,30,500,600}\n",
        "y = {50,60,500,600}\n",
        "set1 = {'hello','class','how','are','you','good','and','awake?'}\n",
        "set2 = {'hello','class','how','are','you'}\n",
        "\n",
        "x.difference_update(y)\n",
        "print(x)\n",
        "set1.difference_update(set2)\n",
        "print(set1)"
      ],
      "metadata": {
        "colab": {
          "base_uri": "https://localhost:8080/"
        },
        "id": "ZttQE-vhl4Z4",
        "outputId": "5cd1c8df-5c44-4ba7-e8de-3eb41f073ea2"
      },
      "execution_count": 33,
      "outputs": [
        {
          "output_type": "stream",
          "name": "stdout",
          "text": [
            "{20, 10, 30}\n",
            "{'awake?', 'good', 'and'}\n"
          ]
        }
      ]
    },
    {
      "cell_type": "code",
      "source": [
        "set1 = {1,2,3,4,5,10,20,30}\n",
        "set2 = {10,20,30,40,50}\n",
        "i = {'a','b','c','d'}\n",
        "j = {'abcd'}\n",
        "\n",
        "print(set1.intersection(set2))\n",
        "print(set1.intersection(i))"
      ],
      "metadata": {
        "colab": {
          "base_uri": "https://localhost:8080/"
        },
        "id": "2B2wWvUdnoX1",
        "outputId": "da9b910a-1dc5-4668-de93-58adb64ecc76"
      },
      "execution_count": 40,
      "outputs": [
        {
          "output_type": "stream",
          "name": "stdout",
          "text": [
            "{10, 20, 30}\n",
            "set()\n"
          ]
        }
      ]
    },
    {
      "cell_type": "code",
      "source": [
        "set1 = {1,2,3,4,5,10,20,30}\n",
        "set2 = {10,20,30,40,50}\n",
        "i = {'a','b','c','d'}\n",
        "j = {'abcd'}\n",
        "\n",
        "set1.intersection_update(set2)\n",
        "print(set1)\n",
        "set1.intersection_update(i)\n",
        "print(set1)"
      ],
      "metadata": {
        "colab": {
          "base_uri": "https://localhost:8080/"
        },
        "id": "C8YcOp1angfp",
        "outputId": "505854ab-9440-4d57-b738-561d897d2cb9"
      },
      "execution_count": 42,
      "outputs": [
        {
          "output_type": "stream",
          "name": "stdout",
          "text": [
            "{10, 20, 30}\n",
            "set()\n"
          ]
        }
      ]
    },
    {
      "cell_type": "code",
      "source": [
        "set1 = {1,2,3,4,5,'abcd'}\n",
        "\n",
        "set1.discard('abcd')\n",
        "print(set1)"
      ],
      "metadata": {
        "colab": {
          "base_uri": "https://localhost:8080/"
        },
        "id": "zLqlbBVeo6c1",
        "outputId": "84a5c8e6-4ea8-4a76-ab57-f498879b097b"
      },
      "execution_count": 43,
      "outputs": [
        {
          "output_type": "stream",
          "name": "stdout",
          "text": [
            "{1, 2, 3, 4, 5}\n"
          ]
        }
      ]
    },
    {
      "cell_type": "code",
      "source": [
        "set1 = {1,2,3,4,5}\n",
        "set2 = {'abcd'}\n",
        "set3 = {1,2,3,4,5,'abcd'}\n",
        "\n",
        "print(set1.isdisjoint(set2))\n",
        "print(set1.isdisjoint(set3))\n",
        "print(set2.isdisjoint(set3))\n"
      ],
      "metadata": {
        "colab": {
          "base_uri": "https://localhost:8080/"
        },
        "id": "lWXkVG5Sq5U0",
        "outputId": "7f2ddcaa-0cc0-47db-e61d-640ab561ca2d"
      },
      "execution_count": 44,
      "outputs": [
        {
          "output_type": "stream",
          "name": "stdout",
          "text": [
            "True\n",
            "False\n",
            "False\n"
          ]
        }
      ]
    },
    {
      "cell_type": "code",
      "source": [
        "set1 = {1,2,3,4,5}\n",
        "set2 = {'abcd'}\n",
        "set3 = {1,2,3,4,5,'abcd'}\n",
        "\n",
        "print(set1.issubset(set2))\n",
        "print(set1.issubset(set3))\n",
        "print(set2.issubset(set3))"
      ],
      "metadata": {
        "colab": {
          "base_uri": "https://localhost:8080/"
        },
        "id": "06G6ol9Pri53",
        "outputId": "4af5fc7a-89d2-482e-9a36-6db7e5feb422"
      },
      "execution_count": 45,
      "outputs": [
        {
          "output_type": "stream",
          "name": "stdout",
          "text": [
            "False\n",
            "True\n",
            "True\n"
          ]
        }
      ]
    },
    {
      "cell_type": "code",
      "source": [
        "set1 = {1,2,3,4,5}\n",
        "set2 = {'abcd'}\n",
        "set3 = {1,2,3,4,5,'abcd'}\n",
        "\n",
        "print(set1.issuperset(set2))\n",
        "print(set1.issuperset(set3))\n",
        "print(set2.issuperset(set3))\n",
        "print(set3.issuperset(set2))\n",
        "print(set3.issuperset(set1))"
      ],
      "metadata": {
        "colab": {
          "base_uri": "https://localhost:8080/"
        },
        "id": "2ni6raGgryv1",
        "outputId": "831abed7-33c8-48bb-c026-67468d57af0a"
      },
      "execution_count": 47,
      "outputs": [
        {
          "output_type": "stream",
          "name": "stdout",
          "text": [
            "False\n",
            "False\n",
            "False\n",
            "True\n",
            "True\n"
          ]
        }
      ]
    },
    {
      "cell_type": "code",
      "source": [
        "a = {'hello','class','how','are','you'}\n",
        "b = [1,2,3,4,5]\n",
        "\n",
        "print(a.pop())\n",
        "print(a)\n",
        "print(b.pop())\n",
        "print(b)"
      ],
      "metadata": {
        "colab": {
          "base_uri": "https://localhost:8080/"
        },
        "id": "KFVL4p9fsWTK",
        "outputId": "c7937ed8-7c06-443f-ad41-0892b1e78b25"
      },
      "execution_count": 72,
      "outputs": [
        {
          "output_type": "stream",
          "name": "stdout",
          "text": [
            "class\n",
            "{'you', 'are', 'hello', 'how'}\n",
            "5\n",
            "[1, 2, 3, 4]\n"
          ]
        }
      ]
    },
    {
      "cell_type": "code",
      "source": [
        "a = {'hello','class','how','are','you'}\n",
        "b = [1,2,3,4,5]\n",
        "\n",
        "a.remove('class')\n",
        "print(a)\n",
        "b.remove(5)\n",
        "print(b)\n",
        "b.remove(1)\n",
        "print(b)\n",
        "b.remove(3)\n",
        "print(b)\n"
      ],
      "metadata": {
        "colab": {
          "base_uri": "https://localhost:8080/"
        },
        "id": "RGKpmAbMt1SU",
        "outputId": "a6c3583a-a2d6-4c90-f658-fb7a7da3651e"
      },
      "execution_count": 79,
      "outputs": [
        {
          "output_type": "stream",
          "name": "stdout",
          "text": [
            "{'you', 'are', 'hello', 'how'}\n",
            "[1, 2, 3, 4]\n",
            "[2, 3, 4]\n",
            "[2, 4]\n"
          ]
        }
      ]
    },
    {
      "cell_type": "code",
      "source": [
        "A = {'a', 'b', 'c', 'd'}\n",
        "B = {'c', 'd', 'e' }\n",
        "\n",
        "result = A.symmetric_difference(B)\n",
        "print(result)"
      ],
      "metadata": {
        "colab": {
          "base_uri": "https://localhost:8080/"
        },
        "id": "8-UDtm3KvDCN",
        "outputId": "c63e02cc-d6ad-4fbc-8da3-b4286a303657"
      },
      "execution_count": 87,
      "outputs": [
        {
          "output_type": "stream",
          "name": "stdout",
          "text": [
            "{'a', 'e', 'b'}\n"
          ]
        }
      ]
    },
    {
      "cell_type": "code",
      "source": [
        "A = {'a', 'b', 'c', 'd'}\n",
        "B = {'c', 'd', 'e' }\n",
        "\n",
        "A.symmetric_difference_update(B)\n",
        "print(A)"
      ],
      "metadata": {
        "colab": {
          "base_uri": "https://localhost:8080/"
        },
        "id": "j3OARj3qwVB0",
        "outputId": "57378f7f-5851-422e-cc8e-398ef317a362"
      },
      "execution_count": 88,
      "outputs": [
        {
          "output_type": "stream",
          "name": "stdout",
          "text": [
            "{'b', 'a', 'e'}\n"
          ]
        }
      ]
    },
    {
      "cell_type": "code",
      "source": [
        "A = {'a', 'b', 'c', 'd'}\n",
        "B = {'c', 'd', 'e' }\n",
        "\n",
        "print(A.union(B))\n",
        "union = A.union(B)\n",
        "print(union)"
      ],
      "metadata": {
        "colab": {
          "base_uri": "https://localhost:8080/"
        },
        "id": "K--QzXk7wSn6",
        "outputId": "344d19db-3ed4-4dc3-a824-d4966497202b"
      },
      "execution_count": 97,
      "outputs": [
        {
          "output_type": "stream",
          "name": "stdout",
          "text": [
            "{'a', 'c', 'e', 'd', 'b'}\n",
            "{'a', 'c', 'e', 'd', 'b'}\n"
          ]
        }
      ]
    },
    {
      "cell_type": "code",
      "source": [
        "A = {'a', 'b', 'c', 'd'}\n",
        "B = {'c', 'd', 'e' }\n",
        "\n",
        "difference = A.difference(B)\n",
        "print(difference)\n"
      ],
      "metadata": {
        "colab": {
          "base_uri": "https://localhost:8080/"
        },
        "id": "SZ_A_-x4xyjZ",
        "outputId": "9a6de9f4-f9f1-4105-e441-b2ce779fb992"
      },
      "execution_count": 96,
      "outputs": [
        {
          "output_type": "stream",
          "name": "stdout",
          "text": [
            "{'b', 'a'}\n"
          ]
        }
      ]
    }
  ]
}