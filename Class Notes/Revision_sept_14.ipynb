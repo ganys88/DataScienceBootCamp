{
  "nbformat": 4,
  "nbformat_minor": 0,
  "metadata": {
    "colab": {
      "provenance": []
    },
    "kernelspec": {
      "name": "python3",
      "display_name": "Python 3"
    },
    "language_info": {
      "name": "python"
    }
  },
  "cells": [
    {
      "cell_type": "code",
      "source": [
        "# lambda - is an ananymous function"
      ],
      "metadata": {
        "id": "nIQduV6xPrFk"
      },
      "execution_count": null,
      "outputs": []
    },
    {
      "cell_type": "code",
      "execution_count": 1,
      "metadata": {
        "colab": {
          "base_uri": "https://localhost:8080/"
        },
        "id": "YDh5kLgQM5as",
        "outputId": "8d387d74-dc5a-4758-96b0-54567d475003"
      },
      "outputs": [
        {
          "output_type": "execute_result",
          "data": {
            "text/plain": [
              "100"
            ]
          },
          "metadata": {},
          "execution_count": 1
        }
      ],
      "source": [
        "a = lambda x,y : x*y\n",
        "a(10,10)"
      ]
    },
    {
      "cell_type": "code",
      "source": [
        "str1 = \"Python Programming\"\n",
        "x = lambda str1:str1.upper()\n",
        "x(str1)"
      ],
      "metadata": {
        "colab": {
          "base_uri": "https://localhost:8080/",
          "height": 36
        },
        "id": "iPnCT2FVOC8T",
        "outputId": "a43462fe-cd63-466f-8356-35f44ec9057f"
      },
      "execution_count": 2,
      "outputs": [
        {
          "output_type": "execute_result",
          "data": {
            "text/plain": [
              "'PYTHON PROGRAMMING'"
            ],
            "application/vnd.google.colaboratory.intrinsic+json": {
              "type": "string"
            }
          },
          "metadata": {},
          "execution_count": 2
        }
      ]
    },
    {
      "cell_type": "code",
      "source": [
        "str1 = \"Python Programming\"\n",
        "str1.upper()"
      ],
      "metadata": {
        "colab": {
          "base_uri": "https://localhost:8080/",
          "height": 36
        },
        "id": "oD_lejqrOWSi",
        "outputId": "b95255e7-da73-4c77-944e-3a755051656d"
      },
      "execution_count": 3,
      "outputs": [
        {
          "output_type": "execute_result",
          "data": {
            "text/plain": [
              "'PYTHON PROGRAMMING'"
            ],
            "application/vnd.google.colaboratory.intrinsic+json": {
              "type": "string"
            }
          },
          "metadata": {},
          "execution_count": 3
        }
      ]
    },
    {
      "cell_type": "code",
      "source": [
        "x = lambda a,b:a if (a > b) else b\n",
        "x(10,10)"
      ],
      "metadata": {
        "colab": {
          "base_uri": "https://localhost:8080/"
        },
        "id": "rgCDYbtOOiFo",
        "outputId": "98e34251-dc89-47d5-c1ae-0c7917092c55"
      },
      "execution_count": 4,
      "outputs": [
        {
          "output_type": "execute_result",
          "data": {
            "text/plain": [
              "10"
            ]
          },
          "metadata": {},
          "execution_count": 4
        }
      ]
    },
    {
      "cell_type": "code",
      "source": [
        "# *args, **kwargs"
      ],
      "metadata": {
        "id": "Z4G4bqgcPkJm"
      },
      "execution_count": null,
      "outputs": []
    },
    {
      "cell_type": "code",
      "source": [
        "def func_one(a,b):\n",
        "  return a*b\n",
        "func_one(10,10)"
      ],
      "metadata": {
        "colab": {
          "base_uri": "https://localhost:8080/"
        },
        "id": "Q3rs5I1LPtRr",
        "outputId": "c9c62687-5f5a-400b-f41a-65f60302c2e1"
      },
      "execution_count": 5,
      "outputs": [
        {
          "output_type": "execute_result",
          "data": {
            "text/plain": [
              "100"
            ]
          },
          "metadata": {},
          "execution_count": 5
        }
      ]
    },
    {
      "cell_type": "code",
      "source": [
        "def func_two(*args):\n",
        "  return args\n",
        "\n",
        "func_two(12,23,34,45,67)"
      ],
      "metadata": {
        "colab": {
          "base_uri": "https://localhost:8080/"
        },
        "id": "9wael7loR1id",
        "outputId": "130c6d93-f982-4fa4-bb08-4420af0096a0"
      },
      "execution_count": 7,
      "outputs": [
        {
          "output_type": "execute_result",
          "data": {
            "text/plain": [
              "(12, 23, 34, 45, 67)"
            ]
          },
          "metadata": {},
          "execution_count": 7
        }
      ]
    },
    {
      "cell_type": "code",
      "source": [
        "def func_two(*employee_data):      # can put any name for '*args'\n",
        "  return employee_data\n",
        "func_two('Rohit','Anurag','Nirusha')"
      ],
      "metadata": {
        "colab": {
          "base_uri": "https://localhost:8080/"
        },
        "id": "SzDzpzJcSJTE",
        "outputId": "172ada57-473d-43cc-9065-1f58fd922b0f"
      },
      "execution_count": 8,
      "outputs": [
        {
          "output_type": "execute_result",
          "data": {
            "text/plain": [
              "('Rohit', 'Anurag', 'Nirusha')"
            ]
          },
          "metadata": {},
          "execution_count": 8
        }
      ]
    },
    {
      "cell_type": "code",
      "source": [
        "def func_three(**kwargs):\n",
        "  return kwargs\n",
        "\n",
        "func_three(analyst = 'Anurag', Engineer = 'Rohit', Organizer = 'Nirusha')"
      ],
      "metadata": {
        "colab": {
          "base_uri": "https://localhost:8080/"
        },
        "id": "MFkTOguMSh0Z",
        "outputId": "647d1e40-ac87-4f9d-ed00-063926cca94a"
      },
      "execution_count": 9,
      "outputs": [
        {
          "output_type": "execute_result",
          "data": {
            "text/plain": [
              "{'analyst': 'Anurag', 'Engineer': 'Rohit', 'Organizer': 'Nirusha'}"
            ]
          },
          "metadata": {},
          "execution_count": 9
        }
      ]
    },
    {
      "cell_type": "code",
      "source": [
        "def func_three(**employee_data2):   # can put any name for '**kwargs'\n",
        "  return employee_data2\n",
        "\n",
        "func_three(analyst = 'Anurag', Engineer = 'Rohit', Organizer = 'Nirusha')"
      ],
      "metadata": {
        "colab": {
          "base_uri": "https://localhost:8080/"
        },
        "id": "aefsObcQTHJF",
        "outputId": "169261c5-8f8b-430e-a97a-4215520b8bb5"
      },
      "execution_count": 10,
      "outputs": [
        {
          "output_type": "execute_result",
          "data": {
            "text/plain": [
              "{'analyst': 'Anurag', 'Engineer': 'Rohit', 'Organizer': 'Nirusha'}"
            ]
          },
          "metadata": {},
          "execution_count": 10
        }
      ]
    },
    {
      "cell_type": "code",
      "source": [
        "def func_four(a,b,*args,**kwargs):      # this should be the sequence\n",
        "  return a,b,args,kwargs"
      ],
      "metadata": {
        "id": "m_uFsLtSTZR9"
      },
      "execution_count": null,
      "outputs": []
    },
    {
      "cell_type": "code",
      "source": [
        "#pandas\n",
        "import pandas as pd"
      ],
      "metadata": {
        "id": "56EfFU6iTm98"
      },
      "execution_count": 11,
      "outputs": []
    },
    {
      "cell_type": "code",
      "source": [
        "employee_data = pd.read_csv('/content/employee_data.csv')"
      ],
      "metadata": {
        "id": "5mChdGcYVZZi"
      },
      "execution_count": 12,
      "outputs": []
    },
    {
      "cell_type": "code",
      "source": [
        "employee_data"
      ],
      "metadata": {
        "id": "nkSc8ZQjVZpb"
      },
      "execution_count": null,
      "outputs": []
    },
    {
      "cell_type": "code",
      "source": [
        "employee_data.to_excel('employee_excel_data.xlsx') # convert to xlsx"
      ],
      "metadata": {
        "id": "yxStsdFLVt0E"
      },
      "execution_count": 19,
      "outputs": []
    },
    {
      "cell_type": "code",
      "source": [
        "employee_data.to_html('employee_html_data.html')  #convert to html"
      ],
      "metadata": {
        "id": "t5I3HYz2WKIo"
      },
      "execution_count": 21,
      "outputs": []
    }
  ]
}