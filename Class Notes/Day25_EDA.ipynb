{
  "nbformat": 4,
  "nbformat_minor": 0,
  "metadata": {
    "colab": {
      "provenance": []
    },
    "kernelspec": {
      "name": "python3",
      "display_name": "Python 3"
    },
    "language_info": {
      "name": "python"
    }
  },
  "cells": [
    {
      "cell_type": "markdown",
      "source": [
        "# Exploratory Data Analysis"
      ],
      "metadata": {
        "id": "r-MKb3xjQc0Z"
      }
    },
    {
      "cell_type": "markdown",
      "source": [
        "EDA is used by data scientists to analyze data sets employing data visualization method. Graphs, Charts, Graphs, Pie-charts."
      ],
      "metadata": {
        "id": "5Th7ZdqpQw-Y"
      }
    },
    {
      "cell_type": "code",
      "execution_count": 1,
      "metadata": {
        "id": "tViPExosQGyu"
      },
      "outputs": [],
      "source": [
        "import numpy as np\n",
        "import pandas as pd\n",
        "import matplotlib.pyplot as plt\n",
        "import seaborn as sns\n",
        "%matplotlib inline"
      ]
    },
    {
      "cell_type": "code",
      "source": [
        "path = '/content/zomato.csv'\n",
        "df_zomato = pd.read_csv(path, encoding='latin-1')\n",
        "df_zomato"
      ],
      "metadata": {
        "id": "c7PuqFQLTsce"
      },
      "execution_count": null,
      "outputs": []
    },
    {
      "cell_type": "code",
      "source": [
        "df_zomato.head(10)              #top 10 results"
      ],
      "metadata": {
        "id": "NFB0UDiTUeRa"
      },
      "execution_count": null,
      "outputs": []
    },
    {
      "cell_type": "code",
      "source": [
        "df_zomato.tail(10)"
      ],
      "metadata": {
        "id": "Yb_eZamlVr9B"
      },
      "execution_count": null,
      "outputs": []
    },
    {
      "cell_type": "code",
      "source": [
        "df_zomato.info()"
      ],
      "metadata": {
        "id": "IctJC0w_Ueb9"
      },
      "execution_count": null,
      "outputs": []
    },
    {
      "cell_type": "code",
      "source": [
        "df_zomato.columns"
      ],
      "metadata": {
        "id": "nFCsQsarUee2"
      },
      "execution_count": null,
      "outputs": []
    },
    {
      "cell_type": "code",
      "source": [
        "df_zomato.describe()"
      ],
      "metadata": {
        "id": "b2B0bmhdUehu"
      },
      "execution_count": null,
      "outputs": []
    },
    {
      "cell_type": "code",
      "source": [
        "df_zomato"
      ],
      "metadata": {
        "id": "03Ct34wDV3Fj"
      },
      "execution_count": null,
      "outputs": []
    },
    {
      "cell_type": "code",
      "source": [
        "df_zomato.shape"
      ],
      "metadata": {
        "id": "OQfl0pJAV237"
      },
      "execution_count": null,
      "outputs": []
    },
    {
      "cell_type": "code",
      "source": [
        "df_zomato.City.unique()"
      ],
      "metadata": {
        "id": "vFNgpNgaYYiy"
      },
      "execution_count": null,
      "outputs": []
    },
    {
      "cell_type": "code",
      "source": [
        "df_zomato[['City','Rating text']]"
      ],
      "metadata": {
        "id": "pqm7y5-9V2rw"
      },
      "execution_count": null,
      "outputs": []
    },
    {
      "cell_type": "code",
      "source": [
        "df_zomato[(df_zomato.City == 'Makati City')]"
      ],
      "metadata": {
        "id": "abydjUGVpQV7"
      },
      "execution_count": null,
      "outputs": []
    },
    {
      "cell_type": "code",
      "source": [
        "df_zomato"
      ],
      "metadata": {
        "id": "FjpAfmklsL9E"
      },
      "execution_count": null,
      "outputs": []
    },
    {
      "cell_type": "markdown",
      "source": [
        "# **In Data Analysis What All Things We Do:**\n",
        "\n",
        "1. Missing Values\n",
        "2. Explore About the Numerical Variables\n",
        "3. Explore About categorical Variables\n",
        "4. Finding Relationship between features\n",
        "\n"
      ],
      "metadata": {
        "id": "uY0KxrhBY72a"
      }
    },
    {
      "cell_type": "code",
      "source": [
        "df_zomato.isna().sum()"
      ],
      "metadata": {
        "id": "XDmO9_FWUek1"
      },
      "execution_count": null,
      "outputs": []
    },
    {
      "cell_type": "code",
      "source": [
        "df_zomato.isnull()"
      ],
      "metadata": {
        "id": "CT0KXIw8Vzfc"
      },
      "execution_count": null,
      "outputs": []
    },
    {
      "cell_type": "code",
      "source": [
        "df_zomato.isnull().sum()"
      ],
      "metadata": {
        "id": "QmujlOeRUeoV"
      },
      "execution_count": null,
      "outputs": []
    },
    {
      "cell_type": "code",
      "source": [
        "df_zomato.columns"
      ],
      "metadata": {
        "colab": {
          "base_uri": "https://localhost:8080/"
        },
        "id": "i6EwXaM1eB8e",
        "outputId": "d8e0d9ef-4ad7-42d5-9dab-8e1030924dc8"
      },
      "execution_count": 31,
      "outputs": [
        {
          "output_type": "execute_result",
          "data": {
            "text/plain": [
              "Index(['Restaurant ID', 'Restaurant Name', 'Country Code', 'City', 'Address',\n",
              "       'Locality', 'Locality Verbose', 'Longitude', 'Latitude', 'Cuisines',\n",
              "       'Average Cost for two', 'Currency', 'Has Table booking',\n",
              "       'Has Online delivery', 'Is delivering now', 'Switch to order menu',\n",
              "       'Price range', 'Aggregate rating', 'Rating color', 'Rating text',\n",
              "       'Votes'],\n",
              "      dtype='object')"
            ]
          },
          "metadata": {},
          "execution_count": 31
        }
      ]
    },
    {
      "cell_type": "code",
      "source": [
        "for features in df_zomato.columns:\n",
        "  print(features)"
      ],
      "metadata": {
        "colab": {
          "base_uri": "https://localhost:8080/"
        },
        "id": "nM8a9pDLewd8",
        "outputId": "eddd9f17-223e-4c39-f423-98113d0f941a"
      },
      "execution_count": 32,
      "outputs": [
        {
          "output_type": "stream",
          "name": "stdout",
          "text": [
            "Restaurant ID\n",
            "Restaurant Name\n",
            "Country Code\n",
            "City\n",
            "Address\n",
            "Locality\n",
            "Locality Verbose\n",
            "Longitude\n",
            "Latitude\n",
            "Cuisines\n",
            "Average Cost for two\n",
            "Currency\n",
            "Has Table booking\n",
            "Has Online delivery\n",
            "Is delivering now\n",
            "Switch to order menu\n",
            "Price range\n",
            "Aggregate rating\n",
            "Rating color\n",
            "Rating text\n",
            "Votes\n"
          ]
        }
      ]
    },
    {
      "cell_type": "code",
      "source": [
        "df_zomato.isnull().sum()      # here sum() of cuisine which is >0.   i.e. (9)"
      ],
      "metadata": {
        "colab": {
          "base_uri": "https://localhost:8080/"
        },
        "id": "Qi0qRfYNfesd",
        "outputId": "38728ca0-1bf0-4c33-dacd-b7978fa7d3c8"
      },
      "execution_count": 34,
      "outputs": [
        {
          "output_type": "execute_result",
          "data": {
            "text/plain": [
              "Restaurant ID           0\n",
              "Restaurant Name         0\n",
              "Country Code            0\n",
              "City                    0\n",
              "Address                 0\n",
              "Locality                0\n",
              "Locality Verbose        0\n",
              "Longitude               0\n",
              "Latitude                0\n",
              "Cuisines                9\n",
              "Average Cost for two    0\n",
              "Currency                0\n",
              "Has Table booking       0\n",
              "Has Online delivery     0\n",
              "Is delivering now       0\n",
              "Switch to order menu    0\n",
              "Price range             0\n",
              "Aggregate rating        0\n",
              "Rating color            0\n",
              "Rating text             0\n",
              "Votes                   0\n",
              "dtype: int64"
            ]
          },
          "metadata": {},
          "execution_count": 34
        }
      ]
    },
    {
      "cell_type": "code",
      "source": [
        "for features in df_zomato.columns:          #this code runs thru all the columns #for loop\n",
        "  if df_zomato[features].isnull().sum()>0:  #and if it finds null values and sum of the value is > 0 # if statement\n",
        "    print(features)                         # it prints value for variable - features which is Cuisines\n",
        "                                            # *feature is a (variable) that we create just like i."
      ],
      "metadata": {
        "colab": {
          "base_uri": "https://localhost:8080/"
        },
        "id": "8paBv8uxdq0B",
        "outputId": "579f7ca9-6819-4bf7-997d-eaa01c5a1110"
      },
      "execution_count": 35,
      "outputs": [
        {
          "output_type": "stream",
          "name": "stdout",
          "text": [
            "Cuisines\n"
          ]
        }
      ]
    },
    {
      "cell_type": "code",
      "source": [
        "[features for features in df_zomato.columns if df_zomato[features].isnull().sum()>0] # same code in single line"
      ],
      "metadata": {
        "colab": {
          "base_uri": "https://localhost:8080/"
        },
        "id": "KTD38YzTaDX3",
        "outputId": "73d726db-c7cb-4f21-8088-b62695575db1"
      },
      "execution_count": 20,
      "outputs": [
        {
          "output_type": "execute_result",
          "data": {
            "text/plain": [
              "['Cuisines']"
            ]
          },
          "metadata": {},
          "execution_count": 20
        }
      ]
    },
    {
      "cell_type": "markdown",
      "source": [
        "# ==========================================================="
      ],
      "metadata": {
        "id": "ZfSbgf93hWiM"
      }
    },
    {
      "cell_type": "code",
      "source": [
        "sns.heatmap(df_zomato.isnull(),yticklabels=False,cbar=False,cmap='viridis')"
      ],
      "metadata": {
        "id": "I2bvBI8aaDek"
      },
      "execution_count": null,
      "outputs": []
    },
    {
      "cell_type": "code",
      "source": [
        "df_country=pd.read_excel('Country-Code.xlsx')\n",
        "df_country.head()"
      ],
      "metadata": {
        "id": "WIv0A068aDh8"
      },
      "execution_count": null,
      "outputs": []
    },
    {
      "cell_type": "code",
      "source": [
        "df_country.columns"
      ],
      "metadata": {
        "id": "Mn3NPRHRio8L"
      },
      "execution_count": null,
      "outputs": []
    },
    {
      "cell_type": "code",
      "source": [
        "final_df = pd.merge(df_zomato, df_country, on='Country Code', how='left')"
      ],
      "metadata": {
        "id": "sSlV0LV7io-0"
      },
      "execution_count": 40,
      "outputs": []
    },
    {
      "cell_type": "code",
      "source": [
        "final_df"
      ],
      "metadata": {
        "id": "7_AndKF-ipBQ"
      },
      "execution_count": null,
      "outputs": []
    },
    {
      "cell_type": "code",
      "source": [
        "country_names=final_df.Country.value_counts().index\n",
        "country_val=final_df.Country.value_counts().values\n",
        "plt.pie(country_val[:3],labels=country_names[:3],autopct='%1.2f%%')"
      ],
      "metadata": {
        "id": "ZYC9-8Q5ipEL"
      },
      "execution_count": null,
      "outputs": []
    },
    {
      "cell_type": "code",
      "source": [
        "ratings=final_df.groupby(['Aggregate rating','Rating color','Rating text']).size().reset_index().rename(columns={0:'Rating Count'})"
      ],
      "metadata": {
        "id": "CAvvecTPipGL"
      },
      "execution_count": 43,
      "outputs": []
    },
    {
      "cell_type": "code",
      "source": [
        "import matplotlib\n",
        "matplotlib.rcParams['figure.figsize'] = (12, 6)\n",
        "sns.barplot(x=\"Aggregate rating\",y=\"Rating Count\",data=ratings)"
      ],
      "metadata": {
        "id": "ODwRfEmXjFls"
      },
      "execution_count": null,
      "outputs": []
    }
  ]
}