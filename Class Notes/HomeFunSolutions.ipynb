{
  "nbformat": 4,
  "nbformat_minor": 0,
  "metadata": {
    "colab": {
      "provenance": []
    },
    "kernelspec": {
      "name": "python3",
      "display_name": "Python 3"
    },
    "language_info": {
      "name": "python"
    }
  },
  "cells": [
    {
      "cell_type": "code",
      "source": [
        "# Program 1: Print following pattern\n",
        "for i in range(0, 10): # 0,1,2,3,4,5,6,7,8,9\n",
        "      for j in range(0, i):\n",
        "            print(\" \", end=\"\")\n",
        "      for k in range(i+1, 11, 1):\n",
        "            if k == 10:\n",
        "              print(0, end=\" \")\n",
        "            else:\n",
        "              print(k, end=\" \")\n",
        "      print('\\r')"
      ],
      "metadata": {
        "id": "fsN-BZcAnHsz",
        "colab": {
          "base_uri": "https://localhost:8080/"
        },
        "outputId": "bbcdacf4-0788-46cd-ce2e-a496dd4ecf25"
      },
      "execution_count": 1,
      "outputs": [
        {
          "output_type": "stream",
          "name": "stdout",
          "text": [
            "1 2 3 4 5 6 7 8 9 0 \r\n",
            " 2 3 4 5 6 7 8 9 0 \r\n",
            "  3 4 5 6 7 8 9 0 \r\n",
            "   4 5 6 7 8 9 0 \r\n",
            "    5 6 7 8 9 0 \r\n",
            "     6 7 8 9 0 \r\n",
            "      7 8 9 0 \r\n",
            "       8 9 0 \r\n",
            "        9 0 \r\n",
            "         0 \r\n"
          ]
        }
      ]
    },
    {
      "cell_type": "code",
      "source": [
        "# Program 2: Print following pattern\n",
        "\n",
        "for i in range(0,10):\n",
        "      for k in range(0,i+1):\n",
        "            print('',end=' ')\n",
        "\n",
        "      for j in range(10-i,0,-1):\n",
        "            if j == 10:\n",
        "              print(0,end=' ')\n",
        "            else:\n",
        "              print(j,end=' ')\n",
        "      print('\\r')"
      ],
      "metadata": {
        "colab": {
          "base_uri": "https://localhost:8080/"
        },
        "id": "DhiNegxUJH3Y",
        "outputId": "1ce8a8d1-171e-468d-adfc-ef79cb342632"
      },
      "execution_count": 2,
      "outputs": [
        {
          "output_type": "stream",
          "name": "stdout",
          "text": [
            " 0 9 8 7 6 5 4 3 2 1 \r\n",
            "  9 8 7 6 5 4 3 2 1 \r\n",
            "   8 7 6 5 4 3 2 1 \r\n",
            "    7 6 5 4 3 2 1 \r\n",
            "     6 5 4 3 2 1 \r\n",
            "      5 4 3 2 1 \r\n",
            "       4 3 2 1 \r\n",
            "        3 2 1 \r\n",
            "         2 1 \r\n",
            "          1 \r\n"
          ]
        }
      ]
    },
    {
      "cell_type": "code",
      "source": [
        "# Program 3: Print following pattern\n",
        "\n",
        "for i in range(0,10):\n",
        "      for k in range(0,i+1):\n",
        "            print('',end=' ')\n",
        "\n",
        "      for j in range(10-i,0,-1):\n",
        "            if j == 10:\n",
        "              print(0,end=' ')\n",
        "            else:\n",
        "              print(j,end=' ')\n",
        "      print('\\r')\n",
        "for i in range(0,9):\n",
        "      for k in range(10,i+1,-1):\n",
        "            print('',end=' ')\n",
        "\n",
        "      for j in range(2+i, 0, -1):\n",
        "            if j == 10:\n",
        "              print(0,end=' ')\n",
        "            else:\n",
        "              print(j,end=' ')\n",
        "\n",
        "      print('\\r')"
      ],
      "metadata": {
        "colab": {
          "base_uri": "https://localhost:8080/"
        },
        "id": "X1RxQ0DeJX-_",
        "outputId": "15493682-3cfb-4193-de82-12a2cc21fbb2"
      },
      "execution_count": 3,
      "outputs": [
        {
          "output_type": "stream",
          "name": "stdout",
          "text": [
            " 0 9 8 7 6 5 4 3 2 1 \r\n",
            "  9 8 7 6 5 4 3 2 1 \r\n",
            "   8 7 6 5 4 3 2 1 \r\n",
            "    7 6 5 4 3 2 1 \r\n",
            "     6 5 4 3 2 1 \r\n",
            "      5 4 3 2 1 \r\n",
            "       4 3 2 1 \r\n",
            "        3 2 1 \r\n",
            "         2 1 \r\n",
            "          1 \r\n",
            "         2 1 \r\n",
            "        3 2 1 \r\n",
            "       4 3 2 1 \r\n",
            "      5 4 3 2 1 \r\n",
            "     6 5 4 3 2 1 \r\n",
            "    7 6 5 4 3 2 1 \r\n",
            "   8 7 6 5 4 3 2 1 \r\n",
            "  9 8 7 6 5 4 3 2 1 \r\n",
            " 0 9 8 7 6 5 4 3 2 1 \r\n"
          ]
        }
      ]
    },
    {
      "cell_type": "code",
      "source": [
        "# Program 4: Print following pattern\n",
        "\n",
        "x = 0\n",
        "for i in range(0 , 9):\n",
        "  x += 1\n",
        "  for j in range(0, i + 1):\n",
        "    print(x , end=\" \")\n",
        "  print(\"\\r\")"
      ],
      "metadata": {
        "colab": {
          "base_uri": "https://localhost:8080/"
        },
        "id": "_5zWyY_yKdzq",
        "outputId": "e5838efc-d222-4f0f-f750-c333a5ac9557"
      },
      "execution_count": 4,
      "outputs": [
        {
          "output_type": "stream",
          "name": "stdout",
          "text": [
            "1 \r\n",
            "2 2 \r\n",
            "3 3 3 \r\n",
            "4 4 4 4 \r\n",
            "5 5 5 5 5 \r\n",
            "6 6 6 6 6 6 \r\n",
            "7 7 7 7 7 7 7 \r\n",
            "8 8 8 8 8 8 8 8 \r\n",
            "9 9 9 9 9 9 9 9 9 \r\n"
          ]
        }
      ]
    },
    {
      "cell_type": "code",
      "source": [
        "# Program 5: Print following pattern\n",
        "n = 8\n",
        "for k in range(1, n + 1):\n",
        "  for m in range(1, k-1):\n",
        "    print(m, end=\" \")\n",
        "  for m in range(k-1, 0, -1):\n",
        "    print(m, end=\" \")\n",
        "  print('\\r')"
      ],
      "metadata": {
        "colab": {
          "base_uri": "https://localhost:8080/"
        },
        "id": "QXvX0hUXLPis",
        "outputId": "27d06de0-3a87-4d1c-e944-da851c1ef26b"
      },
      "execution_count": 5,
      "outputs": [
        {
          "output_type": "stream",
          "name": "stdout",
          "text": [
            "\r\n",
            "1 \r\n",
            "1 2 1 \r\n",
            "1 2 3 2 1 \r\n",
            "1 2 3 4 3 2 1 \r\n",
            "1 2 3 4 5 4 3 2 1 \r\n",
            "1 2 3 4 5 6 5 4 3 2 1 \r\n",
            "1 2 3 4 5 6 7 6 5 4 3 2 1 \r\n"
          ]
        }
      ]
    },
    {
      "cell_type": "code",
      "source": [
        "    n = 10\n",
        "    for r in range(1, n):\n",
        "        digit = 1\n",
        "        for m in range(n, 0, -1):\n",
        "            if m > r:\n",
        "                print(\"\", end=' ')\n",
        "            else:\n",
        "                print(digit, end=' ')\n",
        "                digit += 1\n",
        "        print(\"\")"
      ],
      "metadata": {
        "colab": {
          "base_uri": "https://localhost:8080/"
        },
        "id": "WGDwXpjxLt0U",
        "outputId": "63468a5c-b12d-442c-c476-da61d89e380c"
      },
      "execution_count": 9,
      "outputs": [
        {
          "output_type": "stream",
          "name": "stdout",
          "text": [
            "         1 \n",
            "        1 2 \n",
            "       1 2 3 \n",
            "      1 2 3 4 \n",
            "     1 2 3 4 5 \n",
            "    1 2 3 4 5 6 \n",
            "   1 2 3 4 5 6 7 \n",
            "  1 2 3 4 5 6 7 8 \n",
            " 1 2 3 4 5 6 7 8 9 \n"
          ]
        }
      ]
    },
    {
      "cell_type": "code",
      "source": [
        "\n",
        "\n",
        "    n = 10\n",
        "    for k in range(0, n):\n",
        "        for m in range(0, k + 1):\n",
        "            print(k * m, end=' ')\n",
        "        print('\\r')"
      ],
      "metadata": {
        "colab": {
          "base_uri": "https://localhost:8080/"
        },
        "id": "uZrrGDtfMAxZ",
        "outputId": "bd07448f-2508-4dc4-9f1b-192cd190d4c3"
      },
      "execution_count": 10,
      "outputs": [
        {
          "output_type": "stream",
          "name": "stdout",
          "text": [
            "0 \r\n",
            "0 1 \r\n",
            "0 2 4 \r\n",
            "0 3 6 9 \r\n",
            "0 4 8 12 16 \r\n",
            "0 5 10 15 20 25 \r\n",
            "0 6 12 18 24 30 36 \r\n",
            "0 7 14 21 28 35 42 49 \r\n",
            "0 8 16 24 32 40 48 56 64 \r\n",
            "0 9 18 27 36 45 54 63 72 81 \r\n"
          ]
        }
      ]
    },
    {
      "cell_type": "code",
      "source": [
        "\n",
        "\n",
        "    n = 10\n",
        "    for k in range(0, n):\n",
        "        for m in range(n-1, k-1):\n",
        "            print(m, end=\" \")\n",
        "        for j in range(k):\n",
        "            print('', end=\" \")\n",
        "        for h in range(k + 1, n):\n",
        "            print(h, end=\" \")\n",
        "        print('\\r')"
      ],
      "metadata": {
        "colab": {
          "base_uri": "https://localhost:8080/"
        },
        "id": "8rfxUbz0MVjI",
        "outputId": "707f0d0f-c36e-4df6-b721-9165d291b997"
      },
      "execution_count": 11,
      "outputs": [
        {
          "output_type": "stream",
          "name": "stdout",
          "text": [
            "1 2 3 4 5 6 7 8 9 \r\n",
            " 2 3 4 5 6 7 8 9 \r\n",
            "  3 4 5 6 7 8 9 \r\n",
            "   4 5 6 7 8 9 \r\n",
            "    5 6 7 8 9 \r\n",
            "     6 7 8 9 \r\n",
            "      7 8 9 \r\n",
            "       8 9 \r\n",
            "        9 \r\n",
            "         \r\n"
          ]
        }
      ]
    },
    {
      "cell_type": "code",
      "source": [
        "\n",
        "\n",
        "    beg = 1\n",
        "    end = 2\n",
        "    curr = end\n",
        "    for r in range(1, 8):\n",
        "        for c in range(beg, end):\n",
        "            curr -= 1\n",
        "            print(curr, end=' ')\n",
        "        print(\"\")\n",
        "        beg = end\n",
        "        end += r\n",
        "        curr = end"
      ],
      "metadata": {
        "colab": {
          "base_uri": "https://localhost:8080/"
        },
        "id": "07FmsT4aMvrX",
        "outputId": "f87b59e8-1ca5-4535-96c1-b9ee82ccc26c"
      },
      "execution_count": 12,
      "outputs": [
        {
          "output_type": "stream",
          "name": "stdout",
          "text": [
            "1 \n",
            "2 \n",
            "4 3 \n",
            "7 6 5 \n",
            "11 10 9 8 \n",
            "16 15 14 13 12 \n",
            "22 21 20 19 18 17 \n"
          ]
        }
      ]
    },
    {
      "cell_type": "code",
      "source": [
        "\n",
        "\n",
        "    n = 7\n",
        "    digit = n\n",
        "    for k in range(n, 0, -1):\n",
        "        for m in range(0, k):\n",
        "            print(digit, end=' ')\n",
        "        print(\"\\r\")"
      ],
      "metadata": {
        "colab": {
          "base_uri": "https://localhost:8080/"
        },
        "id": "8Dp3F-Z9M14X",
        "outputId": "cd88e041-8112-4f6b-8bbb-1019c5c7fb69"
      },
      "execution_count": 13,
      "outputs": [
        {
          "output_type": "stream",
          "name": "stdout",
          "text": [
            "7 7 7 7 7 7 7 \r\n",
            "7 7 7 7 7 7 \r\n",
            "7 7 7 7 7 \r\n",
            "7 7 7 7 \r\n",
            "7 7 7 \r\n",
            "7 7 \r\n",
            "7 \r\n"
          ]
        }
      ]
    },
    {
      "cell_type": "code",
      "source": [
        "# Python Program to Find the Square Root\n",
        "\n",
        "# Python Program to calculate the square root\n",
        "\n",
        "# Note: change this value for a different result\n",
        "num = 8\n",
        "\n",
        "# To take the input from the user\n",
        "#num = float(input('Enter a number: '))\n",
        "\n",
        "num_sqrt = num ** 0.5\n",
        "print('The square root of %0.3f is %0.3f'%(num ,num_sqrt))"
      ],
      "metadata": {
        "colab": {
          "base_uri": "https://localhost:8080/"
        },
        "id": "t9ZKMT_NNmqS",
        "outputId": "33a8d08e-d574-4a0e-9785-e083bb63faff"
      },
      "execution_count": 14,
      "outputs": [
        {
          "output_type": "stream",
          "name": "stdout",
          "text": [
            "The square root of 8.000 is 2.828\n"
          ]
        }
      ]
    }
  ]
}