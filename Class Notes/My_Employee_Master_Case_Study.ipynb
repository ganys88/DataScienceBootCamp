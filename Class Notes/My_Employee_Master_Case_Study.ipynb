{
  "nbformat": 4,
  "nbformat_minor": 0,
  "metadata": {
    "colab": {
      "provenance": []
    },
    "kernelspec": {
      "name": "python3",
      "display_name": "Python 3"
    },
    "language_info": {
      "name": "python"
    }
  },
  "cells": [
    {
      "cell_type": "code",
      "source": [
        "# this is a case study for managing employees\n",
        "# Name,salary,id,age,job poistion"
      ],
      "metadata": {
        "id": "_3WdITwUcatJ"
      },
      "execution_count": null,
      "outputs": []
    },
    {
      "cell_type": "code",
      "source": [
        "#1. Add employee\n",
        "#2. Delete by id\n",
        "#3. Update name by id\n",
        "#4. update salary by id\n",
        "#5. update job position by id\n",
        "#6. update age by id\n",
        "#7. delete by name\n",
        "#8. get_details by id\n",
        "#9. get_details by name\n",
        "#10.print all employees"
      ],
      "metadata": {
        "id": "Nne6OXdmcacE"
      },
      "execution_count": null,
      "outputs": []
    },
    {
      "cell_type": "code",
      "source": [
        "class Employee:\n",
        "  def __init__(self, emp_id, name, position, salary,age): # create 5 instance classes\n",
        "    self.emp_id = emp_id\n",
        "    self.name = name\n",
        "    self.position = position\n",
        "    self.salary = salary\n",
        "    self.age = age\n",
        "\n",
        "  def display_info(self):                                 # we create display_info which can call 'Employee class' object\n",
        "    print(\"Employee ID\", self.emp_id)\n",
        "    print(\"Name\", self.name)\n",
        "    print(\"Position\", self.position)\n",
        "    print(\"Salary\", self.salary)\n",
        "    print(\"Age\", self.age)\n",
        "\n",
        "class EmployeeManagementSystem:                           # this is memory system where we do all the operations\n",
        "  def __init__(self):                                     # this is like a common interface\n",
        "    self.employees = []\n",
        "\n",
        "  def add_employee(self, employee):\n",
        "    self.employees.append(employee)                       # (Employee) is an object with values name,age, & so on\n",
        "    print(len(self.employees))                            # basically we are working on object (Employee)\n",
        "\n",
        "  def remove_employee(self, emp_id):                      # employees is not an object\n",
        "    for employee in self.employees:                       # employees is the list that contain object\n",
        "      if employee.emp_id == emp_id:\n",
        "        self.employees.remove(employee)\n",
        "        return True\n",
        "    return False\n",
        "\n",
        "  def update_name(self,emp_id,name):\n",
        "    for employee in self.employees:\n",
        "      if employee.emp_id == emp_id:\n",
        "        employee.name= name\n",
        "        return True\n",
        "    return False\n",
        "\n",
        "  def update_salary(self,emp_id,salary):\n",
        "    for employee in self.employees:\n",
        "      if employee.emp_id == emp_id:\n",
        "        employee.salary= salary\n",
        "        return True\n",
        "    return False\n",
        "\n",
        "  def update_position(self,emp_id,position):\n",
        "    for employee in self.employees:\n",
        "      if employee.emp_id == emp_id:\n",
        "        employee.position= position\n",
        "        return True\n",
        "    return False\n",
        "\n",
        "  def update_age(self,emp_id,age):\n",
        "    for employee in self.employees:\n",
        "      if employee.emp_id == emp_id:\n",
        "        employee.age= age\n",
        "        return True\n",
        "    return False\n",
        "\n",
        "  def delete_by_name(self,name):\n",
        "    all_matching_names=[]                           # we create empty list\n",
        "    for employee in self.employees:\n",
        "      if employee.name == name:\n",
        "        all_matching_names.append(employee)\n",
        "    if len(all_matching_names)==0:                  # 0\n",
        "      return False\n",
        "    elif len(all_matching_names)==1:                # 1\n",
        "      self.employees.remove(all_matching_names[0])\n",
        "      return True\n",
        "    if len(all_matching_names)>1:\n",
        "      print(\"Duplicate names found please select the id you want to remove\")\n",
        "      all_ids=[]\n",
        "      for emps in all_matching_names:\n",
        "        print(\"ID :- \",emps.emp_id)\n",
        "        all_ids.append(emps.emp_id)\n",
        "      id_to_remove=int(input(\"Please choose the id you want to remove :- \"))\n",
        "      if id_to_remove in all_ids:\n",
        "        self.employees.remove(all_matching_names[all_ids.index(id_to_remove)])\n",
        "        return True\n",
        "      else:\n",
        "        return False\n",
        "\n",
        "  def details_by_id(self,emp_id):\n",
        "    for employee in self.employees:\n",
        "      if employee.emp_id == emp_id:\n",
        "        employee.display_info()\n",
        "\n",
        "  def details_by_name(self,name):\n",
        "    for employee in self.employees:\n",
        "      if employee.name == name:\n",
        "        employee.display_info()\n",
        "\n",
        "  def details_all_employees(self):\n",
        "    print(\"Check length\",len(self.employees))    # len gives rows\n",
        "    for employee in self.employees:\n",
        "        employee.display_info()\n",
        "        print(\"====================\")\n",
        "\n",
        "\n"
      ],
      "metadata": {
        "id": "-HeOhQgcm-FT"
      },
      "execution_count": 2,
      "outputs": []
    },
    {
      "cell_type": "code",
      "source": [
        "emp_managed_system=EmployeeManagementSystem()\n",
        "\n",
        "with open(\"employe_data.txt\",'r') as f:\n",
        "  data=f.read()\n",
        "  all_objects=data.split(\"\\n\")\n",
        "  print(all_objects)\n",
        "  for employee in all_objects:\n",
        "    employee=employee.split(\",\")\n",
        "    if len(employee)>1:\n",
        "      id=int(employee[0])\n",
        "      name=employee[1]\n",
        "      position=employee[2]\n",
        "      salary=employee[3]\n",
        "      age=employee[4]\n",
        "      emp_temp=Employee(id,name,position,salary,age)\n",
        "      emp_managed_system.add_employee(emp_temp)\n",
        "while True:\n",
        "  print(\"Please choose the option\")\n",
        "  print(\"1) Add Employee\")\n",
        "  print(\"2) Delete Employee by ID\")\n",
        "  print(\"3) Delete Employee by Name\")\n",
        "  print(\"4) All details\")\n",
        "  print(\"5) exit\")\n",
        "  choice=input(\"Please choose an option \")\n",
        "  if choice=='1':\n",
        "    name=choice=input(\"Please enter Employee name \")\n",
        "    salary=choice=input(\"Please enter Employee salary \")\n",
        "    age=choice=input(\"Please enter Employee age \")\n",
        "    position=choice=input(\"Please enter Employee position \")\n",
        "    id=len(emp_managed_system.employees)\n",
        "    emp_temp=Employee(id,name,position,salary,age)\n",
        "    emp_managed_system.add_employee(emp_temp)\n",
        "  if choice=='2':\n",
        "    id=int(input(\"Please enter Employee id you want to remove \"))\n",
        "    if emp_managed_system.remove_employee(id):\n",
        "      print(\"Employee Removed Successfully\")\n",
        "    else:\n",
        "      print(\"Id not found could not remove the employee\")\n",
        "\n",
        "  elif choice=='4':\n",
        "    emp_managed_system.details_all_employees()\n",
        "\n",
        "  elif choice=='5':\n",
        "    print(\"Bye!\")\n",
        "    emp_managed_system.write_data()\n",
        "    break"
      ],
      "metadata": {
        "id": "xaqoc7z7AX7B",
        "colab": {
          "base_uri": "https://localhost:8080/",
          "height": 251
        },
        "outputId": "f70fa6ea-de9f-410f-8b43-abccc0425582"
      },
      "execution_count": 3,
      "outputs": [
        {
          "output_type": "error",
          "ename": "FileNotFoundError",
          "evalue": "ignored",
          "traceback": [
            "\u001b[0;31m---------------------------------------------------------------------------\u001b[0m",
            "\u001b[0;31mFileNotFoundError\u001b[0m                         Traceback (most recent call last)",
            "\u001b[0;32m<ipython-input-3-38311fc7c3d2>\u001b[0m in \u001b[0;36m<cell line: 3>\u001b[0;34m()\u001b[0m\n\u001b[1;32m      1\u001b[0m \u001b[0memp_managed_system\u001b[0m\u001b[0;34m=\u001b[0m\u001b[0mEmployeeManagementSystem\u001b[0m\u001b[0;34m(\u001b[0m\u001b[0;34m)\u001b[0m\u001b[0;34m\u001b[0m\u001b[0;34m\u001b[0m\u001b[0m\n\u001b[1;32m      2\u001b[0m \u001b[0;34m\u001b[0m\u001b[0m\n\u001b[0;32m----> 3\u001b[0;31m \u001b[0;32mwith\u001b[0m \u001b[0mopen\u001b[0m\u001b[0;34m(\u001b[0m\u001b[0;34m\"employe_data.txt\"\u001b[0m\u001b[0;34m,\u001b[0m\u001b[0;34m'r'\u001b[0m\u001b[0;34m)\u001b[0m \u001b[0;32mas\u001b[0m \u001b[0mf\u001b[0m\u001b[0;34m:\u001b[0m\u001b[0;34m\u001b[0m\u001b[0;34m\u001b[0m\u001b[0m\n\u001b[0m\u001b[1;32m      4\u001b[0m   \u001b[0mdata\u001b[0m\u001b[0;34m=\u001b[0m\u001b[0mf\u001b[0m\u001b[0;34m.\u001b[0m\u001b[0mread\u001b[0m\u001b[0;34m(\u001b[0m\u001b[0;34m)\u001b[0m\u001b[0;34m\u001b[0m\u001b[0;34m\u001b[0m\u001b[0m\n\u001b[1;32m      5\u001b[0m   \u001b[0mall_objects\u001b[0m\u001b[0;34m=\u001b[0m\u001b[0mdata\u001b[0m\u001b[0;34m.\u001b[0m\u001b[0msplit\u001b[0m\u001b[0;34m(\u001b[0m\u001b[0;34m\"\\n\"\u001b[0m\u001b[0;34m)\u001b[0m\u001b[0;34m\u001b[0m\u001b[0;34m\u001b[0m\u001b[0m\n",
            "\u001b[0;31mFileNotFoundError\u001b[0m: [Errno 2] No such file or directory: 'employe_data.txt'"
          ]
        }
      ]
    },
    {
      "cell_type": "code",
      "source": [
        "# \"w\" :- this will always create a new file while writing\n",
        "# \"a\" :- this will attach things in same file if exsists if not create a new file\n",
        "# \"r\" :- reads the data from text file\n",
        "# \"wb\" :- writes data in non human readble form\n",
        "# \"rb\" :- reads data from non human readble form"
      ],
      "metadata": {
        "id": "5Ivinkt5Q2q3"
      },
      "execution_count": 1,
      "outputs": []
    }
  ]
}