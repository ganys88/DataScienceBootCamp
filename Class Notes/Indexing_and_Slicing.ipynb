{
  "nbformat": 4,
  "nbformat_minor": 0,
  "metadata": {
    "colab": {
      "provenance": []
    },
    "kernelspec": {
      "name": "python3",
      "display_name": "Python 3"
    },
    "language_info": {
      "name": "python"
    }
  },
  "cells": [
    {
      "cell_type": "code",
      "execution_count": 15,
      "metadata": {
        "colab": {
          "base_uri": "https://localhost:8080/"
        },
        "id": "25YSNAm-8a71",
        "outputId": "274e5165-23d8-4fcb-a358-289e42a60d62"
      },
      "outputs": [
        {
          "output_type": "stream",
          "name": "stdout",
          "text": [
            "Peppa\n",
            "Prefer \n",
            "Python\n",
            " Programming\n"
          ]
        }
      ],
      "source": [
        "str1 = \"Peppa Prefer Python Programming\"\n",
        "print(str1 [:5:])\n",
        "print(str1 [6:13:1])\n",
        "print(str1 [13:19:1])\n",
        "print(str1 [19:31:1])"
      ]
    },
    {
      "cell_type": "code",
      "source": [
        "str1 = \"GaneshBahadurGurung\"\n",
        "print(str1[-1:-7:-1], str1[-7:-14:-1], str1[-14:-20:-1])\n",
        "print(str1[-14:-20:-1], str1[-7:-14:-1], str1[-1:-7:-1])"
      ],
      "metadata": {
        "colab": {
          "base_uri": "https://localhost:8080/"
        },
        "id": "a--2yJmF-n5E",
        "outputId": "6f09435e-2131-466c-8311-adccf0df078c"
      },
      "execution_count": 25,
      "outputs": [
        {
          "output_type": "stream",
          "name": "stdout",
          "text": [
            "gnuruG rudahaB hsenaG\n",
            "hsenaG rudahaB gnuruG\n"
          ]
        }
      ]
    },
    {
      "cell_type": "code",
      "source": [
        "str1 = \"Peppa Prefer Python Programming\"\n",
        "print (str1[-1:-12:-1], str1[-5:-12:-1], str1[-12:-19:-1], str1[-18::-1])"
      ],
      "metadata": {
        "colab": {
          "base_uri": "https://localhost:8080/"
        },
        "id": "6W2Usp7x__KI",
        "outputId": "7bdf3ddb-e2f7-4f29-a38b-b7b3a4bbb3b7"
      },
      "execution_count": 55,
      "outputs": [
        {
          "output_type": "stream",
          "name": "stdout",
          "text": [
            "gnimmargorP margorP  nohtyP P referP appeP\n"
          ]
        }
      ]
    },
    {
      "cell_type": "code",
      "source": [
        "str1 = 'Venkatanarasimharajuvaripeta'\n",
        "\n",
        "\n",
        "print(str1[-22::-1],str1[-13:-22:-1],str1[-9:-13:-1],str1[-1:-9:-1])\n",
        "print(str1[6::-1],str1[15:6:-1],str1[19:15:-1],str1[27:19:-1])\n"
      ],
      "metadata": {
        "colab": {
          "base_uri": "https://localhost:8080/"
        },
        "id": "Uu3_JdgSA4Zf",
        "outputId": "6506da90-336e-4de3-c4f5-613dff7f1483"
      },
      "execution_count": 46,
      "outputs": [
        {
          "output_type": "stream",
          "name": "stdout",
          "text": [
            "atakneV ahmisaran ujar atepirav\n",
            "atakneV ahmisaran ujar atepirav\n"
          ]
        }
      ]
    },
    {
      "cell_type": "code",
      "source": [
        "#Positive Indexing Negative Slicing\n",
        "str1 = \"Peppa Prefer Python Programming\"\n",
        "print(str1[5::-1],str1[6:12:-1])"
      ],
      "metadata": {
        "colab": {
          "base_uri": "https://localhost:8080/"
        },
        "id": "rUQW3xJmIHUZ",
        "outputId": "745deecc-5c39-4627-aae4-7819791e5de3"
      },
      "execution_count": 61,
      "outputs": [
        {
          "output_type": "stream",
          "name": "stdout",
          "text": [
            " appeP \n"
          ]
        }
      ]
    },
    {
      "cell_type": "code",
      "source": [
        "str1 = 'VenkataNarasimhaRajuvaripeta'\n",
        "print(str1[:-21:1],str1[-21:-12:1],str1[-12::1])\n",
        "str1 = 'VenkataNarasimhaRajuvaripeta'\n",
        "print(str1[:-21:],str1[-21:-12:],str1[-12::])\n",
        "str1 = 'VenkataNarasimhaRajuvaripeta'\n",
        "print(str1[:-21],str1[-21:-12],str1[-12:])"
      ],
      "metadata": {
        "colab": {
          "base_uri": "https://localhost:8080/"
        },
        "id": "OQqjmLKMKmYg",
        "outputId": "9fd13736-cf32-4e30-a563-0c76a29956eb"
      },
      "execution_count": 80,
      "outputs": [
        {
          "output_type": "stream",
          "name": "stdout",
          "text": [
            "Venkata Narasimha Rajuvaripeta\n",
            "Venkata Narasimha Rajuvaripeta\n",
            "Venkata Narasimha Rajuvaripeta\n"
          ]
        }
      ]
    },
    {
      "cell_type": "code",
      "source": [
        "lst1 = ['apple','banana','cherries','dates','eggfruit']\n",
        "print(lst1)\n",
        "print(type(lst1))"
      ],
      "metadata": {
        "colab": {
          "base_uri": "https://localhost:8080/"
        },
        "id": "K6zajQjuNjD-",
        "outputId": "749eedd3-e5f1-4761-c7ca-60cf75fb7926"
      },
      "execution_count": 82,
      "outputs": [
        {
          "output_type": "stream",
          "name": "stdout",
          "text": [
            "['apple', 'banana', 'cherries', 'dates', 'eggfruit']\n",
            "<class 'list'>\n"
          ]
        }
      ]
    },
    {
      "cell_type": "code",
      "source": [
        "lst1[0],lst1[1],lst1[2],lst1[3],lst1[4]\n",
        "print(lst1[::])\n",
        "print(lst1[:len(lst1):])\n",
        "print(lst1[::1])\n",
        "print(lst1[:5:])\n",
        "print(lst1[-1::-1])\n",
        "print(lst1[5::-1])\n",
        "print(lst1[-5::1])"
      ],
      "metadata": {
        "colab": {
          "base_uri": "https://localhost:8080/"
        },
        "id": "1SAln4t5OJpW",
        "outputId": "129d5e42-7a97-4676-8c16-1686809d910d"
      },
      "execution_count": 95,
      "outputs": [
        {
          "output_type": "stream",
          "name": "stdout",
          "text": [
            "['apple', 'banana', 'cherries', 'dates', 'eggfruit']\n",
            "['apple', 'banana', 'cherries', 'dates', 'eggfruit']\n",
            "['apple', 'banana', 'cherries', 'dates', 'eggfruit']\n",
            "['apple', 'banana', 'cherries', 'dates', 'eggfruit']\n",
            "['eggfruit', 'dates', 'cherries', 'banana', 'apple']\n",
            "['eggfruit', 'dates', 'cherries', 'banana', 'apple']\n",
            "['apple', 'banana', 'cherries', 'dates', 'eggfruit']\n"
          ]
        }
      ]
    },
    {
      "cell_type": "code",
      "source": [],
      "metadata": {
        "id": "4RCpCy8lShWq"
      },
      "execution_count": null,
      "outputs": []
    },
    {
      "cell_type": "code",
      "source": [
        "tup1 = ('apple','banana','cherries','dates','eggfruit')\n",
        "print(tup1)\n",
        "print(type(tup1))\n",
        "print(tup1[::])\n",
        "print(tup1[:len(tup1):])\n",
        "print(tup1[::1])\n",
        "print(tup1[:5:])\n",
        "print(tup1[-1::-1])\n",
        "print(tup1[5::-1])\n",
        "print(tup1[-5::1])"
      ],
      "metadata": {
        "colab": {
          "base_uri": "https://localhost:8080/"
        },
        "outputId": "232283db-b59f-44b4-dfb2-0ef3f4a14cb8",
        "id": "SM5TwA6MSiD8"
      },
      "execution_count": 99,
      "outputs": [
        {
          "output_type": "stream",
          "name": "stdout",
          "text": [
            "('apple', 'banana', 'cherries', 'dates', 'eggfruit')\n",
            "<class 'tuple'>\n",
            "('apple', 'banana', 'cherries', 'dates', 'eggfruit')\n",
            "('apple', 'banana', 'cherries', 'dates', 'eggfruit')\n",
            "('apple', 'banana', 'cherries', 'dates', 'eggfruit')\n",
            "('apple', 'banana', 'cherries', 'dates', 'eggfruit')\n",
            "('eggfruit', 'dates', 'cherries', 'banana', 'apple')\n",
            "('eggfruit', 'dates', 'cherries', 'banana', 'apple')\n",
            "('apple', 'banana', 'cherries', 'dates', 'eggfruit')\n"
          ]
        }
      ]
    }
  ]
}