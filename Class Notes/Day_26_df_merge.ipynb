{
  "nbformat": 4,
  "nbformat_minor": 0,
  "metadata": {
    "colab": {
      "provenance": []
    },
    "kernelspec": {
      "name": "python3",
      "display_name": "Python 3"
    },
    "language_info": {
      "name": "python"
    }
  },
  "cells": [
    {
      "cell_type": "markdown",
      "source": [
        "# Monday Sept 11, 2023\n",
        "\n",
        "Things to do\n",
        "\n",
        "1.   EDA\n",
        "2.   Lambda\n",
        "3.   Args\n",
        "\n"
      ],
      "metadata": {
        "id": "3gt6A1uYuhr-"
      }
    },
    {
      "cell_type": "code",
      "execution_count": 1,
      "metadata": {
        "id": "5OSGA_X9ugwu"
      },
      "outputs": [],
      "source": [
        "import pandas as pd\n",
        "import numpy as np\n",
        "import matplotlib.pyplot as plt\n",
        "import seaborn as sns\n",
        "%matplotlib inline"
      ]
    },
    {
      "cell_type": "code",
      "source": [
        "# importing the dataset\n",
        "path = 'https://raw.githubusercontent.com/gitanuurage/EDA/main/blackFriday_train.csv'\n",
        "df_train=pd.read_csv(path)\n",
        "df_train.head()"
      ],
      "metadata": {
        "id": "Jf3_9IiWvQWL"
      },
      "execution_count": null,
      "outputs": []
    },
    {
      "cell_type": "code",
      "source": [
        "# import the test data\n",
        "path = 'https://raw.githubusercontent.com/gitanuurage/EDA/main/blackFriday_test.csv'\n",
        "df_test=pd.read_csv(path)\n",
        "df_test.head()"
      ],
      "metadata": {
        "id": "9TKQWt-uvQgU"
      },
      "execution_count": null,
      "outputs": []
    },
    {
      "cell_type": "code",
      "source": [
        "df_train.tail()"
      ],
      "metadata": {
        "id": "kaA60z1rxS1_"
      },
      "execution_count": null,
      "outputs": []
    },
    {
      "cell_type": "code",
      "source": [
        "df_test.tail()"
      ],
      "metadata": {
        "id": "feMQrKWQxS4v"
      },
      "execution_count": null,
      "outputs": []
    },
    {
      "cell_type": "code",
      "source": [
        "df_train.describe()"
      ],
      "metadata": {
        "id": "oKqGLvn9xS7j"
      },
      "execution_count": null,
      "outputs": []
    },
    {
      "cell_type": "code",
      "source": [
        "df_test.describe()"
      ],
      "metadata": {
        "id": "RfN8v88mxS-K"
      },
      "execution_count": null,
      "outputs": []
    },
    {
      "cell_type": "code",
      "source": [
        "df_train.columns"
      ],
      "metadata": {
        "id": "naX8eQA6xwf5"
      },
      "execution_count": null,
      "outputs": []
    },
    {
      "cell_type": "code",
      "source": [
        "df_test.columns"
      ],
      "metadata": {
        "id": "CSKfSAg4xwin"
      },
      "execution_count": null,
      "outputs": []
    },
    {
      "cell_type": "code",
      "source": [
        "df_train.shape"
      ],
      "metadata": {
        "id": "BnqxgeuKxwlY"
      },
      "execution_count": null,
      "outputs": []
    },
    {
      "cell_type": "code",
      "source": [
        "df_test.shape"
      ],
      "metadata": {
        "id": "2DR8VQSNxwn_"
      },
      "execution_count": null,
      "outputs": []
    },
    {
      "cell_type": "code",
      "source": [
        "df_train.size"
      ],
      "metadata": {
        "id": "ywgAfr8axwqa"
      },
      "execution_count": null,
      "outputs": []
    },
    {
      "cell_type": "code",
      "source": [
        "df_test.size"
      ],
      "metadata": {
        "colab": {
          "base_uri": "https://localhost:8080/"
        },
        "id": "oeYJKmqkxwst",
        "outputId": "524ba6e8-86a1-4fa5-d688-d7123bc4d822"
      },
      "execution_count": 32,
      "outputs": [
        {
          "output_type": "execute_result",
          "data": {
            "text/plain": [
              "2569589"
            ]
          },
          "metadata": {},
          "execution_count": 32
        }
      ]
    },
    {
      "cell_type": "code",
      "source": [
        "df_train"
      ],
      "metadata": {
        "id": "MPLnYyNUxwwG"
      },
      "execution_count": null,
      "outputs": []
    },
    {
      "cell_type": "code",
      "source": [
        "df_test"
      ],
      "metadata": {
        "id": "dsSo7neOxTBT"
      },
      "execution_count": null,
      "outputs": []
    },
    {
      "cell_type": "code",
      "source": [
        "df_train.isnull().sum()"
      ],
      "metadata": {
        "id": "5fI5Yrzaywon"
      },
      "execution_count": null,
      "outputs": []
    },
    {
      "cell_type": "code",
      "source": [
        "df_test.isnull().sum()"
      ],
      "metadata": {
        "id": "lYBBnyRwywlQ"
      },
      "execution_count": null,
      "outputs": []
    },
    {
      "cell_type": "code",
      "source": [
        "df_train[['Age','Product_Category_1','Product_Category_2','Product_Category_3']]"
      ],
      "metadata": {
        "id": "GGFOYgZ6ywib"
      },
      "execution_count": null,
      "outputs": []
    },
    {
      "cell_type": "code",
      "source": [
        "df_test[['Age','Product_Category_1','Product_Category_2','Product_Category_3']]"
      ],
      "metadata": {
        "id": "PwwpZ5atywf9"
      },
      "execution_count": null,
      "outputs": []
    },
    {
      "cell_type": "code",
      "source": [
        "df_train.iloc[5:6,:]"
      ],
      "metadata": {
        "id": "Rk4OjjqdywdS"
      },
      "execution_count": null,
      "outputs": []
    },
    {
      "cell_type": "code",
      "source": [
        "df_train.size, df_train.shape, df_train.columns"
      ],
      "metadata": {
        "id": "YYMcWoWFywTF"
      },
      "execution_count": null,
      "outputs": []
    },
    {
      "cell_type": "code",
      "source": [
        "df_test.size, df_test.shape, df_test.columns"
      ],
      "metadata": {
        "id": "dsf3Eu0R04or"
      },
      "execution_count": null,
      "outputs": []
    },
    {
      "cell_type": "code",
      "source": [
        "#Merge both train and test data\n",
        "#rename it to (df)\n",
        "df=df_train.append(df_test)\n",
        "df.head()"
      ],
      "metadata": {
        "id": "YPsg1oV604vX"
      },
      "execution_count": null,
      "outputs": []
    },
    {
      "cell_type": "code",
      "source": [
        "df"
      ],
      "metadata": {
        "id": "tM7t4oNa4P3K"
      },
      "execution_count": null,
      "outputs": []
    },
    {
      "cell_type": "code",
      "source": [
        "df.size, df.shape, df.columns"
      ],
      "metadata": {
        "id": "9QtANh4104yV"
      },
      "execution_count": null,
      "outputs": []
    },
    {
      "cell_type": "code",
      "source": [
        "df.info()"
      ],
      "metadata": {
        "id": "AU--wSOj041r"
      },
      "execution_count": null,
      "outputs": []
    },
    {
      "cell_type": "code",
      "source": [
        "df.describe"
      ],
      "metadata": {
        "id": "Tf1D9Mzt1wZ6"
      },
      "execution_count": null,
      "outputs": []
    },
    {
      "cell_type": "code",
      "source": [
        "df.describe()"
      ],
      "metadata": {
        "id": "tO0aJ-Zw1wck"
      },
      "execution_count": null,
      "outputs": []
    },
    {
      "cell_type": "code",
      "source": [
        "df.drop(['User_ID'], axis=1, inplace=True)     #drop deletes column  #axis 0 is row #axis 1 is column  #“axis 0” represents rows and “axis 1” represents columns.\n",
        "df                                             #this is the process #drop(['User_ID'], axis=1, inplace=True)"
      ],
      "metadata": {
        "id": "KcWB3h9b1wgA"
      },
      "execution_count": null,
      "outputs": []
    },
    {
      "cell_type": "code",
      "source": [
        "df['Gender'] = df['Gender'].map({'F':0, 'M':1})"
      ],
      "metadata": {
        "id": "pebGKCOE1wlc"
      },
      "execution_count": 72,
      "outputs": []
    },
    {
      "cell_type": "code",
      "source": [
        "df.head()"
      ],
      "metadata": {
        "id": "99zBdQEV1wpC"
      },
      "execution_count": null,
      "outputs": []
    },
    {
      "cell_type": "markdown",
      "source": [
        "# ======================================================================\n",
        "# Python Lambda Functions"
      ],
      "metadata": {
        "id": "etwnva088eZw"
      }
    },
    {
      "cell_type": "code",
      "source": [
        "x = lambda a: a + 10\n",
        "print(x(10))"
      ],
      "metadata": {
        "colab": {
          "base_uri": "https://localhost:8080/"
        },
        "id": "MTddJ1r38bXb",
        "outputId": "b385c8b8-0f4b-4332-d399-235fc3f7247d"
      },
      "execution_count": 75,
      "outputs": [
        {
          "output_type": "stream",
          "name": "stdout",
          "text": [
            "20\n"
          ]
        }
      ]
    },
    {
      "cell_type": "code",
      "source": [
        "x = lambda a, b: a*b+10\n",
        "print(x(2,8))"
      ],
      "metadata": {
        "colab": {
          "base_uri": "https://localhost:8080/"
        },
        "id": "XHrcMfw88baF",
        "outputId": "413d59d4-1c0f-4c2a-eb18-b20ea01143d5"
      },
      "execution_count": 76,
      "outputs": [
        {
          "output_type": "stream",
          "name": "stdout",
          "text": [
            "26\n"
          ]
        }
      ]
    },
    {
      "cell_type": "code",
      "source": [
        "x = lambda a,b,c: a*b*c\n",
        "print(x(3,6,9))"
      ],
      "metadata": {
        "colab": {
          "base_uri": "https://localhost:8080/"
        },
        "id": "TClEBJCW8bc4",
        "outputId": "da747569-96ac-44bf-a322-c2aecd5bef5f"
      },
      "execution_count": 77,
      "outputs": [
        {
          "output_type": "stream",
          "name": "stdout",
          "text": [
            "162\n"
          ]
        }
      ]
    },
    {
      "cell_type": "code",
      "source": [
        "result = lambda x,y : f\"{x} is smaller than {y}\" \\\n",
        "if x < y else (f\"{x} is greater than {y}\" if x > y \\\n",
        "               else f\"{x} is equal to {y}\")\n",
        "\n",
        "print(result(12, 11))\n",
        "print(result(12, 12))\n",
        "print(result(12, 13))"
      ],
      "metadata": {
        "colab": {
          "base_uri": "https://localhost:8080/"
        },
        "id": "qiZjIDRtBevk",
        "outputId": "05739ec5-d0a9-4fa5-e387-bc001c2aa934"
      },
      "execution_count": 87,
      "outputs": [
        {
          "output_type": "stream",
          "name": "stdout",
          "text": [
            "12 is greater than 11\n",
            "12 is equal to 12\n",
            "12 is smaller than 13\n"
          ]
        }
      ]
    }
  ]
}