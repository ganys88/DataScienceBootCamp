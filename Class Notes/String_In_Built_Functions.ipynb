{
  "nbformat": 4,
  "nbformat_minor": 0,
  "metadata": {
    "colab": {
      "provenance": []
    },
    "kernelspec": {
      "name": "python3",
      "display_name": "Python 3"
    },
    "language_info": {
      "name": "python"
    }
  },
  "cells": [
    {
      "cell_type": "code",
      "execution_count": null,
      "metadata": {
        "id": "AoYYln44SAro"
      },
      "outputs": [],
      "source": [
        "temp_str=\"Hello World\"\n",
        "#string slicing [start:stop:step]"
      ]
    },
    {
      "cell_type": "code",
      "source": [
        "temp_str=\"Hello World\"\n",
        "print(temp_str[::2])"
      ],
      "metadata": {
        "colab": {
          "base_uri": "https://localhost:8080/"
        },
        "id": "fBnJO18HSenb",
        "outputId": "bd4c7dd0-9068-4ae8-9eff-f06a193ef53c"
      },
      "execution_count": 1,
      "outputs": [
        {
          "output_type": "stream",
          "name": "stdout",
          "text": [
            "HloWrd\n"
          ]
        }
      ]
    },
    {
      "cell_type": "code",
      "source": [
        "dir(temp_str)"
      ],
      "metadata": {
        "colab": {
          "base_uri": "https://localhost:8080/"
        },
        "id": "meP7W_u9S54i",
        "outputId": "f14e8505-3267-47f5-8aa1-19679983be0a"
      },
      "execution_count": 2,
      "outputs": [
        {
          "output_type": "execute_result",
          "data": {
            "text/plain": [
              "['__add__',\n",
              " '__class__',\n",
              " '__contains__',\n",
              " '__delattr__',\n",
              " '__dir__',\n",
              " '__doc__',\n",
              " '__eq__',\n",
              " '__format__',\n",
              " '__ge__',\n",
              " '__getattribute__',\n",
              " '__getitem__',\n",
              " '__getnewargs__',\n",
              " '__gt__',\n",
              " '__hash__',\n",
              " '__init__',\n",
              " '__init_subclass__',\n",
              " '__iter__',\n",
              " '__le__',\n",
              " '__len__',\n",
              " '__lt__',\n",
              " '__mod__',\n",
              " '__mul__',\n",
              " '__ne__',\n",
              " '__new__',\n",
              " '__reduce__',\n",
              " '__reduce_ex__',\n",
              " '__repr__',\n",
              " '__rmod__',\n",
              " '__rmul__',\n",
              " '__setattr__',\n",
              " '__sizeof__',\n",
              " '__str__',\n",
              " '__subclasshook__',\n",
              " 'capitalize',\n",
              " 'casefold',\n",
              " 'center',\n",
              " 'count',\n",
              " 'encode',\n",
              " 'endswith',\n",
              " 'expandtabs',\n",
              " 'find',\n",
              " 'format',\n",
              " 'format_map',\n",
              " 'index',\n",
              " 'isalnum',\n",
              " 'isalpha',\n",
              " 'isascii',\n",
              " 'isdecimal',\n",
              " 'isdigit',\n",
              " 'isidentifier',\n",
              " 'islower',\n",
              " 'isnumeric',\n",
              " 'isprintable',\n",
              " 'isspace',\n",
              " 'istitle',\n",
              " 'isupper',\n",
              " 'join',\n",
              " 'ljust',\n",
              " 'lower',\n",
              " 'lstrip',\n",
              " 'maketrans',\n",
              " 'partition',\n",
              " 'removeprefix',\n",
              " 'removesuffix',\n",
              " 'replace',\n",
              " 'rfind',\n",
              " 'rindex',\n",
              " 'rjust',\n",
              " 'rpartition',\n",
              " 'rsplit',\n",
              " 'rstrip',\n",
              " 'split',\n",
              " 'splitlines',\n",
              " 'startswith',\n",
              " 'strip',\n",
              " 'swapcase',\n",
              " 'title',\n",
              " 'translate',\n",
              " 'upper',\n",
              " 'zfill']"
            ]
          },
          "metadata": {},
          "execution_count": 2
        }
      ]
    },
    {
      "cell_type": "code",
      "source": [
        "#capitalize 1st character of string\n",
        "temp_str=\"hello world\"\n",
        "print(temp_str.capitalize())\n"
      ],
      "metadata": {
        "colab": {
          "base_uri": "https://localhost:8080/"
        },
        "id": "2mI5JmMXTfSn",
        "outputId": "efc86a70-1d78-4dbd-b3db-7a78ee271db4"
      },
      "execution_count": 5,
      "outputs": [
        {
          "output_type": "stream",
          "name": "stdout",
          "text": [
            "Hello world\n"
          ]
        }
      ]
    },
    {
      "cell_type": "code",
      "source": [
        "#returns strings to lower case\n",
        "temp_str=\"Hello WorLd Hello HeLLo\"\n",
        "print(temp_str.casefold())\n",
        "\n",
        "#increase length of string by adding whatever character mentioned\n",
        "print(temp_str.center(32, \"*\"))\n",
        "print(temp_str.center(33, \"$\"))\n",
        "\n",
        "#returns how many times the substring appeared\n",
        "print(temp_str.count(\"Hello\"))\n",
        "print(temp_str.count(\"HeLLo\"))\n",
        "print(temp_str.count(\"HELLO\"))\n",
        "\n",
        "#how to give range\n",
        "#count(value, start, end)\n",
        "str2=\"hello world how is it going? hello hello all good.\"\n",
        "print(str2.count(\"hello\",3))\n",
        "print(str2.count(\"hello\",35))\n",
        "print(str2.count(\" hello\"))"
      ],
      "metadata": {
        "colab": {
          "base_uri": "https://localhost:8080/"
        },
        "id": "Q62Z4bArUYfe",
        "outputId": "959ee19b-08e5-4da4-cc25-51e3a13b7802"
      },
      "execution_count": 31,
      "outputs": [
        {
          "output_type": "stream",
          "name": "stdout",
          "text": [
            "hello world hello hello\n",
            "****Hello WorLd Hello HeLLo*****\n",
            "$$$$$Hello WorLd Hello HeLLo$$$$$\n",
            "2\n",
            "1\n",
            "0\n",
            "2\n",
            "1\n",
            "2\n"
          ]
        }
      ]
    },
    {
      "cell_type": "code",
      "source": [
        "#returns True and False\n",
        "temp_str=\"Hello World how is it going? Hello all good.\"\n",
        "print(temp_str.endswith(\"!\",0))\n",
        "print(temp_str.endswith(\"?\"))\n",
        "print(len(temp_str))\n",
        "\n",
        "#returns lowest idex of substring\n",
        "print(temp_str.find(\"how\"))"
      ],
      "metadata": {
        "colab": {
          "base_uri": "https://localhost:8080/"
        },
        "id": "DxrubqNVb4hk",
        "outputId": "e96f7f80-44db-4e33-c276-8825976c7ed0"
      },
      "execution_count": 38,
      "outputs": [
        {
          "output_type": "stream",
          "name": "stdout",
          "text": [
            "False\n",
            "False\n",
            "44\n",
            "12\n"
          ]
        }
      ]
    },
    {
      "cell_type": "code",
      "source": [
        "temp_str=\"hello my name is {fname}, i am a {job_position}\"\n",
        "print(temp_str.format(fname=\"Ganesh\", job_position=\"Data Scientist\"))\n",
        "\n",
        "#variables can't have spaces. add _ or special characters or take out the space"
      ],
      "metadata": {
        "colab": {
          "base_uri": "https://localhost:8080/"
        },
        "id": "8wnMwVPyfkyz",
        "outputId": "de035ebd-0bce-4542-eb5c-202e7e98117c"
      },
      "execution_count": 47,
      "outputs": [
        {
          "output_type": "stream",
          "name": "stdout",
          "text": [
            "hello my name is Ganesh, i am a Data Scientist\n"
          ]
        }
      ]
    },
    {
      "cell_type": "code",
      "source": [
        "#replica of find function\n",
        "temp_str=\"hello world how is it going? hello all good. how are you?\"\n",
        "print(temp_str.index(\"how\"))\n",
        "print(temp_str.find(\"how\"))\n",
        "print(temp_str.find(\"howhow\"))"
      ],
      "metadata": {
        "colab": {
          "base_uri": "https://localhost:8080/"
        },
        "id": "llvkBZa5hp9L",
        "outputId": "82ad9daa-8a09-4665-e565-ddd024a6ebed"
      },
      "execution_count": 55,
      "outputs": [
        {
          "output_type": "stream",
          "name": "stdout",
          "text": [
            "12\n",
            "12\n",
            "-1\n"
          ]
        }
      ]
    },
    {
      "cell_type": "code",
      "source": [
        "# isalpha or isalnum True or False\n",
        "temp_str=\"hello world\"\n",
        "temp_str1=\"helloworld121212\"\n",
        "temp_str2=\"helloworld\"\n",
        "print(temp_str.isalpha())\n",
        "print(temp_str1.isalnum())\n",
        "print(temp_str2.isalpha())"
      ],
      "metadata": {
        "colab": {
          "base_uri": "https://localhost:8080/"
        },
        "id": "d3gwmdeBjrUb",
        "outputId": "e59e6b13-e865-491e-c7f3-30fba9002047"
      },
      "execution_count": 59,
      "outputs": [
        {
          "output_type": "stream",
          "name": "stdout",
          "text": [
            "False\n",
            "True\n",
            "True\n"
          ]
        }
      ]
    },
    {
      "cell_type": "code",
      "source": [
        "#returns true if only number between 0-9 else return false\n",
        "str= \"helloworld\"\n",
        "str1=\"1234567890\"\n",
        "str2=\"  1234567890\"\n",
        "print(str.isdecimal())\n",
        "print(str1.isdecimal())\n",
        "print(str2.isdecimal())\n",
        "\n"
      ],
      "metadata": {
        "colab": {
          "base_uri": "https://localhost:8080/"
        },
        "id": "B_C83tynlUZs",
        "outputId": "ada5c907-8f36-456c-a21e-53b75c788df5"
      },
      "execution_count": 60,
      "outputs": [
        {
          "output_type": "stream",
          "name": "stdout",
          "text": [
            "False\n",
            "True\n",
            "False\n"
          ]
        }
      ]
    }
  ]
}