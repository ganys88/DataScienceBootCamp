{
  "nbformat": 4,
  "nbformat_minor": 0,
  "metadata": {
    "colab": {
      "provenance": []
    },
    "kernelspec": {
      "name": "python3",
      "display_name": "Python 3"
    },
    "language_info": {
      "name": "python"
    }
  },
  "cells": [
    {
      "cell_type": "code",
      "execution_count": 42,
      "metadata": {
        "id": "KIu3iEl730mn"
      },
      "outputs": [],
      "source": [
        "class mother:\n",
        "  def __init__(self, hair, height, eye):\n",
        "    self.hair = hair\n",
        "    self.height = height\n",
        "    self.eye = eye\n",
        "\n",
        "  def has_similar(self):\n",
        "    print(self.hair, self.height, self.eye)\n",
        "\n",
        "class father:\n",
        "  def __init__(self, hair, height, eye):\n",
        "    self.hair = hair\n",
        "    self.height = height\n",
        "    self.eye = eye\n",
        "\n",
        "  def has_similar(self):\n",
        "    print(self.hair, self.height, self.eye)\n",
        "\n",
        "class daughter(mother, father):\n",
        "   def __init__(self, hair, height, eye):\n",
        "    super().__init__(hair, height, eye)\n",
        "\n",
        "class son (mother, father):\n",
        "   def __init__(self, hair, height, eye):\n",
        "    super().__init__(hair, height, eye)"
      ]
    },
    {
      "cell_type": "code",
      "source": [
        "john = son ('black', 5.8, 'blue')"
      ],
      "metadata": {
        "id": "PDD_WqRVAhL7"
      },
      "execution_count": 45,
      "outputs": []
    },
    {
      "cell_type": "code",
      "source": [
        "john.has_similar()"
      ],
      "metadata": {
        "id": "zOrbHjb38z2W"
      },
      "execution_count": null,
      "outputs": []
    },
    {
      "cell_type": "markdown",
      "source": [
        "====================================================================="
      ],
      "metadata": {
        "id": "wNEQ96FkCIaD"
      }
    },
    {
      "cell_type": "code",
      "source": [
        "class a:\n",
        "  var_a1 = \"This is my first print statement inside class a \"\n",
        "  def __init__(self):\n",
        "    self.var_a2 = \"This my second print statement inside function __init__ of class a\"\n",
        "    self.var_a1 = \"Instance variable in class a\"\n",
        "    self.var_tmp1 = \"This is var_tmp1 inside class a\"\n",
        "\n",
        "class b(a):\n",
        "  var_b1 = \"this is my third print statement inside class b \"\n",
        "  def __init__(self):\n",
        "\n",
        "    self.var_b2 = \"This is my fouth print statement inside function __init__ of class b\"\n",
        "    self.var_a1 = \"Instance variable in class b\"\n",
        "    self.var_tmp1 = \"This is var_tmp1 inside class b\"\n",
        "    super().__init__()"
      ],
      "metadata": {
        "id": "TN-NXsw0CKN9"
      },
      "execution_count": 62,
      "outputs": []
    },
    {
      "cell_type": "code",
      "source": [
        "obj_a = a()\n",
        "obj_b = b()\n",
        "\n",
        "print(obj_a.var_a1)\n",
        "print(obj_a.var_tmp1)\n",
        "print(obj_b.var_a1)\n",
        "print(obj_b.var_a2)\n",
        "print(obj_b.var_b1)\n",
        "print(obj_b.var_b2)\n",
        "print(obj_b.var_tmp1)"
      ],
      "metadata": {
        "colab": {
          "base_uri": "https://localhost:8080/"
        },
        "id": "9MV4JdUhCR9X",
        "outputId": "5c11dc28-cccb-4a0c-8a27-a78adb6a0d08"
      },
      "execution_count": 63,
      "outputs": [
        {
          "output_type": "stream",
          "name": "stdout",
          "text": [
            "Instance variable in class a\n",
            "This is var_tmp1 inside class a\n",
            "Instance variable in class a\n",
            "This my second print statement inside function __init__ of class a\n",
            "this is my third print statement inside class b \n",
            "This is my fouth print statement inside function __init__ of class b\n",
            "This is var_tmp1 inside class a\n"
          ]
        }
      ]
    },
    {
      "cell_type": "markdown",
      "source": [
        "====================================================================="
      ],
      "metadata": {
        "id": "bl_K4YZoHE2B"
      }
    },
    {
      "cell_type": "code",
      "source": [
        "class a:\n",
        "  var_a1 = 'Vehicle'\n",
        "  def __init__(self):\n",
        "    self.var_a2 = 'Gas'\n",
        "    self.var_a1 = 'Diesel'\n",
        "    self.var_tmp1 = 'Electric'\n",
        "\n",
        "class b(a):\n",
        "  var_b1 = 'Animal'\n",
        "  def __init__(self):\n",
        "    self.var_b2 = 'Cow'\n",
        "    self.var_a1 = 'Lamb'\n",
        "    self.var_tmp1 = 'Pig'\n",
        "    super().__init__()\n",
        "    self.var_a2 = 'Fish'\n",
        "    self.var_a1 = 'Bird'\n",
        ""
      ],
      "metadata": {
        "id": "6GbNR2afF8qb"
      },
      "execution_count": 67,
      "outputs": []
    },
    {
      "cell_type": "code",
      "source": [
        "obj_a = a()\n",
        "obj_b = b()\n",
        "\n",
        "print(obj_a.var_a1)\n",
        "print(obj_a.var_tmp1)\n",
        "print(obj_b.var_a1)\n",
        "print(obj_b.var_a2)\n",
        "print(obj_b.var_b1)\n",
        "print(obj_b.var_b2)\n",
        "print(obj_b.var_tmp1)\n",
        "print(obj_b.var_a2)\n",
        "print(obj_b.var_a1)"
      ],
      "metadata": {
        "colab": {
          "base_uri": "https://localhost:8080/"
        },
        "id": "VxfNMCPnGEVQ",
        "outputId": "9bd6445d-1635-4475-8e5c-67aaad473787"
      },
      "execution_count": 81,
      "outputs": [
        {
          "output_type": "stream",
          "name": "stdout",
          "text": [
            "Diesel\n",
            "Electric\n",
            "Bird\n",
            "Fish\n",
            "Animal\n",
            "Cow\n",
            "Electric\n",
            "Fish\n",
            "Bird\n"
          ]
        }
      ]
    },
    {
      "cell_type": "markdown",
      "source": [
        "================================================================"
      ],
      "metadata": {
        "id": "zPgGIh91IAuT"
      }
    },
    {
      "cell_type": "code",
      "source": [
        "\n",
        "class Dog:\n",
        "  def __init__(self):\n",
        "    self.name = 'Bella'\n",
        "    self.age = 5\n",
        "    self.size = 4.5\n",
        "\n",
        "class Maltipoo(Dog):\n",
        "  def __init__(self):\n",
        "    self.name = 'Jimmy'\n",
        "    self.age = 12\n",
        "    self.size = 14.5\n",
        "    super().__init__()\n",
        "    self.breed = 'Boxer'\n",
        "    self.lbweight = 70\n"
      ],
      "metadata": {
        "id": "OobPIeNSQyP2"
      },
      "execution_count": 78,
      "outputs": []
    },
    {
      "cell_type": "code",
      "source": [
        "animal_a = Dog()\n",
        "animal_b = Maltipoo()\n",
        "\n",
        "print(animal_a.name)\n",
        "print(animal_a.age)\n",
        "print(animal_a.size)\n",
        "print(animal_b.name)\n",
        "print(animal_b.age)\n",
        "print(animal_b.size)\n",
        "print(animal_b.breed)\n",
        "print(animal_b.lbweight)"
      ],
      "metadata": {
        "id": "FVG20LdCSQ23"
      },
      "execution_count": null,
      "outputs": []
    },
    {
      "cell_type": "markdown",
      "source": [
        "========================================================================"
      ],
      "metadata": {
        "id": "vzewpIpDT8Fs"
      }
    },
    {
      "cell_type": "code",
      "source": [],
      "metadata": {
        "id": "aOIzYJygT90B"
      },
      "execution_count": null,
      "outputs": []
    }
  ]
}