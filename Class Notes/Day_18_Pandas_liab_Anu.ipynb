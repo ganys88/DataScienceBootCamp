{
  "cells": [
    {
      "cell_type": "code",
      "execution_count": null,
      "metadata": {
        "colab": {
          "base_uri": "https://localhost:8080/"
        },
        "id": "TbaDsWW5yHuU",
        "outputId": "1d3201e2-3a84-4fd0-813c-3b5c5d83bc63"
      },
      "outputs": [
        {
          "name": "stdout",
          "output_type": "stream",
          "text": [
            "10\n"
          ]
        }
      ],
      "source": [
        "total = 0\n",
        "for i in range (1, 5):\n",
        "  total += i\n",
        "print(total)"
      ]
    },
    {
      "cell_type": "code",
      "execution_count": null,
      "metadata": {
        "colab": {
          "base_uri": "https://localhost:8080/"
        },
        "id": "RnkwEtbCyyRt",
        "outputId": "9e761159-e2c6-4439-a832-903df8b3a4cd"
      },
      "outputs": [
        {
          "name": "stdout",
          "output_type": "stream",
          "text": [
            "[1, 2, 3, 4, 5, 6, 7, 9, 10, 23, 33, 34, 54, 75]\n"
          ]
        }
      ],
      "source": [
        "lst1 = [1,2,4,3,6,5,7,9,10,23,54,34,75,33]\n",
        "lst2 = lst1.sort()\n",
        "print(lst1)\n"
      ]
    },
    {
      "cell_type": "code",
      "execution_count": null,
      "metadata": {
        "colab": {
          "base_uri": "https://localhost:8080/"
        },
        "id": "GLro2T221fPp",
        "outputId": "0469c39c-c8b2-4f49-f827-487fd46eedf2"
      },
      "outputs": [
        {
          "name": "stdout",
          "output_type": "stream",
          "text": [
            "266\n"
          ]
        }
      ],
      "source": [
        "lst1 = [1, 2, 3, 4, 5, 6, 7, 9, 10, 23, 33, 34, 54, 75]\n",
        "total = 0\n",
        "for element in lst1:\n",
        "  total += element\n",
        "print(total)"
      ]
    },
    {
      "cell_type": "code",
      "execution_count": 85,
      "metadata": {
        "colab": {
          "base_uri": "https://localhost:8080/"
        },
        "id": "4mM-6Gj22W8k",
        "outputId": "663f274d-fcd7-4ea2-9cc5-2e665bb0277f"
      },
      "outputs": [
        {
          "output_type": "stream",
          "name": "stdout",
          "text": [
            "266\n"
          ]
        }
      ],
      "source": [
        "lst1 = [1, 2, 3, 4, 5, 6, 7, 9, 10, 23, 33, 34, 54, 75]\n",
        "total = 0\n",
        "for element in lst1:\n",
        "  total += element\n",
        "print(total)"
      ]
    },
    {
      "cell_type": "markdown",
      "source": [
        "**Aug 30, 2023**"
      ],
      "metadata": {
        "id": "d-3cxMCLD55Z"
      }
    },
    {
      "cell_type": "code",
      "source": [
        "import pandas as pd\n",
        "#pandas.pydata.org"
      ],
      "metadata": {
        "id": "R-KFEQMn_iGl"
      },
      "execution_count": 118,
      "outputs": []
    },
    {
      "cell_type": "code",
      "source": [
        "path ='/content/Churn_Modelling.csv'                    #comma separated value\n",
        "df_ChurnModelling_csv = pd.read_csv(path)\n",
        "df_ChurnModelling_csv                                   #DataFrame"
      ],
      "metadata": {
        "id": "mEwrkXDhB2uW"
      },
      "execution_count": null,
      "outputs": []
    },
    {
      "cell_type": "code",
      "source": [
        "path = '/content/df_ChurnModelling_html.html'\n",
        "df_ChurnModelling = pd.read_html(path)\n",
        "df_ChurnModelling"
      ],
      "metadata": {
        "id": "yNlyFKkKMWkv"
      },
      "execution_count": null,
      "outputs": []
    },
    {
      "cell_type": "code",
      "source": [
        "path = '/content/df_ChurnModelling_json.json'\n",
        "df_ChurnModelling = pd.read_json(path)\n",
        "df_ChurnModelling"
      ],
      "metadata": {
        "id": "l7FhMnrWMp8Q"
      },
      "execution_count": null,
      "outputs": []
    },
    {
      "cell_type": "code",
      "source": [
        "path = '/content/df_ChurnModelling_xml.xml'\n",
        "df_ChurnModelling = pd.read_xml(path)\n",
        "df_ChurnModelling"
      ],
      "metadata": {
        "id": "URqb1rc7M1X0"
      },
      "execution_count": null,
      "outputs": []
    },
    {
      "cell_type": "code",
      "source": [
        "path = '/content/df_ChurnModelling_xls.xls'\n",
        "df_ChurnModelling = pd.read_excel(path)      # xls = excel\n",
        "df_ChurnModelling"
      ],
      "metadata": {
        "id": "Yx4-D1WAOmgO"
      },
      "execution_count": null,
      "outputs": []
    },
    {
      "cell_type": "code",
      "source": [
        "!pip install xlwt"
      ],
      "metadata": {
        "colab": {
          "base_uri": "https://localhost:8080/"
        },
        "id": "7RBfscRdEbPb",
        "outputId": "8795f10e-6b1d-4842-a2c3-89c29d7648f8"
      },
      "execution_count": 120,
      "outputs": [
        {
          "output_type": "stream",
          "name": "stdout",
          "text": [
            "Requirement already satisfied: xlwt in /usr/local/lib/python3.10/dist-packages (1.3.0)\n"
          ]
        }
      ]
    },
    {
      "cell_type": "code",
      "source": [
        "import xlwt"
      ],
      "metadata": {
        "id": "K5HiXx2QEG7O"
      },
      "execution_count": 121,
      "outputs": []
    },
    {
      "cell_type": "code",
      "source": [
        "df_ChurnModelling_csv.to_excel(\"df_ChurnModelling_xls.xls\")\n"
      ],
      "metadata": {
        "colab": {
          "base_uri": "https://localhost:8080/"
        },
        "id": "lTik02E5H1fH",
        "outputId": "e2f80c66-37ef-40fe-9a65-6b2eaf235451"
      },
      "execution_count": 129,
      "outputs": [
        {
          "output_type": "stream",
          "name": "stderr",
          "text": [
            "<ipython-input-129-b5068f926ef5>:1: FutureWarning: As the xlwt package is no longer maintained, the xlwt engine will be removed in a future version of pandas. This is the only engine in pandas that supports writing in the xls format. Install openpyxl and write to an xlsx file instead. You can set the option io.excel.xls.writer to 'xlwt' to silence this warning. While this option is deprecated and will also raise a warning, it can be globally set and the warning suppressed.\n",
            "  df_ChurnModelling_csv.to_excel(\"df_ChurnModelling_xls.xls\")\n"
          ]
        }
      ]
    },
    {
      "cell_type": "code",
      "source": [
        "df_ChurnModelling_csv.to_excel(\"df_ChurnModelling_xlsx.xlsx\")"
      ],
      "metadata": {
        "id": "sk9n8izBIvrv"
      },
      "execution_count": 130,
      "outputs": []
    },
    {
      "cell_type": "code",
      "source": [
        "df_ChurnModelling_csv.to_html(\"df_ChurnModelling_html.html\")"
      ],
      "metadata": {
        "id": "SxD182vJIzHG"
      },
      "execution_count": 131,
      "outputs": []
    },
    {
      "cell_type": "code",
      "source": [
        "df_ChurnModelling_csv.to_xml(\"df_ChurnModelling_xml.xml\")"
      ],
      "metadata": {
        "id": "eAoaCkboLN8M"
      },
      "execution_count": 132,
      "outputs": []
    },
    {
      "cell_type": "code",
      "source": [
        "df_ChurnModelling_csv.to_json(\"df_ChurnModelling_json.json\")"
      ],
      "metadata": {
        "id": "0nd6qG9OLpxA"
      },
      "execution_count": 135,
      "outputs": []
    },
    {
      "cell_type": "markdown",
      "source": [
        "**Components of Python Pandas**\n",
        "\n",
        "*   Series\n",
        "*   DataFrame\n",
        "\n"
      ],
      "metadata": {
        "id": "PNqp7WfMPhmL"
      }
    },
    {
      "cell_type": "code",
      "source": [
        "import pandas as pd\n",
        "\n",
        "lst1 = [12,23,34,45,56,67,78,89,90,110]\n",
        "sr1 = pd.Series(lst1)\n",
        "sr1, sr1.ndim"
      ],
      "metadata": {
        "colab": {
          "base_uri": "https://localhost:8080/"
        },
        "id": "wxUx5cd0Pfqz",
        "outputId": "dc8cdfd3-8fcf-4387-9c0e-5acb338c0076"
      },
      "execution_count": 149,
      "outputs": [
        {
          "output_type": "execute_result",
          "data": {
            "text/plain": [
              "(0     12\n",
              " 1     23\n",
              " 2     34\n",
              " 3     45\n",
              " 4     56\n",
              " 5     67\n",
              " 6     78\n",
              " 7     89\n",
              " 8     90\n",
              " 9    110\n",
              " dtype: int64,\n",
              " 1)"
            ]
          },
          "metadata": {},
          "execution_count": 149
        }
      ]
    },
    {
      "cell_type": "code",
      "source": [
        "str1 = ('My', 'God', 'Python', 'Programming')\n",
        "sr1 = pd.Series(str1)\n",
        "sr1, sr1.ndim"
      ],
      "metadata": {
        "colab": {
          "base_uri": "https://localhost:8080/"
        },
        "id": "eJpTzXm_QZG3",
        "outputId": "d6c6a522-9961-43c3-cd1f-96af5d7d174f"
      },
      "execution_count": 148,
      "outputs": [
        {
          "output_type": "execute_result",
          "data": {
            "text/plain": [
              "(0             My\n",
              " 1            God\n",
              " 2         Python\n",
              " 3    Programming\n",
              " dtype: object,\n",
              " 1)"
            ]
          },
          "metadata": {},
          "execution_count": 148
        }
      ]
    },
    {
      "cell_type": "code",
      "source": [
        "tpl2 = ([[1,2,3],[4,5,6],[7,8,9],[-9,-8,-7]])\n",
        "sr2 = pd.Series(tpl2)\n",
        "sr2, sr2.ndim"
      ],
      "metadata": {
        "colab": {
          "base_uri": "https://localhost:8080/"
        },
        "id": "C_3JK4qPQavm",
        "outputId": "61db3041-51b7-45ca-bce0-648e0181e7ec"
      },
      "execution_count": 152,
      "outputs": [
        {
          "output_type": "execute_result",
          "data": {
            "text/plain": [
              "(0       [1, 2, 3]\n",
              " 1       [4, 5, 6]\n",
              " 2       [7, 8, 9]\n",
              " 3    [-9, -8, -7]\n",
              " dtype: object,\n",
              " 1)"
            ]
          },
          "metadata": {},
          "execution_count": 152
        }
      ]
    },
    {
      "cell_type": "code",
      "source": [
        "import pandas as pd\n",
        "\n",
        "lst1 = [12,23,34,45,56,67,78,89,90,110]\n",
        "sr1 = pd.Series(lst1)\n",
        "sr1, len(sr1), sr1.count(), sr1.ndim, type(sr1), sr1.size, sr1.dtype, sr1.item, sr1.items, sr1.nbytes, sr1.shape"
      ],
      "metadata": {
        "id": "-PSNK3pUSe_W"
      },
      "execution_count": null,
      "outputs": []
    },
    {
      "cell_type": "code",
      "source": [
        "tpl2 = ([[1,2,3],[4,5,6],[7,8,9],[-9,-8,-7]])\n",
        "sr2 = pd.Series(tpl2)\n",
        "sr2, len(sr2), sr2.count(), sr2.ndim, type(sr2), sr2.size, sr2.dtype, sr2.item, sr2.items, sr2.nbytes, sr2.shape"
      ],
      "metadata": {
        "id": "xKMciVQyTvok"
      },
      "execution_count": null,
      "outputs": []
    },
    {
      "cell_type": "code",
      "source": [
        "dict3 = {'d':'data','p':'python','n':'numpy','pd':'pandas'}\n",
        "sr3 = pd.Series(dict3)\n",
        "sr3, len(sr3), sr3.count(), sr3.ndim, type(sr3), sr3.size, sr3.dtype, sr3.item, sr3.items, sr3.nbytes, sr3.shape\n"
      ],
      "metadata": {
        "colab": {
          "base_uri": "https://localhost:8080/"
        },
        "id": "6wHIIKKvUDsj",
        "outputId": "4cf4c311-5386-497a-decf-e85e8dad954c"
      },
      "execution_count": 162,
      "outputs": [
        {
          "output_type": "execute_result",
          "data": {
            "text/plain": [
              "(d       data\n",
              " p     python\n",
              " n      numpy\n",
              " pd    pandas\n",
              " dtype: object,\n",
              " 4,\n",
              " 4,\n",
              " 1,\n",
              " pandas.core.series.Series,\n",
              " 4,\n",
              " dtype('O'),\n",
              " <bound method IndexOpsMixin.item of d       data\n",
              " p     python\n",
              " n      numpy\n",
              " pd    pandas\n",
              " dtype: object>,\n",
              " <bound method Series.items of d       data\n",
              " p     python\n",
              " n      numpy\n",
              " pd    pandas\n",
              " dtype: object>,\n",
              " 32,\n",
              " (4,))"
            ]
          },
          "metadata": {},
          "execution_count": 162
        }
      ]
    }
  ],
  "metadata": {
    "colab": {
      "provenance": []
    },
    "kernelspec": {
      "display_name": "Python 3",
      "name": "python3"
    },
    "language_info": {
      "name": "python"
    }
  },
  "nbformat": 4,
  "nbformat_minor": 0
}