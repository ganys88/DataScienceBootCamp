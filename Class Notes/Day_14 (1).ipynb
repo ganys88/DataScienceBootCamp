{
  "nbformat": 4,
  "nbformat_minor": 0,
  "metadata": {
    "colab": {
      "provenance": []
    },
    "kernelspec": {
      "name": "python3",
      "display_name": "Python 3"
    },
    "language_info": {
      "name": "python"
    }
  },
  "cells": [
    {
      "cell_type": "code",
      "source": [
        "\n",
        "def display_board(board_list):\n",
        "    print(\" {} | {} | {} \".format(board_list[6],board_list[7],board_list[8]))\n",
        "    print(\"-----------\")\n",
        "    print(\" {} | {} | {} \".format(board_list[3],board_list[4],board_list[5]))\n",
        "    print(\"-----------\")\n",
        "    print(\" {} | {} | {} \".format(board_list[0],board_list[1],board_list[2]))\n",
        "\n",
        "available = [num for num in range(1,10)]\n",
        "display_board(available)\n",
        "\n",
        "position_to_replace= int(input(\"choose 1 to 9:\")) -1\n",
        "while True:\n",
        "  if position_to_replace<0 or position_to_replace>8:\n",
        "    print(\"Invalid Input\")\n",
        "    position_to_replace=int(input(\"choose 1 to 9:\"))\n",
        "  else:\n",
        "    available[position_to_replace]= 'X'\n",
        "    print(available)\n",
        "    break\n",
        "\n",
        "display_board(available)\n",
        "\n"
      ],
      "metadata": {
        "id": "Q8iYnMTAeZJq"
      },
      "execution_count": null,
      "outputs": []
    },
    {
      "cell_type": "code",
      "source": [
        "#create a tic tac toe between comp and human\n",
        "#1st user will enter his name\n",
        "#user will choice x or o\n",
        "#randomly first turn will be decided\n",
        "#after each turn show board with replaced indexes by x or o\n",
        "#if no one wins and board is full say its a draw\n",
        "#win conditions are horizontal match or vertical match or diagonal match\n",
        "#ask user if we wants to play again at end of game"
      ],
      "metadata": {
        "id": "ONfmkYoe1Rcc"
      },
      "execution_count": null,
      "outputs": []
    }
  ]
}