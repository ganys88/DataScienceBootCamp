{
  "cells": [
    {
      "cell_type": "markdown",
      "metadata": {
        "id": "WZz_LcQgADZB"
      },
      "source": [
        "# **Import Libraries**\n"
      ]
    },
    {
      "cell_type": "code",
      "execution_count": null,
      "metadata": {
        "id": "yDM3TCle_0Zd"
      },
      "outputs": [],
      "source": [
        "import numpy as np\n",
        "import pandas as pd\n",
        "import matplotlib.pyplot as plt"
      ]
    },
    {
      "cell_type": "markdown",
      "metadata": {
        "id": "_oTAgd3TATaU"
      },
      "source": [
        "# **import dataset**"
      ]
    },
    {
      "cell_type": "code",
      "execution_count": null,
      "metadata": {
        "colab": {
          "base_uri": "https://localhost:8080/",
          "height": 362
        },
        "id": "LVnA679l_-H2",
        "outputId": "e441ced7-5f46-4653-b000-7c315b47fc67"
      },
      "outputs": [
        {
          "data": {
            "text/html": [
              "\n",
              "  <div id=\"df-62ed3244-9b46-4553-bf99-2f35b012bef2\" class=\"colab-df-container\">\n",
              "    <div>\n",
              "<style scoped>\n",
              "    .dataframe tbody tr th:only-of-type {\n",
              "        vertical-align: middle;\n",
              "    }\n",
              "\n",
              "    .dataframe tbody tr th {\n",
              "        vertical-align: top;\n",
              "    }\n",
              "\n",
              "    .dataframe thead th {\n",
              "        text-align: right;\n",
              "    }\n",
              "</style>\n",
              "<table border=\"1\" class=\"dataframe\">\n",
              "  <thead>\n",
              "    <tr style=\"text-align: right;\">\n",
              "      <th></th>\n",
              "      <th>Country</th>\n",
              "      <th>Age</th>\n",
              "      <th>Salary</th>\n",
              "      <th>Purchased</th>\n",
              "    </tr>\n",
              "  </thead>\n",
              "  <tbody>\n",
              "    <tr>\n",
              "      <th>0</th>\n",
              "      <td>France</td>\n",
              "      <td>44.0</td>\n",
              "      <td>72000.0</td>\n",
              "      <td>No</td>\n",
              "    </tr>\n",
              "    <tr>\n",
              "      <th>1</th>\n",
              "      <td>Spain</td>\n",
              "      <td>27.0</td>\n",
              "      <td>48000.0</td>\n",
              "      <td>Yes</td>\n",
              "    </tr>\n",
              "    <tr>\n",
              "      <th>2</th>\n",
              "      <td>Germany</td>\n",
              "      <td>30.0</td>\n",
              "      <td>54000.0</td>\n",
              "      <td>No</td>\n",
              "    </tr>\n",
              "    <tr>\n",
              "      <th>3</th>\n",
              "      <td>Spain</td>\n",
              "      <td>38.0</td>\n",
              "      <td>61000.0</td>\n",
              "      <td>No</td>\n",
              "    </tr>\n",
              "    <tr>\n",
              "      <th>4</th>\n",
              "      <td>Germany</td>\n",
              "      <td>40.0</td>\n",
              "      <td>NaN</td>\n",
              "      <td>Yes</td>\n",
              "    </tr>\n",
              "    <tr>\n",
              "      <th>5</th>\n",
              "      <td>France</td>\n",
              "      <td>35.0</td>\n",
              "      <td>58000.0</td>\n",
              "      <td>Yes</td>\n",
              "    </tr>\n",
              "    <tr>\n",
              "      <th>6</th>\n",
              "      <td>Spain</td>\n",
              "      <td>NaN</td>\n",
              "      <td>52000.0</td>\n",
              "      <td>No</td>\n",
              "    </tr>\n",
              "    <tr>\n",
              "      <th>7</th>\n",
              "      <td>France</td>\n",
              "      <td>48.0</td>\n",
              "      <td>79000.0</td>\n",
              "      <td>Yes</td>\n",
              "    </tr>\n",
              "    <tr>\n",
              "      <th>8</th>\n",
              "      <td>Germany</td>\n",
              "      <td>50.0</td>\n",
              "      <td>83000.0</td>\n",
              "      <td>No</td>\n",
              "    </tr>\n",
              "    <tr>\n",
              "      <th>9</th>\n",
              "      <td>France</td>\n",
              "      <td>37.0</td>\n",
              "      <td>67000.0</td>\n",
              "      <td>Yes</td>\n",
              "    </tr>\n",
              "  </tbody>\n",
              "</table>\n",
              "</div>\n",
              "    <div class=\"colab-df-buttons\">\n",
              "\n",
              "  <div class=\"colab-df-container\">\n",
              "    <button class=\"colab-df-convert\" onclick=\"convertToInteractive('df-62ed3244-9b46-4553-bf99-2f35b012bef2')\"\n",
              "            title=\"Convert this dataframe to an interactive table.\"\n",
              "            style=\"display:none;\">\n",
              "\n",
              "  <svg xmlns=\"http://www.w3.org/2000/svg\" height=\"24px\" viewBox=\"0 -960 960 960\">\n",
              "    <path d=\"M120-120v-720h720v720H120Zm60-500h600v-160H180v160Zm220 220h160v-160H400v160Zm0 220h160v-160H400v160ZM180-400h160v-160H180v160Zm440 0h160v-160H620v160ZM180-180h160v-160H180v160Zm440 0h160v-160H620v160Z\"/>\n",
              "  </svg>\n",
              "    </button>\n",
              "\n",
              "  <style>\n",
              "    .colab-df-container {\n",
              "      display:flex;\n",
              "      gap: 12px;\n",
              "    }\n",
              "\n",
              "    .colab-df-convert {\n",
              "      background-color: #E8F0FE;\n",
              "      border: none;\n",
              "      border-radius: 50%;\n",
              "      cursor: pointer;\n",
              "      display: none;\n",
              "      fill: #1967D2;\n",
              "      height: 32px;\n",
              "      padding: 0 0 0 0;\n",
              "      width: 32px;\n",
              "    }\n",
              "\n",
              "    .colab-df-convert:hover {\n",
              "      background-color: #E2EBFA;\n",
              "      box-shadow: 0px 1px 2px rgba(60, 64, 67, 0.3), 0px 1px 3px 1px rgba(60, 64, 67, 0.15);\n",
              "      fill: #174EA6;\n",
              "    }\n",
              "\n",
              "    .colab-df-buttons div {\n",
              "      margin-bottom: 4px;\n",
              "    }\n",
              "\n",
              "    [theme=dark] .colab-df-convert {\n",
              "      background-color: #3B4455;\n",
              "      fill: #D2E3FC;\n",
              "    }\n",
              "\n",
              "    [theme=dark] .colab-df-convert:hover {\n",
              "      background-color: #434B5C;\n",
              "      box-shadow: 0px 1px 3px 1px rgba(0, 0, 0, 0.15);\n",
              "      filter: drop-shadow(0px 1px 2px rgba(0, 0, 0, 0.3));\n",
              "      fill: #FFFFFF;\n",
              "    }\n",
              "  </style>\n",
              "\n",
              "    <script>\n",
              "      const buttonEl =\n",
              "        document.querySelector('#df-62ed3244-9b46-4553-bf99-2f35b012bef2 button.colab-df-convert');\n",
              "      buttonEl.style.display =\n",
              "        google.colab.kernel.accessAllowed ? 'block' : 'none';\n",
              "\n",
              "      async function convertToInteractive(key) {\n",
              "        const element = document.querySelector('#df-62ed3244-9b46-4553-bf99-2f35b012bef2');\n",
              "        const dataTable =\n",
              "          await google.colab.kernel.invokeFunction('convertToInteractive',\n",
              "                                                    [key], {});\n",
              "        if (!dataTable) return;\n",
              "\n",
              "        const docLinkHtml = 'Like what you see? Visit the ' +\n",
              "          '<a target=\"_blank\" href=https://colab.research.google.com/notebooks/data_table.ipynb>data table notebook</a>'\n",
              "          + ' to learn more about interactive tables.';\n",
              "        element.innerHTML = '';\n",
              "        dataTable['output_type'] = 'display_data';\n",
              "        await google.colab.output.renderOutput(dataTable, element);\n",
              "        const docLink = document.createElement('div');\n",
              "        docLink.innerHTML = docLinkHtml;\n",
              "        element.appendChild(docLink);\n",
              "      }\n",
              "    </script>\n",
              "  </div>\n",
              "\n",
              "\n",
              "<div id=\"df-17f23901-9dd4-41f1-8506-974abbf4db80\">\n",
              "  <button class=\"colab-df-quickchart\" onclick=\"quickchart('df-17f23901-9dd4-41f1-8506-974abbf4db80')\"\n",
              "            title=\"Suggest charts.\"\n",
              "            style=\"display:none;\">\n",
              "\n",
              "<svg xmlns=\"http://www.w3.org/2000/svg\" height=\"24px\"viewBox=\"0 0 24 24\"\n",
              "     width=\"24px\">\n",
              "    <g>\n",
              "        <path d=\"M19 3H5c-1.1 0-2 .9-2 2v14c0 1.1.9 2 2 2h14c1.1 0 2-.9 2-2V5c0-1.1-.9-2-2-2zM9 17H7v-7h2v7zm4 0h-2V7h2v10zm4 0h-2v-4h2v4z\"/>\n",
              "    </g>\n",
              "</svg>\n",
              "  </button>\n",
              "\n",
              "<style>\n",
              "  .colab-df-quickchart {\n",
              "      --bg-color: #E8F0FE;\n",
              "      --fill-color: #1967D2;\n",
              "      --hover-bg-color: #E2EBFA;\n",
              "      --hover-fill-color: #174EA6;\n",
              "      --disabled-fill-color: #AAA;\n",
              "      --disabled-bg-color: #DDD;\n",
              "  }\n",
              "\n",
              "  [theme=dark] .colab-df-quickchart {\n",
              "      --bg-color: #3B4455;\n",
              "      --fill-color: #D2E3FC;\n",
              "      --hover-bg-color: #434B5C;\n",
              "      --hover-fill-color: #FFFFFF;\n",
              "      --disabled-bg-color: #3B4455;\n",
              "      --disabled-fill-color: #666;\n",
              "  }\n",
              "\n",
              "  .colab-df-quickchart {\n",
              "    background-color: var(--bg-color);\n",
              "    border: none;\n",
              "    border-radius: 50%;\n",
              "    cursor: pointer;\n",
              "    display: none;\n",
              "    fill: var(--fill-color);\n",
              "    height: 32px;\n",
              "    padding: 0;\n",
              "    width: 32px;\n",
              "  }\n",
              "\n",
              "  .colab-df-quickchart:hover {\n",
              "    background-color: var(--hover-bg-color);\n",
              "    box-shadow: 0 1px 2px rgba(60, 64, 67, 0.3), 0 1px 3px 1px rgba(60, 64, 67, 0.15);\n",
              "    fill: var(--button-hover-fill-color);\n",
              "  }\n",
              "\n",
              "  .colab-df-quickchart-complete:disabled,\n",
              "  .colab-df-quickchart-complete:disabled:hover {\n",
              "    background-color: var(--disabled-bg-color);\n",
              "    fill: var(--disabled-fill-color);\n",
              "    box-shadow: none;\n",
              "  }\n",
              "\n",
              "  .colab-df-spinner {\n",
              "    border: 2px solid var(--fill-color);\n",
              "    border-color: transparent;\n",
              "    border-bottom-color: var(--fill-color);\n",
              "    animation:\n",
              "      spin 1s steps(1) infinite;\n",
              "  }\n",
              "\n",
              "  @keyframes spin {\n",
              "    0% {\n",
              "      border-color: transparent;\n",
              "      border-bottom-color: var(--fill-color);\n",
              "      border-left-color: var(--fill-color);\n",
              "    }\n",
              "    20% {\n",
              "      border-color: transparent;\n",
              "      border-left-color: var(--fill-color);\n",
              "      border-top-color: var(--fill-color);\n",
              "    }\n",
              "    30% {\n",
              "      border-color: transparent;\n",
              "      border-left-color: var(--fill-color);\n",
              "      border-top-color: var(--fill-color);\n",
              "      border-right-color: var(--fill-color);\n",
              "    }\n",
              "    40% {\n",
              "      border-color: transparent;\n",
              "      border-right-color: var(--fill-color);\n",
              "      border-top-color: var(--fill-color);\n",
              "    }\n",
              "    60% {\n",
              "      border-color: transparent;\n",
              "      border-right-color: var(--fill-color);\n",
              "    }\n",
              "    80% {\n",
              "      border-color: transparent;\n",
              "      border-right-color: var(--fill-color);\n",
              "      border-bottom-color: var(--fill-color);\n",
              "    }\n",
              "    90% {\n",
              "      border-color: transparent;\n",
              "      border-bottom-color: var(--fill-color);\n",
              "    }\n",
              "  }\n",
              "</style>\n",
              "\n",
              "  <script>\n",
              "    async function quickchart(key) {\n",
              "      const quickchartButtonEl =\n",
              "        document.querySelector('#' + key + ' button');\n",
              "      quickchartButtonEl.disabled = true;  // To prevent multiple clicks.\n",
              "      quickchartButtonEl.classList.add('colab-df-spinner');\n",
              "      try {\n",
              "        const charts = await google.colab.kernel.invokeFunction(\n",
              "            'suggestCharts', [key], {});\n",
              "      } catch (error) {\n",
              "        console.error('Error during call to suggestCharts:', error);\n",
              "      }\n",
              "      quickchartButtonEl.classList.remove('colab-df-spinner');\n",
              "      quickchartButtonEl.classList.add('colab-df-quickchart-complete');\n",
              "    }\n",
              "    (() => {\n",
              "      let quickchartButtonEl =\n",
              "        document.querySelector('#df-17f23901-9dd4-41f1-8506-974abbf4db80 button');\n",
              "      quickchartButtonEl.style.display =\n",
              "        google.colab.kernel.accessAllowed ? 'block' : 'none';\n",
              "    })();\n",
              "  </script>\n",
              "</div>\n",
              "    </div>\n",
              "  </div>\n"
            ],
            "text/plain": [
              "   Country   Age   Salary Purchased\n",
              "0   France  44.0  72000.0        No\n",
              "1    Spain  27.0  48000.0       Yes\n",
              "2  Germany  30.0  54000.0        No\n",
              "3    Spain  38.0  61000.0        No\n",
              "4  Germany  40.0      NaN       Yes\n",
              "5   France  35.0  58000.0       Yes\n",
              "6    Spain   NaN  52000.0        No\n",
              "7   France  48.0  79000.0       Yes\n",
              "8  Germany  50.0  83000.0        No\n",
              "9   France  37.0  67000.0       Yes"
            ]
          },
          "execution_count": 4,
          "metadata": {},
          "output_type": "execute_result"
        }
      ],
      "source": [
        "df = pd.read_csv('/content/Data - Data.csv')\n",
        "df"
      ]
    },
    {
      "cell_type": "markdown",
      "metadata": {
        "id": "XNPYkz9TKC-4"
      },
      "source": [
        "# **selecting dependent and independent values**"
      ]
    },
    {
      "cell_type": "code",
      "execution_count": null,
      "metadata": {
        "id": "WsQx_nOdKIqk"
      },
      "outputs": [],
      "source": [
        "X = df.iloc[:, 0:3].values\n",
        "y = df.iloc[:, -1].values"
      ]
    },
    {
      "cell_type": "code",
      "execution_count": null,
      "metadata": {
        "colab": {
          "base_uri": "https://localhost:8080/"
        },
        "id": "_uH9Akc2KIta",
        "outputId": "cccf11a7-c8f8-4b1c-8891-8a800b03db45"
      },
      "outputs": [
        {
          "output_type": "execute_result",
          "data": {
            "text/plain": [
              "array([['France', 44.0, 72000.0],\n",
              "       ['Spain', 27.0, 48000.0],\n",
              "       ['Germany', 30.0, 54000.0],\n",
              "       ['Spain', 38.0, 61000.0],\n",
              "       ['Germany', 40.0, nan],\n",
              "       ['France', 35.0, 58000.0],\n",
              "       ['Spain', nan, 52000.0],\n",
              "       ['France', 48.0, 79000.0],\n",
              "       ['Germany', 50.0, 83000.0],\n",
              "       ['France', 37.0, 67000.0]], dtype=object)"
            ]
          },
          "metadata": {},
          "execution_count": 32
        }
      ],
      "source": [
        "X"
      ]
    },
    {
      "cell_type": "code",
      "execution_count": null,
      "metadata": {
        "colab": {
          "base_uri": "https://localhost:8080/"
        },
        "id": "32suLV-5KIvr",
        "outputId": "5e9e851b-679b-48df-cba9-c8f076b30cb0"
      },
      "outputs": [
        {
          "output_type": "execute_result",
          "data": {
            "text/plain": [
              "array(['No', 'Yes', 'No', 'No', 'Yes', 'Yes', 'No', 'Yes', 'No', 'Yes'],\n",
              "      dtype=object)"
            ]
          },
          "metadata": {},
          "execution_count": 31
        }
      ],
      "source": [
        "y"
      ]
    },
    {
      "cell_type": "markdown",
      "metadata": {
        "id": "wKK_p_-VKWTJ"
      },
      "source": [
        "# **Manage missing data**\n",
        "1. mean 2. median 3. mode(most frequent) and 4. constant\n",
        "# strategy = mean\n"
      ]
    },
    {
      "cell_type": "code",
      "execution_count": null,
      "metadata": {
        "id": "kaSbtdEYKIzT"
      },
      "outputs": [],
      "source": [
        "from sklearn.impute import SimpleImputer\n",
        "imputer = SimpleImputer(missing_values=np.nan, strategy='mean')\n",
        "imputer.fit(X[:, 1:3])\n",
        "X[:, 1:3] = imputer.transform(X[:, 1:3])"
      ]
    },
    {
      "cell_type": "code",
      "execution_count": null,
      "metadata": {
        "colab": {
          "base_uri": "https://localhost:8080/"
        },
        "id": "8CjvbkhyL2OM",
        "outputId": "ca45422d-8fcc-4b99-d7c5-a242cd1099ef"
      },
      "outputs": [
        {
          "data": {
            "text/plain": [
              "array([['France', 44.0, 72000.0],\n",
              "       ['Spain', 27.0, 48000.0],\n",
              "       ['Germany', 30.0, 54000.0],\n",
              "       ['Spain', 38.0, 61000.0],\n",
              "       ['Germany', 40.0, 63777.77777777778],\n",
              "       ['France', 35.0, 58000.0],\n",
              "       ['Spain', 38.77777777777778, 52000.0],\n",
              "       ['France', 48.0, 79000.0],\n",
              "       ['Germany', 50.0, 83000.0],\n",
              "       ['France', 37.0, 67000.0]], dtype=object)"
            ]
          },
          "execution_count": 9,
          "metadata": {},
          "output_type": "execute_result"
        }
      ],
      "source": [
        "X"
      ]
    },
    {
      "cell_type": "markdown",
      "metadata": {
        "id": "L3TM5zhwMSou"
      },
      "source": [
        "# **Manage missing data**\n",
        "# strategy = median\n"
      ]
    },
    {
      "cell_type": "code",
      "execution_count": null,
      "metadata": {
        "id": "utroiX2dL6mO"
      },
      "outputs": [],
      "source": [
        "from sklearn.impute import SimpleImputer\n",
        "imputer = SimpleImputer(missing_values=np.nan, strategy='median')  # result is wrong. its still showing mean.\n",
        "imputer.fit(X[:, 1:3])\n",
        "X[:, 1:3] = imputer.transform(X[:, 1:3])"
      ]
    },
    {
      "cell_type": "code",
      "execution_count": null,
      "metadata": {
        "colab": {
          "base_uri": "https://localhost:8080/"
        },
        "id": "24Tmz2dxL6x_",
        "outputId": "f7808b83-e562-435a-a18d-786c78fcc229"
      },
      "outputs": [
        {
          "data": {
            "text/plain": [
              "array([[1.0, 0.0, 0.0, 44.0, 72000.0],\n",
              "       [0.0, 0.0, 1.0, 27.0, 48000.0],\n",
              "       [0.0, 1.0, 0.0, 30.0, 54000.0],\n",
              "       [0.0, 0.0, 1.0, 38.0, 61000.0],\n",
              "       [0.0, 1.0, 0.0, 40.0, 63777.77777777778],\n",
              "       [1.0, 0.0, 0.0, 35.0, 58000.0],\n",
              "       [0.0, 0.0, 1.0, 38.77777777777778, 52000.0],\n",
              "       [1.0, 0.0, 0.0, 48.0, 79000.0],\n",
              "       [0.0, 1.0, 0.0, 50.0, 83000.0],\n",
              "       [1.0, 0.0, 0.0, 37.0, 67000.0]], dtype=object)"
            ]
          },
          "execution_count": 15,
          "metadata": {},
          "output_type": "execute_result"
        }
      ],
      "source": [
        "X"
      ]
    },
    {
      "cell_type": "markdown",
      "metadata": {
        "id": "krgLiV0nTjLh"
      },
      "source": [
        "# **Encoding Categorical Data**\n",
        "# Non Numeric to Numeric data"
      ]
    },
    {
      "cell_type": "code",
      "execution_count": null,
      "metadata": {
        "id": "dJ3W3olpTntP"
      },
      "outputs": [],
      "source": [
        "from sklearn.compose import ColumnTransformer\n",
        "from sklearn.preprocessing import OneHotEncoder\n",
        "ct = ColumnTransformer(transformers=[('encoder', OneHotEncoder(), [0])], remainder='passthrough')\n",
        "X = np.array(ct.fit_transform(X))"
      ]
    },
    {
      "cell_type": "code",
      "execution_count": null,
      "metadata": {
        "colab": {
          "base_uri": "https://localhost:8080/"
        },
        "id": "d4RdHoeGTnwi",
        "outputId": "0aeeb0fe-f5de-467c-e731-1d4a3630426c"
      },
      "outputs": [
        {
          "data": {
            "text/plain": [
              "array([[1.0, 0.0, 0.0, 44.0, 72000.0],\n",
              "       [0.0, 0.0, 1.0, 27.0, 48000.0],\n",
              "       [0.0, 1.0, 0.0, 30.0, 54000.0],\n",
              "       [0.0, 0.0, 1.0, 38.0, 61000.0],\n",
              "       [0.0, 1.0, 0.0, 40.0, 63777.77777777778],\n",
              "       [1.0, 0.0, 0.0, 35.0, 58000.0],\n",
              "       [0.0, 0.0, 1.0, 38.77777777777778, 52000.0],\n",
              "       [1.0, 0.0, 0.0, 48.0, 79000.0],\n",
              "       [0.0, 1.0, 0.0, 50.0, 83000.0],\n",
              "       [1.0, 0.0, 0.0, 37.0, 67000.0]], dtype=object)"
            ]
          },
          "execution_count": 13,
          "metadata": {},
          "output_type": "execute_result"
        }
      ],
      "source": [
        "X"
      ]
    },
    {
      "cell_type": "markdown",
      "metadata": {
        "id": "C9weEyQ1Lkm2"
      },
      "source": [
        "# **Encoding the Dependent Variable**"
      ]
    },
    {
      "cell_type": "code",
      "execution_count": null,
      "metadata": {
        "colab": {
          "background_save": true
        },
        "id": "YUiU9L_BLml5"
      },
      "outputs": [],
      "source": [
        "from sklearn.preprocessing import LabelEncoder\n",
        "le = LabelEncoder()\n",
        "y = le.fit_transform(y)"
      ]
    },
    {
      "cell_type": "markdown",
      "metadata": {
        "id": "QxuVp982LxXz"
      },
      "source": [
        "# **Splitting the dataset into the Training set and Test**"
      ]
    },
    {
      "cell_type": "markdown",
      "source": [
        "![image.png](data:image/png;base64,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)"
      ],
      "metadata": {
        "id": "WIJoq_xOXBBB"
      }
    },
    {
      "cell_type": "code",
      "execution_count": null,
      "metadata": {
        "id": "yh9blrWmLs2w"
      },
      "outputs": [],
      "source": [
        "from sklearn.model_selection import train_test_split\n",
        "X_train, X_test, y_train, y_test = train_test_split(X, y, test_size=0.2, random_state=0)"
      ]
    },
    {
      "cell_type": "code",
      "execution_count": null,
      "metadata": {
        "colab": {
          "base_uri": "https://localhost:8080/"
        },
        "id": "abquwCl4MAiZ",
        "outputId": "e18c0a79-0751-4e0b-e017-a8edce4d12f6"
      },
      "outputs": [
        {
          "output_type": "execute_result",
          "data": {
            "text/plain": [
              "(array([[0.0, 1.0, 0.0, 40.0, 63777.77777777778],\n",
              "        [1.0, 0.0, 0.0, 37.0, 67000.0],\n",
              "        [0.0, 0.0, 1.0, 27.0, 48000.0],\n",
              "        [0.0, 0.0, 1.0, 38.77777777777778, 52000.0],\n",
              "        [1.0, 0.0, 0.0, 48.0, 79000.0],\n",
              "        [0.0, 0.0, 1.0, 38.0, 61000.0],\n",
              "        [1.0, 0.0, 0.0, 44.0, 72000.0],\n",
              "        [1.0, 0.0, 0.0, 35.0, 58000.0]], dtype=object),\n",
              " array([[0.0, 1.0, 0.0, 30.0, 54000.0],\n",
              "        [0.0, 1.0, 0.0, 50.0, 83000.0]], dtype=object),\n",
              " array([1, 1, 1, 0, 1, 0, 0, 1]),\n",
              " array([0, 0]))"
            ]
          },
          "metadata": {},
          "execution_count": 20
        }
      ],
      "source": [
        "X_train, X_test, y_train, y_test"
      ]
    },
    {
      "cell_type": "markdown",
      "source": [
        "# **Feature Selection**"
      ],
      "metadata": {
        "id": "pYA7QFlJbdCN"
      }
    },
    {
      "cell_type": "code",
      "execution_count": null,
      "metadata": {
        "id": "jc2aI83fMAlv"
      },
      "outputs": [],
      "source": [
        "from sklearn.preprocessing import StandardScaler\n",
        "sc = StandardScaler()\n",
        "X_train[:, 3:] = sc.fit_transform(X_train[:, 3:])\n",
        "X_test[:, 3:] = sc.transform(X_test[:, 3:])"
      ]
    },
    {
      "cell_type": "code",
      "source": [
        "X_train"
      ],
      "metadata": {
        "colab": {
          "base_uri": "https://localhost:8080/"
        },
        "id": "BxZQjBZRbj-F",
        "outputId": "57fefc71-84fc-4c41-9eb4-b0af606a0281"
      },
      "execution_count": null,
      "outputs": [
        {
          "output_type": "execute_result",
          "data": {
            "text/plain": [
              "array([[0.0, 1.0, 0.0, 0.2630675731713538, 0.1238147854838185],\n",
              "       [1.0, 0.0, 0.0, -0.25350147960148617, 0.4617563176278856],\n",
              "       [0.0, 0.0, 1.0, -1.9753983221776195, -1.5309334063940294],\n",
              "       [0.0, 0.0, 1.0, 0.05261351463427101, -1.1114197802841526],\n",
              "       [1.0, 0.0, 0.0, 1.6405850472322605, 1.7202971959575162],\n",
              "       [0.0, 0.0, 1.0, -0.08131179534387283, -0.16751412153692966],\n",
              "       [1.0, 0.0, 0.0, 0.9518263102018072, 0.9861483502652316],\n",
              "       [1.0, 0.0, 0.0, -0.5978808481167128, -0.48214934111933727]],\n",
              "      dtype=object)"
            ]
          },
          "metadata": {},
          "execution_count": 23
        }
      ]
    }
  ],
  "metadata": {
    "colab": {
      "provenance": []
    },
    "kernelspec": {
      "display_name": "Python 3",
      "name": "python3"
    },
    "language_info": {
      "name": "python"
    }
  },
  "nbformat": 4,
  "nbformat_minor": 0
}