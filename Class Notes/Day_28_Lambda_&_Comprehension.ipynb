{
  "nbformat": 4,
  "nbformat_minor": 0,
  "metadata": {
    "colab": {
      "provenance": []
    },
    "kernelspec": {
      "name": "python3",
      "display_name": "Python 3"
    },
    "language_info": {
      "name": "python"
    }
  },
  "cells": [
    {
      "cell_type": "markdown",
      "source": [
        "# **Tuesday Sept 12, 2023**\n",
        "\n",
        "# > Lambda Function\n",
        "\n"
      ],
      "metadata": {
        "id": "EEwEbN2I4_09"
      }
    },
    {
      "cell_type": "code",
      "source": [
        "x = 0\n",
        "y = 0\n",
        "if x < y:\n",
        "  print(x, 'is smaller than', y)\n",
        "elif x > y:\n",
        "  print(x, 'is greater than', y)\n",
        "else:\n",
        "  print(x, 'is equal to', y)\n",
        "\n",
        "\n",
        "# Lambda Equivalent\n",
        "result = lambda x,y : f\"{x} is smaller than {y}\" \\\n",
        "if x < y else (f\"{x} is greater than {y}\" if x > y \\\n",
        "               else f\"{x} is equal to {y}\")"
      ],
      "metadata": {
        "colab": {
          "base_uri": "https://localhost:8080/"
        },
        "id": "maZLilem37zb",
        "outputId": "d584b66c-6fc9-40af-fef7-89ac1ad34981"
      },
      "execution_count": null,
      "outputs": [
        {
          "output_type": "stream",
          "name": "stdout",
          "text": [
            "0 is equal to 0\n"
          ]
        }
      ]
    },
    {
      "cell_type": "code",
      "source": [
        "percentage = 0\n",
        "if (percentage >= 78):\n",
        "  print('pass with first class distinction')\n",
        "elif (percentage >= 60):\n",
        "  print('pass with first class')\n",
        "elif (percentage >= 40):\n",
        "  print('pass with second class')\n",
        "elif (percentage >= 33):\n",
        "  print('pass with third class')\n",
        "else:\n",
        "  print('better luck next time')\n"
      ],
      "metadata": {
        "colab": {
          "base_uri": "https://localhost:8080/"
        },
        "id": "uDh_UTly38Ak",
        "outputId": "935a3c4a-ccec-4f03-badf-321bcddef631"
      },
      "execution_count": null,
      "outputs": [
        {
          "output_type": "stream",
          "name": "stdout",
          "text": [
            "better luck next time\n"
          ]
        }
      ]
    },
    {
      "cell_type": "code",
      "source": [
        "result = lambda percentage: f\"{percentage} pass with first class distinction\" if percentage >= 78 else (\\\n",
        "                            f\"{percentage} pass with first class\" if percentage >= 60  else (\\\n",
        "                            f\"{percentage} pass with second class\" if percentage >= 40  else (\\\n",
        "                            f\"{percentage} pass with third class\" if percentage >= 33  else (\\\n",
        "                            f\"{percentage} better luck next time\"))))"
      ],
      "metadata": {
        "id": "UwbLnvk438DG"
      },
      "execution_count": null,
      "outputs": []
    },
    {
      "cell_type": "code",
      "source": [
        "print(result(55))\n",
        "print(result(80))"
      ],
      "metadata": {
        "colab": {
          "base_uri": "https://localhost:8080/"
        },
        "id": "rlAs8HaR38Fa",
        "outputId": "99f96b34-f574-44bc-fa16-449d8eb75a0f"
      },
      "execution_count": null,
      "outputs": [
        {
          "output_type": "stream",
          "name": "stdout",
          "text": [
            "55 pass with second class\n",
            "80 pass with first class distinction\n"
          ]
        }
      ]
    },
    {
      "cell_type": "code",
      "source": [
        "def func_sum(a, b):\n",
        "  return a + b"
      ],
      "metadata": {
        "id": "VIPUL_lRBnDs"
      },
      "execution_count": null,
      "outputs": []
    },
    {
      "cell_type": "code",
      "source": [
        "func_sum (10,20)"
      ],
      "metadata": {
        "colab": {
          "base_uri": "https://localhost:8080/"
        },
        "id": "Q16CmsIKGP9F",
        "outputId": "34cf6277-949f-4a5f-c8eb-8fbe26fec8da"
      },
      "execution_count": null,
      "outputs": [
        {
          "output_type": "execute_result",
          "data": {
            "text/plain": [
              "30"
            ]
          },
          "metadata": {},
          "execution_count": 58
        }
      ]
    },
    {
      "cell_type": "code",
      "source": [
        "def func_sum(a, b, c, d):\n",
        "  return a + b + c + d"
      ],
      "metadata": {
        "id": "KrgtUkmiBnNe"
      },
      "execution_count": null,
      "outputs": []
    },
    {
      "cell_type": "code",
      "source": [
        "func_sum(10,20,30,40)"
      ],
      "metadata": {
        "colab": {
          "base_uri": "https://localhost:8080/"
        },
        "id": "C0M8zTa1Gcpm",
        "outputId": "2b27ee90-b09a-4ee6-f2f6-3680c5abb3b0"
      },
      "execution_count": null,
      "outputs": [
        {
          "output_type": "execute_result",
          "data": {
            "text/plain": [
              "100"
            ]
          },
          "metadata": {},
          "execution_count": 61
        }
      ]
    },
    {
      "cell_type": "code",
      "source": [
        "def func_sum(a, b, c, d, a1, b1, c1, d1):\n",
        "  return a + b + c + d + a1 + b1 + c1 + d1"
      ],
      "metadata": {
        "id": "_gvApzf5BnP7"
      },
      "execution_count": null,
      "outputs": []
    },
    {
      "cell_type": "code",
      "source": [
        "def func_sum(*args): # *args (Non-Keyword Arguments)\n",
        "  return args"
      ],
      "metadata": {
        "id": "-RvOsB1rBnSB"
      },
      "execution_count": null,
      "outputs": []
    },
    {
      "cell_type": "code",
      "source": [
        "def func_sum(*anurag): # *args (Non-Keyword Arguments)\n",
        "  return anurag"
      ],
      "metadata": {
        "id": "h-rr1YtHBnVc"
      },
      "execution_count": null,
      "outputs": []
    },
    {
      "cell_type": "code",
      "source": [
        "func_sum(12,23,34,45,56,67,78,89,90,101)"
      ],
      "metadata": {
        "colab": {
          "base_uri": "https://localhost:8080/"
        },
        "id": "fc38P97-B5u7",
        "outputId": "ce6756e5-59c1-4a97-d65b-c2f292bd6040"
      },
      "execution_count": null,
      "outputs": [
        {
          "output_type": "execute_result",
          "data": {
            "text/plain": [
              "(12, 23, 34, 45, 56, 67, 78, 89, 90, 101)"
            ]
          },
          "metadata": {},
          "execution_count": 39
        }
      ]
    },
    {
      "cell_type": "code",
      "source": [
        "def func_sum(*args):\n",
        "  sum1 = 0\n",
        "  for i in args:\n",
        "    sum1 += i\n",
        "  return sum1"
      ],
      "metadata": {
        "id": "EVy2fXM5CtN5"
      },
      "execution_count": null,
      "outputs": []
    },
    {
      "cell_type": "code",
      "source": [
        "func_sum(10,20,30,40)"
      ],
      "metadata": {
        "colab": {
          "base_uri": "https://localhost:8080/"
        },
        "id": "vWgx-IDxDTCo",
        "outputId": "3ac65abe-0e1d-46fe-d190-250a3669f703"
      },
      "execution_count": null,
      "outputs": [
        {
          "output_type": "execute_result",
          "data": {
            "text/plain": [
              "100"
            ]
          },
          "metadata": {},
          "execution_count": 53
        }
      ]
    },
    {
      "cell_type": "code",
      "source": [
        "def func_sum(a,b,c,*args):   # args must be place at the end\n",
        "  return a+b+c+(sum(args))"
      ],
      "metadata": {
        "id": "kllbc9uzEb_s"
      },
      "execution_count": null,
      "outputs": []
    },
    {
      "cell_type": "code",
      "source": [
        "func_sum(10,20,30,40)"
      ],
      "metadata": {
        "colab": {
          "base_uri": "https://localhost:8080/"
        },
        "id": "PaWp3TpnGFRY",
        "outputId": "517b5583-cd74-445b-d013-6865d06e7eb5"
      },
      "execution_count": null,
      "outputs": [
        {
          "output_type": "execute_result",
          "data": {
            "text/plain": [
              "100"
            ]
          },
          "metadata": {},
          "execution_count": 86
        }
      ]
    },
    {
      "cell_type": "code",
      "source": [
        "def func_mul(a,b,c,*args):\n",
        "  return a*b*c*(args)"
      ],
      "metadata": {
        "id": "KwNxe9N5IarI"
      },
      "execution_count": null,
      "outputs": []
    },
    {
      "cell_type": "code",
      "source": [
        "func_mul(1,2,3,4,10)"
      ],
      "metadata": {
        "colab": {
          "base_uri": "https://localhost:8080/"
        },
        "id": "Ox6ayksnIauG",
        "outputId": "b9aeb0b2-2db8-45ff-aeb6-827013f0c1e5"
      },
      "execution_count": null,
      "outputs": [
        {
          "output_type": "execute_result",
          "data": {
            "text/plain": [
              "(4, 10, 4, 10, 4, 10, 4, 10, 4, 10, 4, 10)"
            ]
          },
          "metadata": {},
          "execution_count": 91
        }
      ]
    },
    {
      "cell_type": "code",
      "source": [
        "def func_sum(**kwargs):   # keyword argurments # key in values like dict: a = 'apple'\n",
        "  return kwargs"
      ],
      "metadata": {
        "id": "yJmWe4LCIazv"
      },
      "execution_count": null,
      "outputs": []
    },
    {
      "cell_type": "code",
      "source": [
        "func_sum(fname='Anurag', mname='Arun', lname = 'Edlabadkar')"
      ],
      "metadata": {
        "colab": {
          "base_uri": "https://localhost:8080/"
        },
        "id": "PS5ZVHQRIa3G",
        "outputId": "961a5f1b-4d83-48c6-ecc6-fc349dcf347e"
      },
      "execution_count": null,
      "outputs": [
        {
          "output_type": "execute_result",
          "data": {
            "text/plain": [
              "{'fname': 'Anurag', 'mname': 'Arun', 'lname': 'Edlabadkar'}"
            ]
          },
          "metadata": {},
          "execution_count": 111
        }
      ]
    },
    {
      "cell_type": "code",
      "source": [
        "def func_sum(*args, **kwargs):\n",
        "  return (args,kwargs)"
      ],
      "metadata": {
        "id": "Pwoe3JH0LiOv"
      },
      "execution_count": null,
      "outputs": []
    },
    {
      "cell_type": "code",
      "source": [
        "func_sum(1,2,3,4,5, j = 'jack', h = 'hill')"
      ],
      "metadata": {
        "colab": {
          "base_uri": "https://localhost:8080/"
        },
        "id": "Ev2K1G8bNVty",
        "outputId": "4d7578a3-4a72-43d7-8dba-97cfa7f650a2"
      },
      "execution_count": null,
      "outputs": [
        {
          "output_type": "execute_result",
          "data": {
            "text/plain": [
              "((1, 2, 3, 4, 5), {'j': 'jack', 'h': 'hill'})"
            ]
          },
          "metadata": {},
          "execution_count": 131
        }
      ]
    },
    {
      "cell_type": "code",
      "source": [
        "def var (**kwargs, *args):\n",
        "  return (kwargs, args,)"
      ],
      "metadata": {
        "colab": {
          "base_uri": "https://localhost:8080/",
          "height": 143
        },
        "id": "nrtInetCOZMg",
        "outputId": "677f9287-30ca-477b-c542-425ef751dfc3"
      },
      "execution_count": null,
      "outputs": [
        {
          "output_type": "error",
          "ename": "SyntaxError",
          "evalue": "ignored",
          "traceback": [
            "\u001b[0;36m  File \u001b[0;32m\"<ipython-input-145-1860a137e621>\"\u001b[0;36m, line \u001b[0;32m1\u001b[0m\n\u001b[0;31m    def var (**kwargs,*args):\u001b[0m\n\u001b[0m                      ^\u001b[0m\n\u001b[0;31mSyntaxError\u001b[0m\u001b[0;31m:\u001b[0m invalid syntax\n"
          ]
        }
      ]
    },
    {
      "cell_type": "code",
      "source": [
        "var(j = 'jack', h = 'hill',1,2,3,4,5)"
      ],
      "metadata": {
        "colab": {
          "base_uri": "https://localhost:8080/",
          "height": 143
        },
        "id": "s6rKdh7BOg0E",
        "outputId": "823f5414-8193-4fb0-e4f6-25c33cd6e77f"
      },
      "execution_count": null,
      "outputs": [
        {
          "output_type": "error",
          "ename": "SyntaxError",
          "evalue": "ignored",
          "traceback": [
            "\u001b[0;36m  File \u001b[0;32m\"<ipython-input-146-0873152902c9>\"\u001b[0;36m, line \u001b[0;32m1\u001b[0m\n\u001b[0;31m    var(j = 'jack', h = 'hill',1,2,3,4,5)\u001b[0m\n\u001b[0m                                        ^\u001b[0m\n\u001b[0;31mSyntaxError\u001b[0m\u001b[0;31m:\u001b[0m positional argument follows keyword argument\n"
          ]
        }
      ]
    },
    {
      "cell_type": "code",
      "source": [
        "def var (a,b,c,*args,**kwargs):\n",
        "  return (a,b,c,args,kwargs)"
      ],
      "metadata": {
        "id": "YLWkQJ0nPvMy"
      },
      "execution_count": null,
      "outputs": []
    },
    {
      "cell_type": "code",
      "source": [
        "var(1,2,3,4,5,6,7,8,9, j = 'jack', h = 'hill')"
      ],
      "metadata": {
        "colab": {
          "base_uri": "https://localhost:8080/"
        },
        "id": "zv4gyvBXP8Sx",
        "outputId": "3d5ff8ea-e639-4c4c-bd99-658f3ed1f673"
      },
      "execution_count": null,
      "outputs": [
        {
          "output_type": "execute_result",
          "data": {
            "text/plain": [
              "(1, 2, 3, (4, 5, 6, 7, 8, 9), {'j': 'jack', 'h': 'hill'})"
            ]
          },
          "metadata": {},
          "execution_count": 149
        }
      ]
    },
    {
      "cell_type": "markdown",
      "source": [
        "Sept 13, 2023, Wed\n",
        "# **Comprehension**\n",
        "\n",
        "*   List\n",
        "*   Dictionary\n",
        "*   Set\n",
        "*   Generative\n",
        "\n"
      ],
      "metadata": {
        "id": "_aJ9bUOHAgEV"
      }
    },
    {
      "cell_type": "code",
      "source": [
        "for i in range (100):\n",
        "  print(i)"
      ],
      "metadata": {
        "id": "sKyU5T8NArlm"
      },
      "execution_count": null,
      "outputs": []
    },
    {
      "cell_type": "code",
      "source": [
        "lst_comp1 = [i for i in range(100)]\n",
        "print(lst_comp1)"
      ],
      "metadata": {
        "id": "HxoFkLytBtT1"
      },
      "execution_count": null,
      "outputs": []
    },
    {
      "cell_type": "code",
      "source": [
        "for i in range (100):\n",
        "  if i%3 == 0:\n",
        "    print(i)"
      ],
      "metadata": {
        "id": "50q9ou_ABtkD"
      },
      "execution_count": null,
      "outputs": []
    },
    {
      "cell_type": "code",
      "source": [
        "lst_comp2 = [ i for i in range (100) if i%3 == 0]\n",
        "print(lst_comp2)"
      ],
      "metadata": {
        "id": "_tK8Jl6hBtnQ"
      },
      "execution_count": null,
      "outputs": []
    },
    {
      "cell_type": "code",
      "source": [
        "fruit_lst1 = ['apple','banana','cherries','dates','fig']\n",
        "lst_comp3 = [i for i in fruit_lst1 if 'apple' not in i]\n",
        "print(lst_comp3)"
      ],
      "metadata": {
        "colab": {
          "base_uri": "https://localhost:8080/"
        },
        "id": "YbudAndOBtp1",
        "outputId": "10eccb2e-04f6-433a-b13b-d269422c7bb9"
      },
      "execution_count": null,
      "outputs": [
        {
          "output_type": "stream",
          "name": "stdout",
          "text": [
            "['banana', 'cherries', 'dates', 'fig']\n"
          ]
        }
      ]
    },
    {
      "cell_type": "code",
      "source": [
        "food_lst1 = ['apple','pineapple','greenapple','applepie','applejuice']\n",
        "lst_comp4 = [i for i in food_lst1 if 'apple' in i]\n",
        "print(lst_comp4)"
      ],
      "metadata": {
        "colab": {
          "base_uri": "https://localhost:8080/"
        },
        "id": "cFcKy9YLBtsX",
        "outputId": "fb9038fc-90e2-42fe-d3bd-4e59bcfc9595"
      },
      "execution_count": null,
      "outputs": [
        {
          "output_type": "stream",
          "name": "stdout",
          "text": [
            "['apple', 'pineapple', 'greenapple', 'applepie', 'applejuice']\n"
          ]
        }
      ]
    },
    {
      "cell_type": "code",
      "source": [
        "food_lst2 = ['apple','pineapple','greenapple','applepie','applejuice']\n",
        "lst_comp5 = [i for i in food_lst2 if 'apple' not in i]\n",
        "print(lst_comp5)"
      ],
      "metadata": {
        "colab": {
          "base_uri": "https://localhost:8080/"
        },
        "id": "Fe2sMQlCBtvB",
        "outputId": "a0bac90b-9e7d-403a-9b82-37e890ef3600"
      },
      "execution_count": null,
      "outputs": [
        {
          "output_type": "stream",
          "name": "stdout",
          "text": [
            "[]\n"
          ]
        }
      ]
    },
    {
      "cell_type": "code",
      "source": [
        "name = ['Ch','Dh','Eh','cb','Tb','Td']\n",
        "for i in name:\n",
        "  if 'C' in i or 'c' in i:\n",
        "    print(i)"
      ],
      "metadata": {
        "colab": {
          "base_uri": "https://localhost:8080/"
        },
        "id": "Zh--QhaFIv77",
        "outputId": "505b34b0-c179-4015-d25b-61cc9ad9e8ae"
      },
      "execution_count": null,
      "outputs": [
        {
          "output_type": "stream",
          "name": "stdout",
          "text": [
            "Ch\n",
            "cb\n"
          ]
        }
      ]
    },
    {
      "cell_type": "code",
      "source": [
        "name = ['Ch','Dh','Eh','cb','Tb','Td']\n",
        "lst_comp6 = [ i for i in name if 'C' in i or 'c' in i]\n",
        "print(lst_comp6)"
      ],
      "metadata": {
        "colab": {
          "base_uri": "https://localhost:8080/"
        },
        "id": "ubG_Q8vfJL7J",
        "outputId": "64213f74-5bb6-45d2-a656-753213f89b12"
      },
      "execution_count": 25,
      "outputs": [
        {
          "output_type": "stream",
          "name": "stdout",
          "text": [
            "['Ch', 'cb']\n"
          ]
        }
      ]
    },
    {
      "cell_type": "code",
      "source": [
        "ndimarray = [[10,20,30],\n",
        "             [40,50,60],\n",
        "             [70,80,90]]\n",
        "\n",
        "lst1 = [[i[j] for i in ndimarray] for j in range(len(ndimarray[0]))]\n",
        "print(lst1)"
      ],
      "metadata": {
        "colab": {
          "base_uri": "https://localhost:8080/"
        },
        "id": "F9jVtlMRLVFr",
        "outputId": "88b414db-7368-4270-c35d-0d55d844e757"
      },
      "execution_count": 40,
      "outputs": [
        {
          "output_type": "stream",
          "name": "stdout",
          "text": [
            "[[10, 40, 70], [20, 50, 80], [30, 60, 90]]\n"
          ]
        }
      ]
    },
    {
      "cell_type": "code",
      "source": [
        "# Dictionary Comprehension\n",
        "\n",
        "dictcompre = {i : f'Item {i}' for i in range (10)}\n",
        "dictcompre"
      ],
      "metadata": {
        "colab": {
          "base_uri": "https://localhost:8080/"
        },
        "id": "hTifK9oFTdW5",
        "outputId": "e33ff329-e53d-46de-fe85-57d8ac90799b"
      },
      "execution_count": 43,
      "outputs": [
        {
          "output_type": "execute_result",
          "data": {
            "text/plain": [
              "{0: 'Item 0',\n",
              " 1: 'Item 1',\n",
              " 2: 'Item 2',\n",
              " 3: 'Item 3',\n",
              " 4: 'Item 4',\n",
              " 5: 'Item 5',\n",
              " 6: 'Item 6',\n",
              " 7: 'Item 7',\n",
              " 8: 'Item 8',\n",
              " 9: 'Item 9'}"
            ]
          },
          "metadata": {},
          "execution_count": 43
        }
      ]
    },
    {
      "cell_type": "code",
      "source": [
        "for i in range (10):\n",
        "  print(i,': Item',+i)"
      ],
      "metadata": {
        "colab": {
          "base_uri": "https://localhost:8080/"
        },
        "id": "IYB4sJLkT9DN",
        "outputId": "0b957276-4234-48f1-8b70-9a6099907f12"
      },
      "execution_count": 44,
      "outputs": [
        {
          "output_type": "stream",
          "name": "stdout",
          "text": [
            "0 : Item 0\n",
            "1 : Item 1\n",
            "2 : Item 2\n",
            "3 : Item 3\n",
            "4 : Item 4\n",
            "5 : Item 5\n",
            "6 : Item 6\n",
            "7 : Item 7\n",
            "8 : Item 8\n",
            "9 : Item 9\n"
          ]
        }
      ]
    },
    {
      "cell_type": "code",
      "source": [
        "#Set Comprehension\n"
      ],
      "metadata": {
        "id": "iUGjRv11YKWj"
      },
      "execution_count": null,
      "outputs": []
    },
    {
      "cell_type": "code",
      "source": [
        "set1 = {1,2,3,2,3,'apple','banana','apple'}\n",
        "set_comp = { i for i in set1}\n",
        "set_comp"
      ],
      "metadata": {
        "colab": {
          "base_uri": "https://localhost:8080/"
        },
        "id": "cr_nDQztU5Ok",
        "outputId": "3e13ef9a-f233-461b-c55b-78f786cc4657"
      },
      "execution_count": 51,
      "outputs": [
        {
          "output_type": "execute_result",
          "data": {
            "text/plain": [
              "{1, 2, 3, 'apple', 'banana'}"
            ]
          },
          "metadata": {},
          "execution_count": 51
        }
      ]
    },
    {
      "cell_type": "code",
      "source": [
        "#Generator Comprehension"
      ],
      "metadata": {
        "id": "XJtmCGlAX8NP"
      },
      "execution_count": null,
      "outputs": []
    }
  ]
}