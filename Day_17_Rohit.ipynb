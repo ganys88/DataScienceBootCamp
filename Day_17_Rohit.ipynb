{
  "nbformat": 4,
  "nbformat_minor": 0,
  "metadata": {
    "colab": {
      "provenance": []
    },
    "kernelspec": {
      "name": "python3",
      "display_name": "Python 3"
    },
    "language_info": {
      "name": "python"
    }
  },
  "cells": [
    {
      "cell_type": "code",
      "execution_count": 1,
      "metadata": {
        "id": "If-jCZD6PhhY"
      },
      "outputs": [],
      "source": [
        "#Library Catalog: Implement a Library class with methods to add books, lend books, and return books.\n",
        "#Keep track of available and borrowed books.\n",
        "\n",
        "class Library:\n",
        "  def __init__(self,books=[]):\n",
        "    if type(books) ==list:\n",
        "      if len(books)>0:\n",
        "        self.books=[]+list(books)\n",
        "      else:\n",
        "        self.books=[]\n",
        "    else:\n",
        "      self.books=[]\n",
        "\n",
        "  def add_books(self,bookname):\n",
        "    self.books.append(str(bookname))\n",
        "\n",
        "  def lend_books(self,bookname):\n",
        "    try:\n",
        "      index=self.books.index(str(bookname))\n",
        "      self.books.pop(index)\n",
        "      print(\"Here we Found your book\")\n",
        "    except:\n",
        "      print(\"No Such Book in library catalog Please check available books\")\n",
        "\n",
        "  def return_book(self,bookname):\n",
        "    self.add_books(bookname)\n",
        "\n",
        "  def available_books(self):\n",
        "    print(\"Available books are\")\n",
        "    for k in  self.books:\n",
        "      print(k)"
      ]
    },
    {
      "cell_type": "code",
      "source": [
        "library=Library(['harry potter','Lord of rings'])\n",
        "library.available_books()\n",
        "library.add_books('harry potter 2')\n",
        "library.add_books('harry potter 3')\n",
        "library.add_books('harry potter 4')\n",
        "library.available_books()\n",
        "library.lend_books(\"harry potter\")\n",
        "library.available_books()\n",
        "library.return_book(\"harry potter\")\n",
        "library.available_books()"
      ],
      "metadata": {
        "id": "vTWk-pHXSVv1"
      },
      "execution_count": null,
      "outputs": []
    },
    {
      "cell_type": "code",
      "source": [
        "#Bank Account: Create a BankAccount class with methods to deposit, withdraw, and get the current balance.\n",
        "#Ensure that the balance can't go negative.\n",
        "class BankAccount:\n",
        "  def __init__(self,balance=0):\n",
        "    if balance>0:\n",
        "      self.balance=balance\n",
        "    else:\n",
        "      print(\"Invalid Balance entered Initializing balance with zero\")\n",
        "      self.balance=0\n",
        "\n",
        "  def deposit(self,amount):\n",
        "    if amount>0:\n",
        "      print(\"Deposit Successful\")\n",
        "      self.balance=self.balance+amount\n",
        "      print(\"Your Current Balance is \",self.balance)\n",
        "    else:\n",
        "      print(\"Invalid Amount please enter value greater than 0\")\n",
        "      print(\"Your Current Balance is \",self.balance)\n",
        "\n",
        "  def withdraw(self,amount):\n",
        "    if self.balance>=amount:\n",
        "      self.balance=self.balance-amount\n",
        "      print(\"Withdraw Successful\")\n",
        "      print(\"Your Current Balance is \",self.balance)\n",
        "    else:\n",
        "      print(\"Can not withdraw more than current balance\")\n",
        "      print(\"Your Current Balance is \",self.balance)\n",
        "\n",
        "  def get_current_balance(self):\n",
        "    print(\"Your Current Balance is \",self.balance)"
      ],
      "metadata": {
        "id": "yLbwmwpxSdYr"
      },
      "execution_count": 3,
      "outputs": []
    },
    {
      "cell_type": "code",
      "source": [
        "newacc = BankAccount(-100)\n",
        "print(newacc.get_current_balance())\n",
        "\n",
        "newacc.deposit(20)\n",
        "print(newacc.get_current_balance())\n",
        "\n",
        "newacc.withdraw(20)\n",
        "print(newacc.get_current_balance())\n",
        "\n",
        "newacc.withdraw(100)\n",
        "print(newacc.get_current_balance())"
      ],
      "metadata": {
        "id": "UQwXpdY2Sek_"
      },
      "execution_count": null,
      "outputs": []
    },
    {
      "cell_type": "code",
      "source": [
        "#Create a Shape class with subclasses like Circle, Rectangle, and Triangle.\n",
        "#Implement methods to calculate area and perimeter for each shape.\n",
        "\n",
        "#abstract class = blueprint for other classes\n",
        "#below class shape is abstract class"
      ],
      "metadata": {
        "id": "L37lpEJuUWge"
      },
      "execution_count": null,
      "outputs": []
    },
    {
      "cell_type": "code",
      "source": [
        "\n",
        "class shape:\n",
        "  def __init__ (self, name):\n",
        "    self.name = name\n",
        "\n",
        "  def calculate_area(self):\n",
        "    pass\n",
        "  def calculate_perimeter(self):\n",
        "    pass\n",
        "\n",
        "class Circle(shape):\n",
        "  def __init__ (self, name, radius):\n",
        "    self.radius = radius\n",
        "\n",
        "  def calculate_area (self):\n",
        "    return 3.14 * self.radius ** 2\n",
        "\n",
        "  def calculate_perimeter (self):\n",
        "    return 2*3.14*self.radius\n",
        "\n",
        "class Rectangle (shape):\n",
        "  def __init__ (self, name, length, width):\n",
        "    self.length = length\n",
        "    self.width = width\n",
        "\n",
        "  def calculate_area (self):\n",
        "    return self.length * self.width\n",
        "\n",
        "  def calculate_perimeter (self):\n",
        "    return (2*(self.length + self.width))\n",
        "\n",
        "class Triangle (shape):\n",
        "  def __init__ (self, name, height, base, length, breadth):\n",
        "    self.height = height\n",
        "    self.base = base\n",
        "    self.length = length\n",
        "    self.breadth = breadth\n",
        "\n",
        "\n",
        "  def calculate_area(self):\n",
        "    return ((self.height*self.base)/2)\n",
        "\n",
        "  def calculate_perimeter(self):\n",
        "    return (self.length + self.breadth + self.base)\n"
      ],
      "metadata": {
        "id": "LiXVBsz1UdA8"
      },
      "execution_count": 70,
      "outputs": []
    },
    {
      "cell_type": "code",
      "source": [
        "circle = Circle(\"Circle\", 5)\n",
        "rectangle = Rectangle(\"Rectangle\", 10, 5)\n",
        "triangle = Triangle(\"Triangle\", 10, 8, 9, 8)"
      ],
      "metadata": {
        "id": "Q7SducsrW7e8"
      },
      "execution_count": 71,
      "outputs": []
    },
    {
      "cell_type": "code",
      "source": [
        "print('Area of circle is ',circle.calculate_area())\n",
        "print('Perimeter of circle is ',circle.calculate_perimeter())\n",
        "print('Area of rectangle is ',rectangle.calculate_area())\n",
        "print('Perimeter of rectangle is ',rectangle.calculate_perimeter())\n",
        "print('Area of triangle is ',triangle.calculate_area())\n",
        "print('Perimeter of triangle is ',triangle.calculate_perimeter())"
      ],
      "metadata": {
        "colab": {
          "base_uri": "https://localhost:8080/"
        },
        "id": "NgHsCUyfXsq1",
        "outputId": "f8f3f15b-a2cc-4ce0-8008-8ad2acaae5a9"
      },
      "execution_count": 72,
      "outputs": [
        {
          "output_type": "stream",
          "name": "stdout",
          "text": [
            "Area of circle is  78.5\n",
            "Perimeter of circle is  31.400000000000002\n",
            "Area of rectangle is  50\n",
            "Perimeter of rectangle is  30\n",
            "Area of triangle is  40.0\n",
            "Perimeter of triangle is  25\n"
          ]
        }
      ]
    },
    {
      "cell_type": "code",
      "source": [
        "#1) Online Shopping Cart: Develop an Item class and a ShoppingCart class.\n",
        "# The ShoppingCart class should allow adding items, removing items, calculating the total cost,\n",
        "# and applying discounts."
      ],
      "metadata": {
        "id": "T6yLK8noishO"
      },
      "execution_count": null,
      "outputs": []
    },
    {
      "cell_type": "code",
      "source": [
        "#2) Social Media System: Create classes for User, Post, and Comment.\n",
        "#Users can create posts, like posts, and comment on posts.\n",
        "#Implement methods to display posts with their interactions."
      ],
      "metadata": {
        "id": "Y6Q2HHi7isyC"
      },
      "execution_count": null,
      "outputs": []
    }
  ]
}