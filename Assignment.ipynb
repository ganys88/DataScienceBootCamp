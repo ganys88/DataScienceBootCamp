{
  "nbformat": 4,
  "nbformat_minor": 0,
  "metadata": {
    "colab": {
      "provenance": []
    },
    "kernelspec": {
      "name": "python3",
      "display_name": "Python 3"
    },
    "language_info": {
      "name": "python"
    }
  },
  "cells": [
    {
      "cell_type": "code",
      "execution_count": 10,
      "metadata": {
        "colab": {
          "base_uri": "https://localhost:8080/"
        },
        "id": "nsMHgu6PcBR4",
        "outputId": "54f4844a-314e-4b82-caa3-fb57bdeae77b"
      },
      "outputs": [
        {
          "output_type": "stream",
          "name": "stdout",
          "text": [
            "Salary: 50000\n",
            "Years: 5\n",
            "2500.0\n"
          ]
        }
      ],
      "source": [
        "# 1.A company decided to give bonus of 5% to employee if his/her year of service is more than 5 years.\n",
        "# Ask user for their salary and year of service and print the net bonus amount.\n",
        "\n",
        "\n",
        "Salary = float(input(\"Salary: \"))\n",
        "Service = int(input(\"Years: \"))\n",
        "\n",
        "if Service < 5:\n",
        "  print(\"No Bonus\")\n",
        "if Service >= 5:\n",
        "  print((5*Salary)/100)\n"
      ]
    },
    {
      "cell_type": "code",
      "source": [
        "# 2.Take values of length and breadth of a rectangle from user and check if it is square or not.\n",
        "\n",
        "length = float(input(\"length: \"))\n",
        "breadth = float (input(\"breadth: \"))\n",
        "\n",
        "if length==breadth:\n",
        "  print(\"Square\")\n",
        "else:\n",
        "  print(\"Rectangle\")\n"
      ],
      "metadata": {
        "colab": {
          "base_uri": "https://localhost:8080/"
        },
        "id": "UUDu014zetbP",
        "outputId": "0c6d3705-73df-4714-a546-c2dc26b3d901"
      },
      "execution_count": 9,
      "outputs": [
        {
          "output_type": "stream",
          "name": "stdout",
          "text": [
            "length: 10\n",
            "breadth: 15\n",
            "Rectangle\n"
          ]
        }
      ]
    },
    {
      "cell_type": "code",
      "source": [
        "# 3.Take two int values from user and print greatest among them.\n",
        "\n",
        "num1 = int(input(\"num1: \"))\n",
        "num2 = int(input(\"num2: \"))\n",
        "\n",
        "if num1>num2:\n",
        "  print(num1, \"is greater\")\n",
        "if num1<num2:\n",
        "  print(num2, \"is greater\")"
      ],
      "metadata": {
        "colab": {
          "base_uri": "https://localhost:8080/"
        },
        "id": "VU3UDYI8gGr2",
        "outputId": "eae599e1-83a4-4a8d-9edf-3c6de77c5d7b"
      },
      "execution_count": 19,
      "outputs": [
        {
          "output_type": "stream",
          "name": "stdout",
          "text": [
            "num1: 5\n",
            "num2: 4\n",
            "5 is greater\n"
          ]
        }
      ]
    },
    {
      "cell_type": "code",
      "source": [
        "# 4.A shop will give discount of 10% if the cost of purchased quantity is more than 1000.\n",
        "# Ask user for quantity\n",
        "# Suppose, one unit will cost 100.\n",
        "# Judge and print total cost for user.\n",
        "\n",
        "quantity = int (input (\"enter qty: \"))\n",
        "if quantity*100 > 1000:\n",
        "  print (\"cost is\", ((quantity*100)-(.1*quantity*100)))\n",
        "else:\n",
        "  print (\"cost is\", quantity*100)\n",
        "\n"
      ],
      "metadata": {
        "colab": {
          "base_uri": "https://localhost:8080/"
        },
        "id": "A5Q8hXWnk-Lf",
        "outputId": "ff5512e1-b44e-4659-8381-3e3336806486"
      },
      "execution_count": 23,
      "outputs": [
        {
          "output_type": "stream",
          "name": "stdout",
          "text": [
            "enter qty: 11\n",
            "cost is 990.0\n"
          ]
        }
      ]
    },
    {
      "cell_type": "code",
      "source": [
        "# 5.A school has following rules for grading system:\n",
        "# a. Below 25 - F\n",
        "# b. 25 to 45 - E\n",
        "# c. 45 to 50 - D\n",
        "# d. 50 to 60 - C\n",
        "# e. 60 to 80 - B\n",
        "# f. Above 80 - A\n",
        "\n",
        "Grade = float(input(\"Marks: \"))\n",
        "\n",
        "if Grade >=80:\n",
        "  print (\"A\")\n",
        "elif (Grade <= 80) and (Grade > 60):\n",
        "  print (\"B\")\n",
        "elif (Grade <= 60) and (Grade > 50):\n",
        "  print (\"C\")\n",
        "elif (Grade <= 50) and (Grade > 45):\n",
        "  print (\"D\")\n",
        "elif (Grade <= 45) and (Grade > 25):\n",
        "  print (\"E\")\n",
        "elif (Grade < 25):\n",
        "  print (\"F\")\n"
      ],
      "metadata": {
        "colab": {
          "base_uri": "https://localhost:8080/"
        },
        "id": "cSAP_mdU_eTo",
        "outputId": "a638dddf-811b-40a5-e0d0-bfdf86f99935"
      },
      "execution_count": 35,
      "outputs": [
        {
          "output_type": "stream",
          "name": "stdout",
          "text": [
            "Marks: 61\n",
            "B\n"
          ]
        }
      ]
    },
    {
      "cell_type": "code",
      "source": [
        "# 6.Take input of age of 3 people by user and determine oldest and youngest among them.\n",
        "\n",
        "first = int(input(\"Enter first age\"))\n",
        "second = int(input(\"Enter second age\"))\n",
        "third = int(input(\"third age\"))\n",
        "\n",
        "if first > second and first > third:\n",
        "  if second>third:\n",
        "    print(\"The youngest is \",third)\n",
        "  else:\n",
        "    print(\"The youngest is \",second)\n",
        "  print (\"Oldest is\",first)\n",
        "elif second >= first and second >= third:\n",
        "  if first>third:\n",
        "    print(\"The youngest is \",third)\n",
        "  else:\n",
        "    print(\"The youngest is \",first)\n",
        "  print (\"Oldest is\",second)\n",
        "elif third >= first and third >= second:\n",
        "  if second>first:\n",
        "    print(\"The youngest is \",first)\n",
        "  else:\n",
        "    print(\"The youngest is \",second)\n",
        "  print (\"Oldest is\",third)\n",
        "else:\n",
        "  print (\"All are equal\")\n",
        "\n",
        "\n"
      ],
      "metadata": {
        "id": "8d3K9R3v_oXN"
      },
      "execution_count": null,
      "outputs": []
    },
    {
      "cell_type": "code",
      "source": [
        "# 7.Write a program to print absolute vlaue of a number entered by user. E.g.-\n",
        "#INPUT: 1        OUTPUT: 1\n",
        "#INPUT: -1        OUTPUT: 1\n",
        "\n",
        "num = float (input (\"enter a number: \"))\n",
        "if num < 0:\n",
        "  print (num * -1)\n",
        "else:\n",
        "  print (num)\n"
      ],
      "metadata": {
        "colab": {
          "base_uri": "https://localhost:8080/"
        },
        "id": "mZdYj5mb_qPy",
        "outputId": "c5506634-5854-4f79-9d74-5dceb1af1aad"
      },
      "execution_count": 38,
      "outputs": [
        {
          "output_type": "stream",
          "name": "stdout",
          "text": [
            "enter a number: -25\n",
            "25.0\n"
          ]
        }
      ]
    },
    {
      "cell_type": "code",
      "source": [
        "# 8.A student will not be allowed to sit in exam if his/her attendence is less than 75%.\n",
        "# Take following input from user\n",
        "# Number of classes held\n",
        "# Number of classes attended.\n",
        "# And print\n",
        "# percentage of class attended\n",
        "# Is student is allowed to sit in exam or not.\n",
        "\n",
        "noh = int(input(\"no of classes held:\"))\n",
        "noa = int(input(\"no of classes attended: \"))\n",
        "atten = (noa/noh)*100\n",
        "print(\"attendance is \", atten)\n",
        "if atten >= 75:\n",
        "  print (\"you are allowed to sit in exam\")\n",
        "else:\n",
        "  print (\"sorry you are not allowed. attend more class\")"
      ],
      "metadata": {
        "colab": {
          "base_uri": "https://localhost:8080/"
        },
        "id": "o_D3wchY_ukj",
        "outputId": "871793f2-f823-4257-b837-b657a9a999c2"
      },
      "execution_count": 40,
      "outputs": [
        {
          "output_type": "stream",
          "name": "stdout",
          "text": [
            "no of classes held:35\n",
            "no of classes attended: 50\n",
            "attendance is  142.85714285714286\n",
            "you are allowed to sit in exam\n"
          ]
        }
      ]
    },
    {
      "cell_type": "code",
      "source": [
        "# 9.Modify the above question to allow student to sit if he/she has medical cause.\n",
        "# Ask user if he/she has medical cause or not ( 'Y' or 'N' ) and print accordingly.\n",
        "\n",
        "noh = int(input(\"Number of classes held \"))\n",
        "noa = int(input(\"Number of classes attended \"))\n",
        "atten = (noa/noh)*100\n",
        "print (\"Attendence is\",atten)\n",
        "if atten >= 75:\n",
        "  print (\"You are allowed to sit in exam\")\n",
        "else:\n",
        "  medical_cause = input(\"Medical Condition? Type Y if yes Else N\").lower()\n",
        "  if medical_cause == 'y':\n",
        "    print (\"You are allowed due to medical condition \")\n",
        "  else:\n",
        "    print (\"Sorry, you are not allowed. Attend more classes from next time.\")\n"
      ],
      "metadata": {
        "colab": {
          "base_uri": "https://localhost:8080/"
        },
        "id": "UT4jvjXX_5Et",
        "outputId": "1307352e-fbc0-4bb9-cd58-dfa0ec9a0fe9"
      },
      "execution_count": 47,
      "outputs": [
        {
          "output_type": "stream",
          "name": "stdout",
          "text": [
            "Number of classes held 1\n",
            "Number of classes attended 3\n",
            "Attendence is 300.0\n",
            "You are allowed to sit in exam\n"
          ]
        }
      ]
    }
  ]
}