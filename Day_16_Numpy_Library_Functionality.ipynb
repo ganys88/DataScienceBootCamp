{
  "nbformat": 4,
  "nbformat_minor": 0,
  "metadata": {
    "colab": {
      "provenance": []
    },
    "kernelspec": {
      "name": "python3",
      "display_name": "Python 3"
    },
    "language_info": {
      "name": "python"
    }
  },
  "cells": [
    {
      "cell_type": "markdown",
      "source": [
        "A collection of modules that are linked together is called Python Library.\n",
        "It has code bundels that can be used again and again in different programs.\n",
        "Library is collection of classes, methods, functions etc.\n",
        "Library could be in any languages.\n",
        "Open source community contribute sources from many big global companies.\n",
        "Each library is a contribution of many big gloabal companies.\n",
        "You can create a unique idea work on it and donate and add your liab to the open source community."
      ],
      "metadata": {
        "id": "CvktDXQWoRJX"
      }
    },
    {
      "cell_type": "code",
      "source": [
        "import numpy as np"
      ],
      "metadata": {
        "id": "mYqAIHK4omUp"
      },
      "execution_count": 1,
      "outputs": []
    },
    {
      "cell_type": "code",
      "source": [
        "print(np.__version__)"
      ],
      "metadata": {
        "colab": {
          "base_uri": "https://localhost:8080/"
        },
        "id": "MkxH2ZPss9hD",
        "outputId": "345125cd-e3f8-48a0-aa57-7831609c88e3"
      },
      "execution_count": 6,
      "outputs": [
        {
          "output_type": "stream",
          "name": "stdout",
          "text": [
            "1.23.5\n"
          ]
        }
      ]
    },
    {
      "cell_type": "code",
      "source": [
        "np.show_config()"
      ],
      "metadata": {
        "id": "TqhBpRiEukjX"
      },
      "execution_count": null,
      "outputs": []
    },
    {
      "cell_type": "code",
      "source": [
        "v = np.arange(10) #vector\n",
        "print(v)\n",
        "print(type(v))"
      ],
      "metadata": {
        "colab": {
          "base_uri": "https://localhost:8080/"
        },
        "id": "4UJFN_48vMRn",
        "outputId": "0b7f338c-c7ed-47ca-c2d2-33c0afc9b229"
      },
      "execution_count": 16,
      "outputs": [
        {
          "output_type": "stream",
          "name": "stdout",
          "text": [
            "[0 1 2 3 4 5 6 7 8 9]\n",
            "<class 'numpy.ndarray'>\n"
          ]
        }
      ]
    },
    {
      "cell_type": "code",
      "source": [
        "v = np.arange(20,30)\n",
        "print(v)"
      ],
      "metadata": {
        "colab": {
          "base_uri": "https://localhost:8080/"
        },
        "id": "7WE7CgZmxBYB",
        "outputId": "119a9945-b811-4b9b-a415-ba68b6f7f3e1"
      },
      "execution_count": 12,
      "outputs": [
        {
          "output_type": "stream",
          "name": "stdout",
          "text": [
            "[20 21 22 23 24 25 26 27 28 29]\n"
          ]
        }
      ]
    },
    {
      "cell_type": "code",
      "source": [
        "v = np.arange(25)\n",
        "print(v)"
      ],
      "metadata": {
        "colab": {
          "base_uri": "https://localhost:8080/"
        },
        "id": "7RxGEV5YwTT2",
        "outputId": "cad77943-0c34-410a-c90c-14cb0e992640"
      },
      "execution_count": 17,
      "outputs": [
        {
          "output_type": "stream",
          "name": "stdout",
          "text": [
            "[ 0  1  2  3  4  5  6  7  8  9 10 11 12 13 14 15 16 17 18 19 20 21 22 23\n",
            " 24]\n"
          ]
        }
      ]
    },
    {
      "cell_type": "code",
      "source": [
        "v = np.arange(25)\n",
        "v = v[::-1]\n",
        "print(v)"
      ],
      "metadata": {
        "colab": {
          "base_uri": "https://localhost:8080/"
        },
        "id": "FA4JTv0vxMEF",
        "outputId": "9038e411-4fa6-4203-ba0d-0f7ce29bf57d"
      },
      "execution_count": 13,
      "outputs": [
        {
          "output_type": "stream",
          "name": "stdout",
          "text": [
            "[24 23 22 21 20 19 18 17 16 15 14 13 12 11 10  9  8  7  6  5  4  3  2  1\n",
            "  0]\n"
          ]
        }
      ]
    },
    {
      "cell_type": "code",
      "source": [
        "v = np.arange(9).reshape(3,3)\n",
        "print(v)\n",
        "\n",
        "#2 square backets is two dimensional\n",
        "#3 is three dimensional"
      ],
      "metadata": {
        "colab": {
          "base_uri": "https://localhost:8080/"
        },
        "id": "B1iluf8cxtyh",
        "outputId": "0f925f3d-2cc2-4e5e-f114-2b41bc4a4bdb"
      },
      "execution_count": 20,
      "outputs": [
        {
          "output_type": "stream",
          "name": "stdout",
          "text": [
            "[[0 1 2]\n",
            " [3 4 5]\n",
            " [6 7 8]]\n"
          ]
        }
      ]
    },
    {
      "cell_type": "code",
      "source": [
        "nz = np.nonzero([1,0,0,2,0,0,3,0,0,0,4,0,0,0,0,0,5,0,0,0,0,0,6])\n",
        "print(nz)"
      ],
      "metadata": {
        "colab": {
          "base_uri": "https://localhost:8080/"
        },
        "id": "l7J_HsO7yj_N",
        "outputId": "4a95fa9f-ec48-4968-e675-cc000f460030"
      },
      "execution_count": 23,
      "outputs": [
        {
          "output_type": "stream",
          "name": "stdout",
          "text": [
            "(array([ 0,  3,  6, 10, 16, 22]),)\n"
          ]
        }
      ]
    },
    {
      "cell_type": "code",
      "source": [
        "#What is the simple definition of matrix?\n",
        "#matrix, a set of numbers arranged in rows and columns\n",
        "#so as to form a rectangular array."
      ],
      "metadata": {
        "id": "ICf91zPR60QB"
      },
      "execution_count": null,
      "outputs": []
    },
    {
      "cell_type": "code",
      "source": [
        "v = np.eye(3)\n",
        "print(v)"
      ],
      "metadata": {
        "colab": {
          "base_uri": "https://localhost:8080/"
        },
        "id": "CjR-oaCdy36b",
        "outputId": "fba1896f-e0b3-4c2d-a6b2-cf6484f9d48b"
      },
      "execution_count": 29,
      "outputs": [
        {
          "output_type": "stream",
          "name": "stdout",
          "text": [
            "[[1. 0. 0.]\n",
            " [0. 1. 0.]\n",
            " [0. 0. 1.]]\n"
          ]
        }
      ]
    },
    {
      "cell_type": "code",
      "source": [
        "v = np.eye(5)\n",
        "print(v)"
      ],
      "metadata": {
        "colab": {
          "base_uri": "https://localhost:8080/"
        },
        "id": "2RBdgG-gzDiu",
        "outputId": "a9c3970b-1653-4533-ba2b-4d85035fa183"
      },
      "execution_count": 25,
      "outputs": [
        {
          "output_type": "stream",
          "name": "stdout",
          "text": [
            "[[1. 0. 0. 0. 0.]\n",
            " [0. 1. 0. 0. 0.]\n",
            " [0. 0. 1. 0. 0.]\n",
            " [0. 0. 0. 1. 0.]\n",
            " [0. 0. 0. 0. 1.]]\n"
          ]
        }
      ]
    },
    {
      "cell_type": "code",
      "source": [
        "v = np.random.random(10)\n",
        "print(v)"
      ],
      "metadata": {
        "colab": {
          "base_uri": "https://localhost:8080/"
        },
        "id": "7URF-_edzNAf",
        "outputId": "1abf1a18-db4a-4bfb-b35e-266051408666"
      },
      "execution_count": 28,
      "outputs": [
        {
          "output_type": "stream",
          "name": "stdout",
          "text": [
            "[0.67189475 0.10602248 0.06940678 0.69585373 0.26307812 0.64222237\n",
            " 0.26232684 0.66503333 0.36772189 0.89444306]\n"
          ]
        }
      ]
    },
    {
      "cell_type": "code",
      "source": [
        "v = np.random.random((1,1))\n",
        "print(v)"
      ],
      "metadata": {
        "colab": {
          "base_uri": "https://localhost:8080/"
        },
        "id": "RhpQ_KmW0IVV",
        "outputId": "9d9fc649-c0b6-4d77-ab28-44fea7e38fa9"
      },
      "execution_count": 31,
      "outputs": [
        {
          "output_type": "stream",
          "name": "stdout",
          "text": [
            "[[0.71353298]]\n"
          ]
        }
      ]
    },
    {
      "cell_type": "code",
      "source": [
        "v = np.random.random((1,1,1))\n",
        "print(v)"
      ],
      "metadata": {
        "colab": {
          "base_uri": "https://localhost:8080/"
        },
        "id": "s7v1eHmN0qgJ",
        "outputId": "241ee233-162e-4aac-85c4-51ecfe5f659a"
      },
      "execution_count": 32,
      "outputs": [
        {
          "output_type": "stream",
          "name": "stdout",
          "text": [
            "[[[0.4312292]]]\n"
          ]
        }
      ]
    },
    {
      "cell_type": "code",
      "source": [
        "v = np.random.random((2,2))\n",
        "print(v)"
      ],
      "metadata": {
        "colab": {
          "base_uri": "https://localhost:8080/"
        },
        "id": "qWQo82op0tng",
        "outputId": "10b82e8b-4936-484b-e684-2ce7c13046ee"
      },
      "execution_count": 33,
      "outputs": [
        {
          "output_type": "stream",
          "name": "stdout",
          "text": [
            "[[0.8154555  0.28263798]\n",
            " [0.1376737  0.47670064]]\n"
          ]
        }
      ]
    },
    {
      "cell_type": "code",
      "source": [
        "v = np.random.random((3,3))\n",
        "print(v)"
      ],
      "metadata": {
        "colab": {
          "base_uri": "https://localhost:8080/"
        },
        "id": "6szlfJgJ1UnH",
        "outputId": "f62def50-4b4b-4b33-acf5-d66e5132bd5e"
      },
      "execution_count": 40,
      "outputs": [
        {
          "output_type": "stream",
          "name": "stdout",
          "text": [
            "[[0.21865743 0.79167765 0.35102442]\n",
            " [0.14020288 0.35345248 0.31330901]\n",
            " [0.29165712 0.96149353 0.55352584]]\n"
          ]
        }
      ]
    },
    {
      "cell_type": "code",
      "source": [
        "v = np.random.random((2,2,2))\n",
        "print(v)"
      ],
      "metadata": {
        "colab": {
          "base_uri": "https://localhost:8080/"
        },
        "id": "3kZeOJSV0xBg",
        "outputId": "5ee33413-20a4-4b75-bef4-97fac8064991"
      },
      "execution_count": 34,
      "outputs": [
        {
          "output_type": "stream",
          "name": "stdout",
          "text": [
            "[[[1.89469688e-01 3.50389782e-04]\n",
            "  [5.25202216e-01 8.12036404e-01]]\n",
            "\n",
            " [[9.09604064e-01 3.64889161e-01]\n",
            "  [9.53096983e-01 9.46421047e-01]]]\n"
          ]
        }
      ]
    },
    {
      "cell_type": "code",
      "source": [
        "v = np.random.random((3,3,3))\n",
        "print(v)"
      ],
      "metadata": {
        "colab": {
          "base_uri": "https://localhost:8080/"
        },
        "id": "F0OyLex507gi",
        "outputId": "b5c3309e-5d0f-4034-a2e0-8725209c2777"
      },
      "execution_count": 41,
      "outputs": [
        {
          "output_type": "stream",
          "name": "stdout",
          "text": [
            "[[[0.66299057 0.254141   0.42213329]\n",
            "  [0.55764865 0.71873173 0.1364434 ]\n",
            "  [0.61738571 0.72879471 0.99438135]]\n",
            "\n",
            " [[0.36686443 0.15141795 0.54546292]\n",
            "  [0.65649641 0.41049052 0.75165996]\n",
            "  [0.62872999 0.13768606 0.20331662]]\n",
            "\n",
            " [[0.51421918 0.85374224 0.66929076]\n",
            "  [0.90021932 0.71128158 0.56548189]\n",
            "  [0.92069453 0.11877056 0.59647583]]]\n"
          ]
        }
      ]
    },
    {
      "cell_type": "code",
      "source": [
        "v = np.random.random((1,2,3))\n",
        "print(v)"
      ],
      "metadata": {
        "colab": {
          "base_uri": "https://localhost:8080/"
        },
        "id": "ph2PRjfa0-j_",
        "outputId": "68887bab-5585-4a93-a51e-0423ff46c853"
      },
      "execution_count": 37,
      "outputs": [
        {
          "output_type": "stream",
          "name": "stdout",
          "text": [
            "[[[0.94018652 0.64925843 0.98988881]\n",
            "  [0.60844542 0.64633459 0.50711324]]]\n"
          ]
        }
      ]
    },
    {
      "cell_type": "code",
      "source": [
        "v = np.random.random((2,3,4))\n",
        "print(v)"
      ],
      "metadata": {
        "colab": {
          "base_uri": "https://localhost:8080/"
        },
        "id": "NMGfkcWf1E7-",
        "outputId": "857e6247-a51d-4c73-9de2-f6ba2a2edeff"
      },
      "execution_count": 38,
      "outputs": [
        {
          "output_type": "stream",
          "name": "stdout",
          "text": [
            "[[[0.06942273 0.48335152 0.35978833 0.92730437]\n",
            "  [0.82442501 0.49367897 0.75378317 0.18029045]\n",
            "  [0.91787246 0.75982873 0.14412178 0.92590517]]\n",
            "\n",
            " [[0.26738849 0.29826582 0.59953532 0.61260276]\n",
            "  [0.89292551 0.96701978 0.70208086 0.2473625 ]\n",
            "  [0.77036923 0.07175118 0.23677625 0.47644928]]]\n"
          ]
        }
      ]
    },
    {
      "cell_type": "code",
      "source": [
        "v = np.random.random((3,4,5))\n",
        "print(v)"
      ],
      "metadata": {
        "colab": {
          "base_uri": "https://localhost:8080/"
        },
        "id": "MxagtNfL1LW5",
        "outputId": "69dd2a00-7dc3-4f99-dd8e-aeea7966e86c"
      },
      "execution_count": 39,
      "outputs": [
        {
          "output_type": "stream",
          "name": "stdout",
          "text": [
            "[[[0.05436044 0.97802885 0.08194466 0.94447572 0.94690883]\n",
            "  [0.16193993 0.57118875 0.2755011  0.08109438 0.56420095]\n",
            "  [0.43535612 0.42341949 0.72241194 0.31499539 0.60917922]\n",
            "  [0.16433685 0.41272094 0.06120292 0.36894687 0.68609904]]\n",
            "\n",
            " [[0.2654176  0.35802538 0.49255638 0.88254869 0.72485461]\n",
            "  [0.01000009 0.01012111 0.42683368 0.44007376 0.41067991]\n",
            "  [0.35824166 0.06110762 0.79287561 0.8398629  0.20531978]\n",
            "  [0.75447095 0.6360987  0.21282403 0.59816153 0.06137083]]\n",
            "\n",
            " [[0.87238607 0.88492792 0.36613135 0.70223056 0.19783249]\n",
            "  [0.06465284 0.22612864 0.78685917 0.56236059 0.87850748]\n",
            "  [0.0618921  0.71214348 0.62317163 0.44474584 0.7932208 ]\n",
            "  [0.99707168 0.01939711 0.36565934 0.81282289 0.91541829]]]\n"
          ]
        }
      ]
    },
    {
      "cell_type": "code",
      "source": [
        "v = np.random.random((10,10))\n",
        "v_max, v_min = v.max(), v.min()\n",
        "print(v_max, v_min)"
      ],
      "metadata": {
        "colab": {
          "base_uri": "https://localhost:8080/"
        },
        "id": "eXS2yPPr2DtK",
        "outputId": "fae6a825-dc07-482f-b62a-a546fca1c377"
      },
      "execution_count": 42,
      "outputs": [
        {
          "output_type": "stream",
          "name": "stdout",
          "text": [
            "0.9945827560765823 0.008639414251881528\n"
          ]
        }
      ]
    },
    {
      "cell_type": "code",
      "source": [
        "v = np.random.random((10,10))\n",
        "v_max, v_min = v.max(), v.min()\n",
        "print(v_max, v_min)\n",
        "\n",
        "# same function gives different random values"
      ],
      "metadata": {
        "colab": {
          "base_uri": "https://localhost:8080/"
        },
        "id": "Vw9d_39C1mTP",
        "outputId": "893a4310-3a8e-49e1-dd61-0dc4fd76403b"
      },
      "execution_count": 43,
      "outputs": [
        {
          "output_type": "stream",
          "name": "stdout",
          "text": [
            "0.9920781348306401 0.018086068894637153\n"
          ]
        }
      ]
    },
    {
      "cell_type": "code",
      "source": [
        "v = np.random.random(30)\n",
        "v_mean = v.mean()\n",
        "print(v_mean)"
      ],
      "metadata": {
        "colab": {
          "base_uri": "https://localhost:8080/"
        },
        "id": "I_5WYe7h2Wmb",
        "outputId": "3db06108-59f1-46d3-aee3-9e02bfe42702"
      },
      "execution_count": 47,
      "outputs": [
        {
          "output_type": "stream",
          "name": "stdout",
          "text": [
            "0.6763843729988906\n"
          ]
        }
      ]
    },
    {
      "cell_type": "code",
      "source": [
        "v = np.zeros((10,10))\n",
        "print(v)\n",
        "print(\" \")\n",
        "v[1:-1, 1:-1] = 1\n",
        "print(v)"
      ],
      "metadata": {
        "colab": {
          "base_uri": "https://localhost:8080/"
        },
        "id": "wfOArVud3FIq",
        "outputId": "a80453e1-40b8-4e2d-cf8e-614bd2a50618"
      },
      "execution_count": 60,
      "outputs": [
        {
          "output_type": "stream",
          "name": "stdout",
          "text": [
            "[[0. 0. 0. 0. 0. 0. 0. 0. 0. 0.]\n",
            " [0. 0. 0. 0. 0. 0. 0. 0. 0. 0.]\n",
            " [0. 0. 0. 0. 0. 0. 0. 0. 0. 0.]\n",
            " [0. 0. 0. 0. 0. 0. 0. 0. 0. 0.]\n",
            " [0. 0. 0. 0. 0. 0. 0. 0. 0. 0.]\n",
            " [0. 0. 0. 0. 0. 0. 0. 0. 0. 0.]\n",
            " [0. 0. 0. 0. 0. 0. 0. 0. 0. 0.]\n",
            " [0. 0. 0. 0. 0. 0. 0. 0. 0. 0.]\n",
            " [0. 0. 0. 0. 0. 0. 0. 0. 0. 0.]\n",
            " [0. 0. 0. 0. 0. 0. 0. 0. 0. 0.]]\n",
            " \n",
            "[[0. 0. 0. 0. 0. 0. 0. 0. 0. 0.]\n",
            " [0. 1. 1. 1. 1. 1. 1. 1. 1. 0.]\n",
            " [0. 1. 1. 1. 1. 1. 1. 1. 1. 0.]\n",
            " [0. 1. 1. 1. 1. 1. 1. 1. 1. 0.]\n",
            " [0. 1. 1. 1. 1. 1. 1. 1. 1. 0.]\n",
            " [0. 1. 1. 1. 1. 1. 1. 1. 1. 0.]\n",
            " [0. 1. 1. 1. 1. 1. 1. 1. 1. 0.]\n",
            " [0. 1. 1. 1. 1. 1. 1. 1. 1. 0.]\n",
            " [0. 1. 1. 1. 1. 1. 1. 1. 1. 0.]\n",
            " [0. 0. 0. 0. 0. 0. 0. 0. 0. 0.]]\n"
          ]
        }
      ]
    },
    {
      "cell_type": "code",
      "source": [
        "#create a 5x5 matrix of 1\n",
        "#and change inner value to 3\n",
        "v = np.ones((5,5))\n",
        "v[1:-1, 1:-1] = 3\n",
        "print(v)"
      ],
      "metadata": {
        "colab": {
          "base_uri": "https://localhost:8080/"
        },
        "id": "mNFbAget35LK",
        "outputId": "bd623985-cf8b-4e6d-e2da-72e884615b09"
      },
      "execution_count": 65,
      "outputs": [
        {
          "output_type": "stream",
          "name": "stdout",
          "text": [
            "[[1. 1. 1. 1. 1.]\n",
            " [1. 3. 3. 3. 1.]\n",
            " [1. 3. 3. 3. 1.]\n",
            " [1. 3. 3. 3. 1.]\n",
            " [1. 1. 1. 1. 1.]]\n"
          ]
        }
      ]
    },
    {
      "cell_type": "code",
      "source": [
        "v = np.ones((5,5))\n",
        "print(v)\n",
        "print(\" \")\n",
        "v = np.pad(v, pad_width=1, mode='constant', constant_values=3)\n",
        "print(v)"
      ],
      "metadata": {
        "colab": {
          "base_uri": "https://localhost:8080/"
        },
        "id": "F0skF2q_55y-",
        "outputId": "ef3a987c-c61e-4c9f-cced-5c48b14146a0"
      },
      "execution_count": 67,
      "outputs": [
        {
          "output_type": "stream",
          "name": "stdout",
          "text": [
            "[[1. 1. 1. 1. 1.]\n",
            " [1. 1. 1. 1. 1.]\n",
            " [1. 1. 1. 1. 1.]\n",
            " [1. 1. 1. 1. 1.]\n",
            " [1. 1. 1. 1. 1.]]\n",
            " \n",
            "[[3. 3. 3. 3. 3. 3. 3.]\n",
            " [3. 1. 1. 1. 1. 1. 3.]\n",
            " [3. 1. 1. 1. 1. 1. 3.]\n",
            " [3. 1. 1. 1. 1. 1. 3.]\n",
            " [3. 1. 1. 1. 1. 1. 3.]\n",
            " [3. 1. 1. 1. 1. 1. 3.]\n",
            " [3. 3. 3. 3. 3. 3. 3.]]\n"
          ]
        }
      ]
    },
    {
      "cell_type": "code",
      "source": [
        "v = np.ones((6,6))\n",
        "print(v)\n",
        "print(\" \")\n",
        "v = np.pad(v, pad_width=2, mode='constant', constant_values=0)\n",
        "print(v)"
      ],
      "metadata": {
        "colab": {
          "base_uri": "https://localhost:8080/"
        },
        "id": "RHwFzySe6OuA",
        "outputId": "8f9a10b1-21d4-4a51-e2c4-793507c79c69"
      },
      "execution_count": 70,
      "outputs": [
        {
          "output_type": "stream",
          "name": "stdout",
          "text": [
            "[[1. 1. 1. 1. 1. 1.]\n",
            " [1. 1. 1. 1. 1. 1.]\n",
            " [1. 1. 1. 1. 1. 1.]\n",
            " [1. 1. 1. 1. 1. 1.]\n",
            " [1. 1. 1. 1. 1. 1.]\n",
            " [1. 1. 1. 1. 1. 1.]]\n",
            " \n",
            "[[0. 0. 0. 0. 0. 0. 0. 0. 0. 0.]\n",
            " [0. 0. 0. 0. 0. 0. 0. 0. 0. 0.]\n",
            " [0. 0. 1. 1. 1. 1. 1. 1. 0. 0.]\n",
            " [0. 0. 1. 1. 1. 1. 1. 1. 0. 0.]\n",
            " [0. 0. 1. 1. 1. 1. 1. 1. 0. 0.]\n",
            " [0. 0. 1. 1. 1. 1. 1. 1. 0. 0.]\n",
            " [0. 0. 1. 1. 1. 1. 1. 1. 0. 0.]\n",
            " [0. 0. 1. 1. 1. 1. 1. 1. 0. 0.]\n",
            " [0. 0. 0. 0. 0. 0. 0. 0. 0. 0.]\n",
            " [0. 0. 0. 0. 0. 0. 0. 0. 0. 0.]]\n"
          ]
        }
      ]
    },
    {
      "cell_type": "code",
      "source": [
        "np.nan"
      ],
      "metadata": {
        "colab": {
          "base_uri": "https://localhost:8080/"
        },
        "id": "_oVwhj3V6_CK",
        "outputId": "de4442c7-5e34-4e49-96c1-e480b1fd28b0"
      },
      "execution_count": 71,
      "outputs": [
        {
          "output_type": "execute_result",
          "data": {
            "text/plain": [
              "nan"
            ]
          },
          "metadata": {},
          "execution_count": 71
        }
      ]
    },
    {
      "cell_type": "code",
      "source": [
        "print(0 * np.nan)\n",
        "print(np.nan == np.nan)\n",
        "print(np.inf > np.nan)\n",
        "print(np.nan - np.nan)\n",
        "print(0.3 == 3 * 0.1)\n",
        "3*0.1"
      ],
      "metadata": {
        "colab": {
          "base_uri": "https://localhost:8080/"
        },
        "id": "mZZJYg0k7TtW",
        "outputId": "9e488826-8364-448a-847e-8fc77a843a85"
      },
      "execution_count": 75,
      "outputs": [
        {
          "output_type": "stream",
          "name": "stdout",
          "text": [
            "nan\n",
            "False\n",
            "False\n",
            "nan\n",
            "False\n"
          ]
        },
        {
          "output_type": "execute_result",
          "data": {
            "text/plain": [
              "0.30000000000000004"
            ]
          },
          "metadata": {},
          "execution_count": 75
        }
      ]
    },
    {
      "cell_type": "code",
      "source": [
        "print(np.nan + np.nan)\n",
        "print(np.nan == np.nan)\n",
        "print(np.nan != np.nan)\n",
        "print(np.nan >= np.nan)\n",
        "print(np.nan <= 0)\n",
        "print(np.nan >= 0)\n",
        "print(np.nan == 0)\n",
        "print(np.nan % np.nan)\n",
        "print(np.nan * 1)\n",
        "print(np.nan / 1)\n",
        "print(np.nan * 0)\n"
      ],
      "metadata": {
        "id": "NY4krT5f8KWT"
      },
      "execution_count": null,
      "outputs": []
    },
    {
      "cell_type": "code",
      "source": [
        "v = np.diag([1,2,3,4,5])\n",
        "print(v)"
      ],
      "metadata": {
        "colab": {
          "base_uri": "https://localhost:8080/"
        },
        "id": "hwQjJ-Tq-ltG",
        "outputId": "ec06c20c-cafd-4917-bb0c-7fdf3380ceda"
      },
      "execution_count": 90,
      "outputs": [
        {
          "output_type": "stream",
          "name": "stdout",
          "text": [
            "[[1 0 0 0 0]\n",
            " [0 2 0 0 0]\n",
            " [0 0 3 0 0]\n",
            " [0 0 0 4 0]\n",
            " [0 0 0 0 5]]\n"
          ]
        }
      ]
    },
    {
      "cell_type": "code",
      "source": [
        "#Create a 5x5 matrix with values 1,2,3,4\n",
        "#just below the diagonal\n",
        "\n",
        "#comparison\n",
        "v = np.zeros((5,5))\n",
        "print(v)\n",
        "print(\" \")\n",
        "z =np.diag(1+np.arange(4), k = -1)\n",
        "print(z)"
      ],
      "metadata": {
        "colab": {
          "base_uri": "https://localhost:8080/"
        },
        "id": "PI6rPNFv_TlO",
        "outputId": "c89f04da-9936-42b3-97ab-9c04366eaed7"
      },
      "execution_count": 96,
      "outputs": [
        {
          "output_type": "stream",
          "name": "stdout",
          "text": [
            "[[0. 0. 0. 0. 0.]\n",
            " [0. 0. 0. 0. 0.]\n",
            " [0. 0. 0. 0. 0.]\n",
            " [0. 0. 0. 0. 0.]\n",
            " [0. 0. 0. 0. 0.]]\n",
            " \n",
            "[[0 0 0 0 0]\n",
            " [1 0 0 0 0]\n",
            " [0 2 0 0 0]\n",
            " [0 0 3 0 0]\n",
            " [0 0 0 4 0]]\n"
          ]
        }
      ]
    }
  ]
}