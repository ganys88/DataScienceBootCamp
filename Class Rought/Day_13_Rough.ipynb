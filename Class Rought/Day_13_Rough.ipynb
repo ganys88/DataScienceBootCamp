{
  "nbformat": 4,
  "nbformat_minor": 0,
  "metadata": {
    "colab": {
      "provenance": []
    },
    "kernelspec": {
      "name": "python3",
      "display_name": "Python 3"
    },
    "language_info": {
      "name": "python"
    }
  },
  "cells": [
    {
      "cell_type": "code",
      "execution_count": 18,
      "metadata": {
        "id": "wQwgRgVtR00Y"
      },
      "outputs": [],
      "source": [
        "class Vehicle:                              #this is justa breakdown how a function is created\n",
        "  def car (self):                           #the whole function is below\n",
        "    print(self.name, self.model, self.year) #        ||\n",
        "                                            #        \\/\n",
        ""
      ]
    },
    {
      "cell_type": "code",
      "source": [
        "obj1 = Vehicle()                            #theres a difference between writing attributes everytime vs just once\n",
        "obj1.name = 'Ford'\n",
        "obj1.model = 'Bronco'\n",
        "obj1.year = 2023\n",
        "\n",
        "obj2 = Vehicle()\n",
        "obj2.name = 'Tesla'\n",
        "obj2.model = 'Y'\n",
        "obj2.year = 2023\n"
      ],
      "metadata": {
        "id": "A_3Jo6yWlfNU"
      },
      "execution_count": 19,
      "outputs": []
    },
    {
      "cell_type": "code",
      "source": [
        "obj1.car()\n",
        "obj2.car()"
      ],
      "metadata": {
        "colab": {
          "base_uri": "https://localhost:8080/"
        },
        "id": "yeIPQJd7mk_-",
        "outputId": "d0a5397b-272c-4491-e30a-6b3917800e40"
      },
      "execution_count": 20,
      "outputs": [
        {
          "output_type": "stream",
          "name": "stdout",
          "text": [
            "Ford Bronco 2023\n",
            "Tesla Y 2023\n"
          ]
        }
      ]
    },
    {
      "cell_type": "markdown",
      "source": [
        "==================================================================="
      ],
      "metadata": {
        "id": "zFVz5lOspeE_"
      }
    },
    {
      "cell_type": "code",
      "source": [
        "class Vehicle:\n",
        "  def __init__ (self, name, model, year):\n",
        "    self.name = name\n",
        "    self.model = model\n",
        "    self.year = year\n",
        "  def car (self):\n",
        "    print(self.name,self.model,self.year)"
      ],
      "metadata": {
        "id": "MquUNzy2phii"
      },
      "execution_count": 32,
      "outputs": []
    },
    {
      "cell_type": "code",
      "source": [
        "Ford = Vehicle('Ford', 'Bronco', 2023)\n",
        "Tesla = Vehicle('Tesla','Y', 2024)"
      ],
      "metadata": {
        "id": "ES5P3MH_qAmc"
      },
      "execution_count": 33,
      "outputs": []
    },
    {
      "cell_type": "code",
      "source": [
        "Ford.car()\n",
        "Tesla.car()"
      ],
      "metadata": {
        "colab": {
          "base_uri": "https://localhost:8080/"
        },
        "id": "Sk8kKQzSqNG2",
        "outputId": "3e63bb88-5e44-41f3-f7c7-556f663ccd3f"
      },
      "execution_count": 34,
      "outputs": [
        {
          "output_type": "stream",
          "name": "stdout",
          "text": [
            "Ford Bronco 2023\n",
            "Tesla Y 2024\n"
          ]
        }
      ]
    },
    {
      "cell_type": "markdown",
      "source": [
        "===================================================================\n",
        "\n",
        "> Inheritance\n",
        "\n"
      ],
      "metadata": {
        "id": "oqDq3AyvriD8"
      }
    },
    {
      "cell_type": "code",
      "source": [
        "class Dog:\n",
        "  def __init__(self, name, age, size):\n",
        "    self.name = name\n",
        "    self.age = age\n",
        "    self.size = size\n",
        "\n",
        "  def grooming (self):\n",
        "    print(self.name, self.age, self.size)\n",
        "\n",
        "class Maltipoo(Dog):\n",
        "  def __init__(self, name, age, size):\n",
        "    super().__init__(name, age, size)\n",
        "\n",
        "class Boxer(Dog):\n",
        "  def __init__(self, name, age, size):\n",
        "    super().__init__(name, age, size)\n",
        "\n"
      ],
      "metadata": {
        "id": "EAoLwhQtrknN"
      },
      "execution_count": 54,
      "outputs": []
    },
    {
      "cell_type": "code",
      "source": [
        "Bella = Maltipoo('Bella',5, '14in')\n",
        "Jimmy = Boxer ('Jimmy', 7, '52in')"
      ],
      "metadata": {
        "id": "_4WBNXetwmlR"
      },
      "execution_count": 55,
      "outputs": []
    },
    {
      "cell_type": "code",
      "source": [
        "Bella.grooming()\n",
        "Jimmy.grooming()\n"
      ],
      "metadata": {
        "id": "Mkr3qSOgv47H"
      },
      "execution_count": null,
      "outputs": []
    },
    {
      "cell_type": "markdown",
      "source": [
        "===================================================================\n"
      ],
      "metadata": {
        "id": "J8XY3xnozeRv"
      }
    },
    {
      "cell_type": "code",
      "source": [],
      "metadata": {
        "id": "DZaj3jJR2eZ5"
      },
      "execution_count": null,
      "outputs": []
    }
  ]
}