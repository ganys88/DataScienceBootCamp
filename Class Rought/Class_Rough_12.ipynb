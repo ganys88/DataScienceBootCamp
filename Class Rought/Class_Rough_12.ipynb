{
  "nbformat": 4,
  "nbformat_minor": 0,
  "metadata": {
    "colab": {
      "provenance": []
    },
    "kernelspec": {
      "name": "python3",
      "display_name": "Python 3"
    },
    "language_info": {
      "name": "python"
    }
  },
  "cells": [
    {
      "cell_type": "code",
      "execution_count": 14,
      "metadata": {
        "id": "-2Tx4RPrpeDv"
      },
      "outputs": [],
      "source": [
        "class noodles:\n",
        "  def __init__ (self,name,kind,flavor,price):\n",
        "    self.name = name\n",
        "    self.kind = kind\n",
        "    self.flavor = flavor\n",
        "    self.price = price\n",
        "\n",
        "\n",
        "  def printname (self):\n",
        "    print(self.name,self.kind,self.flavor,self.price)\n",
        "\n"
      ]
    },
    {
      "cell_type": "code",
      "source": [
        "obj1 = noodles('shin','spicy','chicken','20')"
      ],
      "metadata": {
        "id": "f9Rf1cmgqy1p"
      },
      "execution_count": 15,
      "outputs": []
    },
    {
      "cell_type": "code",
      "source": [
        "obj1.printname()"
      ],
      "metadata": {
        "colab": {
          "base_uri": "https://localhost:8080/"
        },
        "id": "naHms0_rzyMV",
        "outputId": "80ed15c7-7d99-4a74-8487-1a9b5d1d16f0"
      },
      "execution_count": 18,
      "outputs": [
        {
          "output_type": "stream",
          "name": "stdout",
          "text": [
            "shin spicy chicken 20\n"
          ]
        }
      ]
    },
    {
      "cell_type": "markdown",
      "source": [
        "==========================================================================="
      ],
      "metadata": {
        "id": "1v1GPmmME3Mz"
      }
    },
    {
      "cell_type": "code",
      "source": [
        "class person :\n",
        "  def __init__ (self, fname, lastname):\n",
        "    self.firstname = fname\n",
        "    self.lastname = lastname\n",
        "\n",
        "  def printname(self):\n",
        "    print(\"person: \", self.firstname, ' ', self.lastname)"
      ],
      "metadata": {
        "id": "c1KAPHRKFbQ3"
      },
      "execution_count": null,
      "outputs": []
    },
    {
      "cell_type": "code",
      "source": [
        "class childperson(person):\n",
        "  def __init__ (self, fname, lastname):\n",
        "    self.firstname = fname\n",
        "    self.lastname = lastname\n",
        "\n",
        "  def printname(self):\n",
        "    print(\"class childperson: \", self.firstname, ' ', self.lastname)"
      ],
      "metadata": {
        "id": "64N508aWEbWW"
      },
      "execution_count": null,
      "outputs": []
    },
    {
      "cell_type": "code",
      "source": [
        "obj1 = childperson ('Ganesh','G')\n",
        "obj1.printname()"
      ],
      "metadata": {
        "id": "H8_EoOs8EbrP"
      },
      "execution_count": null,
      "outputs": []
    },
    {
      "cell_type": "markdown",
      "source": [
        "==============================================================================="
      ],
      "metadata": {
        "id": "d8vqCX6BFF5L"
      }
    },
    {
      "cell_type": "markdown",
      "source": [
        "**pass meaning passing or pass thru**"
      ],
      "metadata": {
        "id": "YV2_ZZ0rzqvr"
      }
    },
    {
      "cell_type": "markdown",
      "source": [
        "========================================================================================"
      ],
      "metadata": {
        "id": "nViHTHtDFIqU"
      }
    },
    {
      "cell_type": "code",
      "source": [
        "class vehicle():\n",
        "  def __init__ (car, name, kind):\n",
        "    car.name = name\n",
        "    car.kind = kind\n",
        "\n",
        "  def printname (car):\n",
        "    print(car.name, ' ', car.kind)\n",
        "\n",
        "class vehicle2(vehicle):\n",
        "  def __init__ (car, name, model, kind):\n",
        "    super(). __init__ (name, kind)\n",
        "    car.model = model\n",
        "    print(car.name, ' ', car.kind, ' ', car.model)\n",
        "\n",
        "obj = vehicle2('Tesla', 'Y', 'Electric')"
      ],
      "metadata": {
        "colab": {
          "base_uri": "https://localhost:8080/"
        },
        "id": "IYShDq8IJHC2",
        "outputId": "c55b4fc3-3906-43ce-b1bf-3293adc3f75f"
      },
      "execution_count": 29,
      "outputs": [
        {
          "output_type": "stream",
          "name": "stdout",
          "text": [
            "Tesla   Electric   Y\n"
          ]
        }
      ]
    },
    {
      "cell_type": "markdown",
      "source": [
        "========================================================================="
      ],
      "metadata": {
        "id": "lFwY3CueK5XS"
      }
    },
    {
      "cell_type": "code",
      "source": [
        "class vehicle():\n",
        "  def __init__ (car, name, model):\n",
        "    car.name = name\n",
        "    car.model = model\n",
        "\n",
        "  def printname (car):\n",
        "    print(car.name, ' ', car.model)\n",
        "\n",
        "class vehicle2(vehicle):\n",
        "  pass\n",
        "\n"
      ],
      "metadata": {
        "id": "S63vdQYcK662"
      },
      "execution_count": 44,
      "outputs": []
    },
    {
      "cell_type": "code",
      "source": [
        "obj3 = vehicle('Tesla','Y')\n",
        "obj4 = vehicle2('Tesla','Y')"
      ],
      "metadata": {
        "id": "iAPtLv8R3eGG"
      },
      "execution_count": 45,
      "outputs": []
    },
    {
      "cell_type": "code",
      "source": [
        "obj3.printname()\n",
        "obj4.printname()"
      ],
      "metadata": {
        "colab": {
          "base_uri": "https://localhost:8080/"
        },
        "id": "3Qshdnvm1hYI",
        "outputId": "8fcae74a-cb79-4255-bef8-14e084914817"
      },
      "execution_count": 46,
      "outputs": [
        {
          "output_type": "stream",
          "name": "stdout",
          "text": [
            "Tesla   Y\n",
            "Tesla   Y\n"
          ]
        }
      ]
    },
    {
      "cell_type": "markdown",
      "source": [
        "==================================================================="
      ],
      "metadata": {
        "id": "224f3ermEa2r"
      }
    },
    {
      "cell_type": "code",
      "source": [
        "class vehicle():\n",
        "  def __init__ (car, brand, model, price):\n",
        "    car.brand = brand\n",
        "    car.model = model\n",
        "    car.price = price\n",
        "\n",
        "  def printname(car):\n",
        "    print(car.brand)\n",
        "    print(car.model)\n",
        "    print(car.price)\n",
        "\n",
        "class vehicle2(vehicle):\n",
        "  def __init__ (car, brand, model, price, year):\n",
        "    car.brand = brand\n",
        "    car.model = model\n",
        "    car.price = price\n",
        "    car.year = year\n",
        "\n",
        "  def printname(car):\n",
        "    print(car.brand, car.model, car.price, car.year)\n",
        ""
      ],
      "metadata": {
        "id": "1AuCkVOaAgVX"
      },
      "execution_count": 68,
      "outputs": []
    },
    {
      "cell_type": "code",
      "source": [
        "obj1 = vehicle('Ford','Bronco', 50000)\n",
        "obj2 = vehicle2 ('Ford','Bronco', 50000, 2023)"
      ],
      "metadata": {
        "id": "FrA1VenIBLzt"
      },
      "execution_count": 65,
      "outputs": []
    },
    {
      "cell_type": "code",
      "source": [
        "obj1.printname()\n",
        "obj2.printname()"
      ],
      "metadata": {
        "colab": {
          "base_uri": "https://localhost:8080/"
        },
        "id": "xL9N5w24BVr0",
        "outputId": "c4a60d7a-aca0-4c20-82d0-99c9fd61ae14"
      },
      "execution_count": 66,
      "outputs": [
        {
          "output_type": "stream",
          "name": "stdout",
          "text": [
            "Ford\n",
            "Bronco\n",
            "50000\n",
            "Ford Bronco 50000 2023\n"
          ]
        }
      ]
    },
    {
      "cell_type": "markdown",
      "source": [
        "===================================================================="
      ],
      "metadata": {
        "id": "hodhzY6hEeZO"
      }
    },
    {
      "cell_type": "code",
      "source": [
        "class Inst_User():\n",
        "  def __init__ (user, name, age, email):\n",
        "    user.name = name\n",
        "    user.age = age\n",
        "    user.email = email\n",
        "\n",
        "  def printname (user):\n",
        "    print(user.name)\n",
        "    print(user.age)\n",
        "    print(user.email)\n",
        "\n",
        "class Inst_User2(Inst_User):\n",
        "  def __init__ (user, name, age, email, phone_no):\n",
        "    super().__init__(name, age, email)\n",
        "    user.phone_no = phone_no\n",
        "\n",
        "  def printname2 (user):\n",
        "    print(user.phone_no)\n",
        "\n",
        "\n"
      ],
      "metadata": {
        "id": "PVioVmcDEgaW"
      },
      "execution_count": 97,
      "outputs": []
    },
    {
      "cell_type": "code",
      "source": [
        "obj1 = Inst_User2('Jay', 23, 'jay23@email.com', 1234346)\n"
      ],
      "metadata": {
        "id": "BubHKWAMJ8Qc"
      },
      "execution_count": 98,
      "outputs": []
    },
    {
      "cell_type": "code",
      "source": [
        "obj1.printname()\n",
        "obj1.printname2()"
      ],
      "metadata": {
        "colab": {
          "base_uri": "https://localhost:8080/"
        },
        "id": "aAWj7eukJ-0T",
        "outputId": "8bf55b4f-d595-4c6e-9630-24184a2c6cfa"
      },
      "execution_count": 101,
      "outputs": [
        {
          "output_type": "stream",
          "name": "stdout",
          "text": [
            "Jay\n",
            "23\n",
            "jay23@email.com\n",
            "1234346\n"
          ]
        }
      ]
    },
    {
      "cell_type": "markdown",
      "source": [
        "===================================================================="
      ],
      "metadata": {
        "id": "DbuLnay9KS0T"
      }
    }
  ]
}