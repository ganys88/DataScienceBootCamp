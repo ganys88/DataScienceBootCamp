{
  "nbformat": 4,
  "nbformat_minor": 0,
  "metadata": {
    "colab": {
      "provenance": []
    },
    "kernelspec": {
      "name": "python3",
      "display_name": "Python 3"
    },
    "language_info": {
      "name": "python"
    }
  },
  "cells": [
    {
      "cell_type": "code",
      "source": [
        "#BMI calculator\n",
        "weight_lb = float(input('Weight: '))\n",
        "height_in = float(input('Height: '))\n",
        "\n",
        "BMI = (weight_lb / (height_in)**2)*703\n",
        "print('BMI:', BMI)\n",
        "if BMI < 18.5:\n",
        "  print ('Underweight')\n",
        "elif BMI>18.5 and BMI<24.9:\n",
        "  print ('Normal Weight')\n",
        "elif BMI>25 and BMI<29.9:\n",
        "  print ('Overweight')\n",
        "else:\n",
        "  print('Danger Zone')\n",
        "\n",
        "\n"
      ],
      "metadata": {
        "id": "ghEa5fisCkjg"
      },
      "execution_count": null,
      "outputs": []
    }
  ]
}