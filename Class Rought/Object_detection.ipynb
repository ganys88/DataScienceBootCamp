{
  "nbformat": 4,
  "nbformat_minor": 0,
  "metadata": {
    "colab": {
      "provenance": []
    },
    "kernelspec": {
      "name": "python3",
      "display_name": "Python 3"
    },
    "language_info": {
      "name": "python"
    }
  },
  "cells": [
    {
      "cell_type": "markdown",
      "source": [
        "# **Step 1**\n",
        "Basic Format"
      ],
      "metadata": {
        "id": "dAbdxuKHGao-"
      }
    },
    {
      "cell_type": "code",
      "execution_count": null,
      "metadata": {
        "id": "BLDCip4uGVyX"
      },
      "outputs": [],
      "source": [
        "import cv2\n",
        "\n",
        "cap = cv2.VideoCapture(0)\n",
        "\n",
        "while True:\n",
        "    ret, frame = cap.read()\n",
        "\n",
        "    cv2.imshow('Frame', frame)\n",
        "\n",
        "    if cv2.waitKey(1) == ord('q'):\n",
        "        break\n",
        "\n",
        "cap.release()\n",
        "cv2.destroyAllWindows()"
      ]
    },
    {
      "cell_type": "markdown",
      "source": [
        "# **Step 2**"
      ],
      "metadata": {
        "id": "Pdvp7XEaGsNK"
      }
    },
    {
      "cell_type": "code",
      "source": [
        "import cv2\n",
        "\n",
        "cap = cv2.VideoCapture(0)\n",
        "\n",
        "# object detection from a stable camera / webcam\n",
        "object_detector = cv2.createBackgroundSubtractorMOG2()\n",
        "\n",
        "while True:\n",
        "    ret, frame = cap.read()\n",
        "\n",
        "    mask = objector_detector.apply(frame)  # object detection\n",
        "\n",
        "    cv2.imshow('Frame', frame)\n",
        "    cv2.imshow('Mask', mask)\n",
        "\n",
        "    if cv2.waitKey(1) == ord('q'):\n",
        "        break\n",
        "\n",
        "cap.release()\n",
        "cv2.destroyAllWindows()"
      ],
      "metadata": {
        "id": "5ZRt-aopGqiG"
      },
      "execution_count": null,
      "outputs": []
    },
    {
      "cell_type": "markdown",
      "source": [
        "# **Step 3**"
      ],
      "metadata": {
        "id": "fnaIGyCEKIlo"
      }
    },
    {
      "cell_type": "code",
      "source": [
        "import cv2\n",
        "\n",
        "cap = cv2.VideoCapture(0)\n",
        "\n",
        "object_detector = cv2.createBackgroundSubtractorMOG2()\n",
        "\n",
        "while True:\n",
        "    ret, frame = cap.read()\n",
        "\n",
        "    mask = objector_detector.apply(frame)\n",
        "\n",
        "    cv2.imshow('Frame', frame)\n",
        "    cv2.imshow('Mask', mask)\n",
        "\n",
        "    if cv2.waitKey(1) == ord('q'):\n",
        "        break\n",
        "\n",
        "cap.release()\n",
        "cv2.destroyAllWindows()"
      ],
      "metadata": {
        "id": "gPggoQGeKMwZ"
      },
      "execution_count": null,
      "outputs": []
    },
    {
      "cell_type": "code",
      "source": [
        "import cv2 #image\n",
        "import time #delay\n",
        "import imutils #resize\n",
        "\n",
        "cam = cv2.VideoCapture(0) #cam id\n",
        "time.sleep(1)\n",
        "\n",
        "firstFrame=None\n",
        "area = 500\n",
        "\n",
        "while True:\n",
        "    _,img = cam.read() #read frame from camera\n",
        "    text = \"Normal\"\n",
        "    img = imutils.resize(img, width=500) #resize\n",
        "\n",
        "    grayImg = cv2.cvtColor(img, cv2.COLOR_BGR2GRAY) #color 2 Gray scale image\n",
        "\n",
        "    gaussianImg = cv2.GaussianBlur(grayImg, (21, 21), 0) #smoothened\n",
        "\n",
        "    if firstFrame is None:\n",
        "            firstFrame = gaussianImg #capturing 1st frame on 1st iteration\n",
        "            continue\n",
        "\n",
        "    imgDiff = cv2.absdiff(firstFrame, gaussianImg) #absolute diff b/w 1st nd current frame\n",
        "\n",
        "    threshImg = cv2.threshold(imgDiff, 25, 255, cv2.THRESH_BINARY)[1] #binary\n",
        "\n",
        "    threshImg = cv2.dilate(threshImg, None, iterations=2)\n",
        "\n",
        "    cnts = cv2.findContours(threshImg.copy(), cv2.RETR_EXTERNAL,\n",
        "            cv2.CHAIN_APPROX_SIMPLE)\n",
        "\n",
        "    cnts = imutils.grab_contours(cnts)\n",
        "    for c in cnts:\n",
        "            if cv2.contourArea(c) < area:\n",
        "                    continue\n",
        "            (x, y, w, h) = cv2.boundingRect(c)\n",
        "            cv2.rectangle(img, (x, y), (x + w, y + h), (0, 255, 0), 2)\n",
        "            text = \"Moving Object detected\"\n",
        "    print(text)\n",
        "    cv2.putText(img, text, (10, 20),\n",
        "            cv2.FONT_HERSHEY_SIMPLEX, 0.5, (0, 0, 255), 2)\n",
        "    cv2.imshow(\"cameraFeed\",img)\n",
        "    key = cv2.waitKey(1) & 0xFF\n",
        "    if key == ord(\"q\"):\n",
        "        break\n",
        "\n",
        "cam.release()\n",
        "cv2.destroyAllWindows()"
      ],
      "metadata": {
        "id": "7vr1z9WRRMZH"
      },
      "execution_count": null,
      "outputs": []
    }
  ]
}