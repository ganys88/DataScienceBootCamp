{
  "nbformat": 4,
  "nbformat_minor": 0,
  "metadata": {
    "colab": {
      "provenance": []
    },
    "kernelspec": {
      "name": "python3",
      "display_name": "Python 3"
    },
    "language_info": {
      "name": "python"
    }
  },
  "cells": [
    {
      "cell_type": "code",
      "source": [
        "# get sum of total\n",
        "lst1 = [1,2,3,4,5,-5,-4,-3,-2,-1,1]\n",
        "total = 0                          # we r defining this\n",
        "for elements in lst1:\n",
        "  total += elements\n",
        "print(total)"
      ],
      "metadata": {
        "colab": {
          "base_uri": "https://localhost:8080/"
        },
        "id": "Ysk9u-N3SQ2A",
        "outputId": "34007024-dae0-4a50-d2c6-625fe39bab8f"
      },
      "execution_count": 13,
      "outputs": [
        {
          "output_type": "stream",
          "name": "stdout",
          "text": [
            "1\n"
          ]
        }
      ]
    },
    {
      "cell_type": "code",
      "source": [
        "# difference between for loop and while loop is that\n",
        "# for loop is defined. it has specific and clear values (like 'elements in lst1)\n",
        "# while loop has no specific or clear values (we use variable like 'i' to define list1)"
      ],
      "metadata": {
        "id": "cDWdVx66a7u9"
      },
      "execution_count": null,
      "outputs": []
    },
    {
      "cell_type": "code",
      "source": [
        "# get sum of only positive numbers\n",
        "# use for loop\n",
        "lst1 = [1,2,3,4,5,-5,-4,-3,-2,-1]\n",
        "total = 0                           # we r defining this\n",
        "for elements in lst1:\n",
        "  if elements <= 0:\n",
        "    break\n",
        "  total+=elements\n",
        "print(total)\n"
      ],
      "metadata": {
        "colab": {
          "base_uri": "https://localhost:8080/"
        },
        "id": "yZ1pL34WXB3S",
        "outputId": "371d0a5f-5bf1-43cb-f27d-1cd04fdfe273"
      },
      "execution_count": 14,
      "outputs": [
        {
          "output_type": "stream",
          "name": "stdout",
          "text": [
            "15\n"
          ]
        }
      ]
    },
    {
      "cell_type": "code",
      "source": [
        "# get sum of only positive numbers\n",
        "# use while loop\n",
        "\n",
        "lst1 = [1,2,3,4,5,-5,-4,-3,-2,-1]\n",
        "total = 0                            # we define this\n",
        "i = 0                                # we define this aswell\n",
        "while True:\n",
        "  total += lst1[i]\n",
        "  i += 1\n",
        "  if lst1[i]<=0:\n",
        "    break\n",
        "print(total)"
      ],
      "metadata": {
        "colab": {
          "base_uri": "https://localhost:8080/"
        },
        "id": "fgGKj8H8ZhiL",
        "outputId": "1b3bd99a-1c1e-4631-d8c9-0ae9d576c206"
      },
      "execution_count": 16,
      "outputs": [
        {
          "output_type": "stream",
          "name": "stdout",
          "text": [
            "15\n"
          ]
        }
      ]
    },
    {
      "cell_type": "code",
      "source": [
        "#get the sum of n until users use 0\n",
        "\n",
        "n=int(input(\"Enter the number you want to sum \"))\n",
        "sum=0\n",
        "while True:\n",
        "  if n!=0:\n",
        "    sum += n\n",
        "    n=int(input(\"Enter the number you want to sum \"))     #try commenting this\n",
        "  else:\n",
        "    break                                                 #try commenting this\n",
        "print(\"total\",sum)\n",
        "\n",
        "# this helps to understand while loop\n",
        "# try to comment #break, try to comment #n=int(input(\"Enter the number you want to sum \"))\n",
        "# after sum = sum+n to see how it changes"
      ],
      "metadata": {
        "colab": {
          "base_uri": "https://localhost:8080/"
        },
        "id": "zX7cjhQzmUee",
        "outputId": "cde44a25-23ab-48f2-d31b-dcfd49d0caa7"
      },
      "execution_count": 18,
      "outputs": [
        {
          "output_type": "stream",
          "name": "stdout",
          "text": [
            "Enter the number you want to sum 10\n",
            "Enter the number you want to sum 10\n",
            "Enter the number you want to sum 0\n",
            "total 20\n"
          ]
        }
      ]
    },
    {
      "cell_type": "code",
      "source": [
        "# Exception handling\n",
        "\n",
        "n = int(input(\"Enter the number you want to divide from\"))\n",
        "try:\n",
        " k = 5//n\n",
        " print(k)\n",
        "except ZeroDivisionError:\n",
        "  print(\"can't divide by zero\")"
      ],
      "metadata": {
        "colab": {
          "base_uri": "https://localhost:8080/"
        },
        "id": "jR46oYaDojwT",
        "outputId": "95d05555-aa67-4b8e-b6cb-c590ea068348"
      },
      "execution_count": 9,
      "outputs": [
        {
          "output_type": "stream",
          "name": "stdout",
          "text": [
            "Enter the number you want to divide from0\n",
            "can't divide by zero\n"
          ]
        }
      ]
    },
    {
      "cell_type": "code",
      "source": [
        "n = input(\"Enter the number you want to divide from\") #remove int\n",
        "try:\n",
        " k = 5//n\n",
        " print(k)\n",
        "except ZeroDivisionError:\n",
        "  print(\"can't divide by zero\")\n",
        "\n",
        "\n",
        "  #accepts zerodivision error but throws unsupported operand type error"
      ],
      "metadata": {
        "colab": {
          "base_uri": "https://localhost:8080/",
          "height": 269
        },
        "id": "Ol-6oyL_t_Bs",
        "outputId": "cfd2d9f9-debd-43fd-9b88-76d412f28531"
      },
      "execution_count": 14,
      "outputs": [
        {
          "name": "stdout",
          "output_type": "stream",
          "text": [
            "Enter the number you want to divide from0\n"
          ]
        },
        {
          "output_type": "error",
          "ename": "TypeError",
          "evalue": "ignored",
          "traceback": [
            "\u001b[0;31m---------------------------------------------------------------------------\u001b[0m",
            "\u001b[0;31mTypeError\u001b[0m                                 Traceback (most recent call last)",
            "\u001b[0;32m<ipython-input-14-96c3f48f244a>\u001b[0m in \u001b[0;36m<cell line: 2>\u001b[0;34m()\u001b[0m\n\u001b[1;32m      1\u001b[0m \u001b[0mn\u001b[0m \u001b[0;34m=\u001b[0m \u001b[0minput\u001b[0m\u001b[0;34m(\u001b[0m\u001b[0;34m\"Enter the number you want to divide from\"\u001b[0m\u001b[0;34m)\u001b[0m\u001b[0;34m\u001b[0m\u001b[0;34m\u001b[0m\u001b[0m\n\u001b[1;32m      2\u001b[0m \u001b[0;32mtry\u001b[0m\u001b[0;34m:\u001b[0m\u001b[0;34m\u001b[0m\u001b[0;34m\u001b[0m\u001b[0m\n\u001b[0;32m----> 3\u001b[0;31m  \u001b[0mk\u001b[0m \u001b[0;34m=\u001b[0m \u001b[0;36m5\u001b[0m\u001b[0;34m//\u001b[0m\u001b[0mn\u001b[0m\u001b[0;34m\u001b[0m\u001b[0;34m\u001b[0m\u001b[0m\n\u001b[0m\u001b[1;32m      4\u001b[0m  \u001b[0mprint\u001b[0m\u001b[0;34m(\u001b[0m\u001b[0mk\u001b[0m\u001b[0;34m)\u001b[0m\u001b[0;34m\u001b[0m\u001b[0;34m\u001b[0m\u001b[0m\n\u001b[1;32m      5\u001b[0m \u001b[0;32mexcept\u001b[0m \u001b[0mZeroDivisionError\u001b[0m\u001b[0;34m:\u001b[0m\u001b[0;34m\u001b[0m\u001b[0;34m\u001b[0m\u001b[0m\n",
            "\u001b[0;31mTypeError\u001b[0m: unsupported operand type(s) for //: 'int' and 'str'"
          ]
        }
      ]
    },
    {
      "cell_type": "code",
      "source": [
        "n = input(\"Enter the number you want to divide from\")\n",
        "try:\n",
        " k = 5//n\n",
        " print(k)\n",
        "except Exception as e:\n",
        "  print(\"can't divide by zero\")"
      ],
      "metadata": {
        "colab": {
          "base_uri": "https://localhost:8080/"
        },
        "id": "rI8Yb6gAtfrW",
        "outputId": "82002da3-756f-4f14-8ce7-86b5107de509"
      },
      "execution_count": 13,
      "outputs": [
        {
          "output_type": "stream",
          "name": "stdout",
          "text": [
            "Enter the number you want to divide from0\n",
            "can't divide by zero\n"
          ]
        }
      ]
    },
    {
      "cell_type": "code",
      "source": [
        "def divide_by_user_input(n):\n",
        "  error=False\n",
        "  try:\n",
        "    k=5/n\n",
        "    print(k)\n",
        "  except ZeroDivisionError:\n",
        "    print(\"Cant Divide by Zero\")\n",
        "    error=True\n",
        "  finally:\n",
        "    if error:\n",
        "      n=int(input(\"Enter the number you want to divide from should be greater than 0\"))\n",
        "      divide_by_user_input(n)"
      ],
      "metadata": {
        "id": "qhN9nPIHyK-o"
      },
      "execution_count": 15,
      "outputs": []
    },
    {
      "cell_type": "code",
      "source": [
        "n=int(input(\"Enter the number you want to divide from\"))\n",
        "divide_by_user_input(n)"
      ],
      "metadata": {
        "id": "f__sessRyM_I"
      },
      "execution_count": null,
      "outputs": []
    }
  ]
}