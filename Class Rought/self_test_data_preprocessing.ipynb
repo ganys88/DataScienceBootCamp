{
  "nbformat": 4,
  "nbformat_minor": 0,
  "metadata": {
    "colab": {
      "provenance": []
    },
    "kernelspec": {
      "name": "python3",
      "display_name": "Python 3"
    },
    "language_info": {
      "name": "python"
    }
  },
  "cells": [
    {
      "cell_type": "code",
      "execution_count": 24,
      "metadata": {
        "id": "jgpKNmcQqsOV"
      },
      "outputs": [],
      "source": [
        "#1. import libraries\n",
        "import pandas as pd\n",
        "import numpy as np"
      ]
    },
    {
      "cell_type": "code",
      "source": [
        "#2. import dataset\n",
        "data = pd.read_excel('/content/Data3 (1).xlsx')\n",
        "data"
      ],
      "metadata": {
        "colab": {
          "base_uri": "https://localhost:8080/",
          "height": 362
        },
        "id": "Q04PNIhQq2xB",
        "outputId": "9cb0122e-8fe4-4d2e-e0ad-ff0c39d7c056"
      },
      "execution_count": 25,
      "outputs": [
        {
          "output_type": "execute_result",
          "data": {
            "text/plain": [
              "   Country   Age   Salary Most_Freq Constant Purchased\n",
              "0   France  44.0  72000.0      Pune    India        No\n",
              "1    Spain  27.0  48000.0      Pune    India       Yes\n",
              "2  Germany  30.0  54000.0    Mumbai    India        No\n",
              "3    Spain  38.0  61000.0      Pune    India        No\n",
              "4  Germany  40.0      NaN      Pune    India       Yes\n",
              "5   France  35.0  58000.0    Nagpur    India       Yes\n",
              "6    Spain   NaN  52000.0      Pune    India        No\n",
              "7   France  48.0  79000.0       NaN    India       Yes\n",
              "8  Germany  50.0  83000.0    Mumbai    India        No\n",
              "9   France  37.0  67000.0      Pune      NaN       Yes"
            ],
            "text/html": [
              "\n",
              "  <div id=\"df-158959c2-5403-4949-936f-fdf52a4ec289\" class=\"colab-df-container\">\n",
              "    <div>\n",
              "<style scoped>\n",
              "    .dataframe tbody tr th:only-of-type {\n",
              "        vertical-align: middle;\n",
              "    }\n",
              "\n",
              "    .dataframe tbody tr th {\n",
              "        vertical-align: top;\n",
              "    }\n",
              "\n",
              "    .dataframe thead th {\n",
              "        text-align: right;\n",
              "    }\n",
              "</style>\n",
              "<table border=\"1\" class=\"dataframe\">\n",
              "  <thead>\n",
              "    <tr style=\"text-align: right;\">\n",
              "      <th></th>\n",
              "      <th>Country</th>\n",
              "      <th>Age</th>\n",
              "      <th>Salary</th>\n",
              "      <th>Most_Freq</th>\n",
              "      <th>Constant</th>\n",
              "      <th>Purchased</th>\n",
              "    </tr>\n",
              "  </thead>\n",
              "  <tbody>\n",
              "    <tr>\n",
              "      <th>0</th>\n",
              "      <td>France</td>\n",
              "      <td>44.0</td>\n",
              "      <td>72000.0</td>\n",
              "      <td>Pune</td>\n",
              "      <td>India</td>\n",
              "      <td>No</td>\n",
              "    </tr>\n",
              "    <tr>\n",
              "      <th>1</th>\n",
              "      <td>Spain</td>\n",
              "      <td>27.0</td>\n",
              "      <td>48000.0</td>\n",
              "      <td>Pune</td>\n",
              "      <td>India</td>\n",
              "      <td>Yes</td>\n",
              "    </tr>\n",
              "    <tr>\n",
              "      <th>2</th>\n",
              "      <td>Germany</td>\n",
              "      <td>30.0</td>\n",
              "      <td>54000.0</td>\n",
              "      <td>Mumbai</td>\n",
              "      <td>India</td>\n",
              "      <td>No</td>\n",
              "    </tr>\n",
              "    <tr>\n",
              "      <th>3</th>\n",
              "      <td>Spain</td>\n",
              "      <td>38.0</td>\n",
              "      <td>61000.0</td>\n",
              "      <td>Pune</td>\n",
              "      <td>India</td>\n",
              "      <td>No</td>\n",
              "    </tr>\n",
              "    <tr>\n",
              "      <th>4</th>\n",
              "      <td>Germany</td>\n",
              "      <td>40.0</td>\n",
              "      <td>NaN</td>\n",
              "      <td>Pune</td>\n",
              "      <td>India</td>\n",
              "      <td>Yes</td>\n",
              "    </tr>\n",
              "    <tr>\n",
              "      <th>5</th>\n",
              "      <td>France</td>\n",
              "      <td>35.0</td>\n",
              "      <td>58000.0</td>\n",
              "      <td>Nagpur</td>\n",
              "      <td>India</td>\n",
              "      <td>Yes</td>\n",
              "    </tr>\n",
              "    <tr>\n",
              "      <th>6</th>\n",
              "      <td>Spain</td>\n",
              "      <td>NaN</td>\n",
              "      <td>52000.0</td>\n",
              "      <td>Pune</td>\n",
              "      <td>India</td>\n",
              "      <td>No</td>\n",
              "    </tr>\n",
              "    <tr>\n",
              "      <th>7</th>\n",
              "      <td>France</td>\n",
              "      <td>48.0</td>\n",
              "      <td>79000.0</td>\n",
              "      <td>NaN</td>\n",
              "      <td>India</td>\n",
              "      <td>Yes</td>\n",
              "    </tr>\n",
              "    <tr>\n",
              "      <th>8</th>\n",
              "      <td>Germany</td>\n",
              "      <td>50.0</td>\n",
              "      <td>83000.0</td>\n",
              "      <td>Mumbai</td>\n",
              "      <td>India</td>\n",
              "      <td>No</td>\n",
              "    </tr>\n",
              "    <tr>\n",
              "      <th>9</th>\n",
              "      <td>France</td>\n",
              "      <td>37.0</td>\n",
              "      <td>67000.0</td>\n",
              "      <td>Pune</td>\n",
              "      <td>NaN</td>\n",
              "      <td>Yes</td>\n",
              "    </tr>\n",
              "  </tbody>\n",
              "</table>\n",
              "</div>\n",
              "    <div class=\"colab-df-buttons\">\n",
              "\n",
              "  <div class=\"colab-df-container\">\n",
              "    <button class=\"colab-df-convert\" onclick=\"convertToInteractive('df-158959c2-5403-4949-936f-fdf52a4ec289')\"\n",
              "            title=\"Convert this dataframe to an interactive table.\"\n",
              "            style=\"display:none;\">\n",
              "\n",
              "  <svg xmlns=\"http://www.w3.org/2000/svg\" height=\"24px\" viewBox=\"0 -960 960 960\">\n",
              "    <path d=\"M120-120v-720h720v720H120Zm60-500h600v-160H180v160Zm220 220h160v-160H400v160Zm0 220h160v-160H400v160ZM180-400h160v-160H180v160Zm440 0h160v-160H620v160ZM180-180h160v-160H180v160Zm440 0h160v-160H620v160Z\"/>\n",
              "  </svg>\n",
              "    </button>\n",
              "\n",
              "  <style>\n",
              "    .colab-df-container {\n",
              "      display:flex;\n",
              "      gap: 12px;\n",
              "    }\n",
              "\n",
              "    .colab-df-convert {\n",
              "      background-color: #E8F0FE;\n",
              "      border: none;\n",
              "      border-radius: 50%;\n",
              "      cursor: pointer;\n",
              "      display: none;\n",
              "      fill: #1967D2;\n",
              "      height: 32px;\n",
              "      padding: 0 0 0 0;\n",
              "      width: 32px;\n",
              "    }\n",
              "\n",
              "    .colab-df-convert:hover {\n",
              "      background-color: #E2EBFA;\n",
              "      box-shadow: 0px 1px 2px rgba(60, 64, 67, 0.3), 0px 1px 3px 1px rgba(60, 64, 67, 0.15);\n",
              "      fill: #174EA6;\n",
              "    }\n",
              "\n",
              "    .colab-df-buttons div {\n",
              "      margin-bottom: 4px;\n",
              "    }\n",
              "\n",
              "    [theme=dark] .colab-df-convert {\n",
              "      background-color: #3B4455;\n",
              "      fill: #D2E3FC;\n",
              "    }\n",
              "\n",
              "    [theme=dark] .colab-df-convert:hover {\n",
              "      background-color: #434B5C;\n",
              "      box-shadow: 0px 1px 3px 1px rgba(0, 0, 0, 0.15);\n",
              "      filter: drop-shadow(0px 1px 2px rgba(0, 0, 0, 0.3));\n",
              "      fill: #FFFFFF;\n",
              "    }\n",
              "  </style>\n",
              "\n",
              "    <script>\n",
              "      const buttonEl =\n",
              "        document.querySelector('#df-158959c2-5403-4949-936f-fdf52a4ec289 button.colab-df-convert');\n",
              "      buttonEl.style.display =\n",
              "        google.colab.kernel.accessAllowed ? 'block' : 'none';\n",
              "\n",
              "      async function convertToInteractive(key) {\n",
              "        const element = document.querySelector('#df-158959c2-5403-4949-936f-fdf52a4ec289');\n",
              "        const dataTable =\n",
              "          await google.colab.kernel.invokeFunction('convertToInteractive',\n",
              "                                                    [key], {});\n",
              "        if (!dataTable) return;\n",
              "\n",
              "        const docLinkHtml = 'Like what you see? Visit the ' +\n",
              "          '<a target=\"_blank\" href=https://colab.research.google.com/notebooks/data_table.ipynb>data table notebook</a>'\n",
              "          + ' to learn more about interactive tables.';\n",
              "        element.innerHTML = '';\n",
              "        dataTable['output_type'] = 'display_data';\n",
              "        await google.colab.output.renderOutput(dataTable, element);\n",
              "        const docLink = document.createElement('div');\n",
              "        docLink.innerHTML = docLinkHtml;\n",
              "        element.appendChild(docLink);\n",
              "      }\n",
              "    </script>\n",
              "  </div>\n",
              "\n",
              "\n",
              "<div id=\"df-325f597c-cf83-491c-927b-c6408d6ae18a\">\n",
              "  <button class=\"colab-df-quickchart\" onclick=\"quickchart('df-325f597c-cf83-491c-927b-c6408d6ae18a')\"\n",
              "            title=\"Suggest charts.\"\n",
              "            style=\"display:none;\">\n",
              "\n",
              "<svg xmlns=\"http://www.w3.org/2000/svg\" height=\"24px\"viewBox=\"0 0 24 24\"\n",
              "     width=\"24px\">\n",
              "    <g>\n",
              "        <path d=\"M19 3H5c-1.1 0-2 .9-2 2v14c0 1.1.9 2 2 2h14c1.1 0 2-.9 2-2V5c0-1.1-.9-2-2-2zM9 17H7v-7h2v7zm4 0h-2V7h2v10zm4 0h-2v-4h2v4z\"/>\n",
              "    </g>\n",
              "</svg>\n",
              "  </button>\n",
              "\n",
              "<style>\n",
              "  .colab-df-quickchart {\n",
              "      --bg-color: #E8F0FE;\n",
              "      --fill-color: #1967D2;\n",
              "      --hover-bg-color: #E2EBFA;\n",
              "      --hover-fill-color: #174EA6;\n",
              "      --disabled-fill-color: #AAA;\n",
              "      --disabled-bg-color: #DDD;\n",
              "  }\n",
              "\n",
              "  [theme=dark] .colab-df-quickchart {\n",
              "      --bg-color: #3B4455;\n",
              "      --fill-color: #D2E3FC;\n",
              "      --hover-bg-color: #434B5C;\n",
              "      --hover-fill-color: #FFFFFF;\n",
              "      --disabled-bg-color: #3B4455;\n",
              "      --disabled-fill-color: #666;\n",
              "  }\n",
              "\n",
              "  .colab-df-quickchart {\n",
              "    background-color: var(--bg-color);\n",
              "    border: none;\n",
              "    border-radius: 50%;\n",
              "    cursor: pointer;\n",
              "    display: none;\n",
              "    fill: var(--fill-color);\n",
              "    height: 32px;\n",
              "    padding: 0;\n",
              "    width: 32px;\n",
              "  }\n",
              "\n",
              "  .colab-df-quickchart:hover {\n",
              "    background-color: var(--hover-bg-color);\n",
              "    box-shadow: 0 1px 2px rgba(60, 64, 67, 0.3), 0 1px 3px 1px rgba(60, 64, 67, 0.15);\n",
              "    fill: var(--button-hover-fill-color);\n",
              "  }\n",
              "\n",
              "  .colab-df-quickchart-complete:disabled,\n",
              "  .colab-df-quickchart-complete:disabled:hover {\n",
              "    background-color: var(--disabled-bg-color);\n",
              "    fill: var(--disabled-fill-color);\n",
              "    box-shadow: none;\n",
              "  }\n",
              "\n",
              "  .colab-df-spinner {\n",
              "    border: 2px solid var(--fill-color);\n",
              "    border-color: transparent;\n",
              "    border-bottom-color: var(--fill-color);\n",
              "    animation:\n",
              "      spin 1s steps(1) infinite;\n",
              "  }\n",
              "\n",
              "  @keyframes spin {\n",
              "    0% {\n",
              "      border-color: transparent;\n",
              "      border-bottom-color: var(--fill-color);\n",
              "      border-left-color: var(--fill-color);\n",
              "    }\n",
              "    20% {\n",
              "      border-color: transparent;\n",
              "      border-left-color: var(--fill-color);\n",
              "      border-top-color: var(--fill-color);\n",
              "    }\n",
              "    30% {\n",
              "      border-color: transparent;\n",
              "      border-left-color: var(--fill-color);\n",
              "      border-top-color: var(--fill-color);\n",
              "      border-right-color: var(--fill-color);\n",
              "    }\n",
              "    40% {\n",
              "      border-color: transparent;\n",
              "      border-right-color: var(--fill-color);\n",
              "      border-top-color: var(--fill-color);\n",
              "    }\n",
              "    60% {\n",
              "      border-color: transparent;\n",
              "      border-right-color: var(--fill-color);\n",
              "    }\n",
              "    80% {\n",
              "      border-color: transparent;\n",
              "      border-right-color: var(--fill-color);\n",
              "      border-bottom-color: var(--fill-color);\n",
              "    }\n",
              "    90% {\n",
              "      border-color: transparent;\n",
              "      border-bottom-color: var(--fill-color);\n",
              "    }\n",
              "  }\n",
              "</style>\n",
              "\n",
              "  <script>\n",
              "    async function quickchart(key) {\n",
              "      const quickchartButtonEl =\n",
              "        document.querySelector('#' + key + ' button');\n",
              "      quickchartButtonEl.disabled = true;  // To prevent multiple clicks.\n",
              "      quickchartButtonEl.classList.add('colab-df-spinner');\n",
              "      try {\n",
              "        const charts = await google.colab.kernel.invokeFunction(\n",
              "            'suggestCharts', [key], {});\n",
              "      } catch (error) {\n",
              "        console.error('Error during call to suggestCharts:', error);\n",
              "      }\n",
              "      quickchartButtonEl.classList.remove('colab-df-spinner');\n",
              "      quickchartButtonEl.classList.add('colab-df-quickchart-complete');\n",
              "    }\n",
              "    (() => {\n",
              "      let quickchartButtonEl =\n",
              "        document.querySelector('#df-325f597c-cf83-491c-927b-c6408d6ae18a button');\n",
              "      quickchartButtonEl.style.display =\n",
              "        google.colab.kernel.accessAllowed ? 'block' : 'none';\n",
              "    })();\n",
              "  </script>\n",
              "</div>\n",
              "    </div>\n",
              "  </div>\n"
            ]
          },
          "metadata": {},
          "execution_count": 25
        }
      ]
    },
    {
      "cell_type": "code",
      "source": [
        "#3. distinguish between independent (x) and dependent (y)\n",
        "x = data.iloc[:,0:5].values\n",
        "x"
      ],
      "metadata": {
        "colab": {
          "base_uri": "https://localhost:8080/"
        },
        "id": "SdI1oWWJrMfv",
        "outputId": "b9e75839-b41e-49de-c1c1-829f79e0d340"
      },
      "execution_count": 26,
      "outputs": [
        {
          "output_type": "execute_result",
          "data": {
            "text/plain": [
              "array([['France', 44.0, 72000.0, 'Pune', 'India'],\n",
              "       ['Spain', 27.0, 48000.0, 'Pune', 'India'],\n",
              "       ['Germany', 30.0, 54000.0, 'Mumbai', 'India'],\n",
              "       ['Spain', 38.0, 61000.0, 'Pune', 'India'],\n",
              "       ['Germany', 40.0, nan, 'Pune', 'India'],\n",
              "       ['France', 35.0, 58000.0, 'Nagpur', 'India'],\n",
              "       ['Spain', nan, 52000.0, 'Pune', 'India'],\n",
              "       ['France', 48.0, 79000.0, nan, 'India'],\n",
              "       ['Germany', 50.0, 83000.0, 'Mumbai', 'India'],\n",
              "       ['France', 37.0, 67000.0, 'Pune', nan]], dtype=object)"
            ]
          },
          "metadata": {},
          "execution_count": 26
        }
      ]
    },
    {
      "cell_type": "code",
      "source": [
        "y = data.iloc[:,-1].values\n",
        "y"
      ],
      "metadata": {
        "colab": {
          "base_uri": "https://localhost:8080/"
        },
        "id": "UmPnjzhSrsUl",
        "outputId": "9ffa9aba-7e2e-413a-f99d-c21270a54b9f"
      },
      "execution_count": 27,
      "outputs": [
        {
          "output_type": "execute_result",
          "data": {
            "text/plain": [
              "array(['No', 'Yes', 'No', 'No', 'Yes', 'Yes', 'No', 'Yes', 'No', 'Yes'],\n",
              "      dtype=object)"
            ]
          },
          "metadata": {},
          "execution_count": 27
        }
      ]
    },
    {
      "cell_type": "code",
      "source": [
        "#4. there are missing values on age, salary, most_frequent and constant\n",
        "#   lets replace missing values on age and salary with median and most frequent with mode and country with constant\n",
        "\n",
        "from sklearn.impute import SimpleImputer\n",
        "#imputer_mean = SimpleImputer(missing_values=np.nan, strategy = 'mean') # for integers\n",
        "imputer_meadian = SimpleImputer(missing_values=np.nan, strategy = 'median')  # for integers\n",
        "imputer_most_frequent = SimpleImputer(missing_values=np.nan, strategy='most_frequent') # for categorical value\n",
        "imputer_constant = SimpleImputer(missing_values=np.nan, strategy='constant', fill_value='India') # for cat\n"
      ],
      "metadata": {
        "id": "96gL5-qGr7Uk"
      },
      "execution_count": 28,
      "outputs": []
    },
    {
      "cell_type": "code",
      "source": [
        "# use above function in a respectable columns\n",
        "x[:,1:3] = imputer_meadian.fit_transform(x[:,1:3])  # for age and salary\n",
        "x[:,3:4] = imputer_most_frequent.fit_transform(x[:,3:4]) # for most_frequent city\n",
        "x[:,4:5] = imputer_constant.fit_transform(x[:,4:5]) # for constant country India\n",
        "x"
      ],
      "metadata": {
        "colab": {
          "base_uri": "https://localhost:8080/"
        },
        "id": "ZJNZjYRrtnv2",
        "outputId": "802a8a49-6b2b-46c1-f24f-32ac8e7e5f5e"
      },
      "execution_count": 29,
      "outputs": [
        {
          "output_type": "execute_result",
          "data": {
            "text/plain": [
              "array([['France', 44.0, 72000.0, 'Pune', 'India'],\n",
              "       ['Spain', 27.0, 48000.0, 'Pune', 'India'],\n",
              "       ['Germany', 30.0, 54000.0, 'Mumbai', 'India'],\n",
              "       ['Spain', 38.0, 61000.0, 'Pune', 'India'],\n",
              "       ['Germany', 40.0, 61000.0, 'Pune', 'India'],\n",
              "       ['France', 35.0, 58000.0, 'Nagpur', 'India'],\n",
              "       ['Spain', 38.0, 52000.0, 'Pune', 'India'],\n",
              "       ['France', 48.0, 79000.0, 'Pune', 'India'],\n",
              "       ['Germany', 50.0, 83000.0, 'Mumbai', 'India'],\n",
              "       ['France', 37.0, 67000.0, 'Pune', 'India']], dtype=object)"
            ]
          },
          "metadata": {},
          "execution_count": 29
        }
      ]
    },
    {
      "cell_type": "code",
      "source": [
        "#5. transform categorical data into numeric\n",
        "#   coz machine only understands numbers\n",
        "\n",
        "#   for independent value(x)\n",
        "from matplotlib import transforms\n",
        "from sklearn.compose import ColumnTransformer\n",
        "from sklearn.preprocessing import OneHotEncoder"
      ],
      "metadata": {
        "id": "5iiRK_hnuymd"
      },
      "execution_count": 30,
      "outputs": []
    },
    {
      "cell_type": "code",
      "source": [
        "# for above function input the columns that need to be transformed\n",
        "# 0,3,4 has categorical variables\n",
        "ct = ColumnTransformer(transformers=[('encoder', OneHotEncoder(),[0,3,4])], remainder = 'passthrough')\n",
        "x = ct.fit_transform(x)\n",
        "x"
      ],
      "metadata": {
        "colab": {
          "base_uri": "https://localhost:8080/"
        },
        "id": "1RO2PUHGv75n",
        "outputId": "3824cd48-efe7-46dd-b5a1-1c5c6a83f56a"
      },
      "execution_count": 31,
      "outputs": [
        {
          "output_type": "execute_result",
          "data": {
            "text/plain": [
              "array([[1.0, 0.0, 0.0, 0.0, 0.0, 1.0, 1.0, 44.0, 72000.0],\n",
              "       [0.0, 0.0, 1.0, 0.0, 0.0, 1.0, 1.0, 27.0, 48000.0],\n",
              "       [0.0, 1.0, 0.0, 1.0, 0.0, 0.0, 1.0, 30.0, 54000.0],\n",
              "       [0.0, 0.0, 1.0, 0.0, 0.0, 1.0, 1.0, 38.0, 61000.0],\n",
              "       [0.0, 1.0, 0.0, 0.0, 0.0, 1.0, 1.0, 40.0, 61000.0],\n",
              "       [1.0, 0.0, 0.0, 0.0, 1.0, 0.0, 1.0, 35.0, 58000.0],\n",
              "       [0.0, 0.0, 1.0, 0.0, 0.0, 1.0, 1.0, 38.0, 52000.0],\n",
              "       [1.0, 0.0, 0.0, 0.0, 0.0, 1.0, 1.0, 48.0, 79000.0],\n",
              "       [0.0, 1.0, 0.0, 1.0, 0.0, 0.0, 1.0, 50.0, 83000.0],\n",
              "       [1.0, 0.0, 0.0, 0.0, 0.0, 1.0, 1.0, 37.0, 67000.0]], dtype=object)"
            ]
          },
          "metadata": {},
          "execution_count": 31
        }
      ]
    },
    {
      "cell_type": "code",
      "source": [
        "# for dependent value (y)\n",
        "from sklearn.preprocessing import LabelEncoder\n",
        "le = LabelEncoder()\n",
        "y = le.fit_transform(y)\n",
        "y"
      ],
      "metadata": {
        "colab": {
          "base_uri": "https://localhost:8080/"
        },
        "id": "bnQBmbwiwz-y",
        "outputId": "3c73dc87-effb-4a97-9ee7-3ec5bd5b598e"
      },
      "execution_count": 35,
      "outputs": [
        {
          "output_type": "execute_result",
          "data": {
            "text/plain": [
              "array([0, 1, 0, 0, 1, 1, 0, 1, 0, 1])"
            ]
          },
          "metadata": {},
          "execution_count": 35
        }
      ]
    },
    {
      "cell_type": "code",
      "source": [
        "# ML machine learning from here\n",
        "from sklearn.model_selection import train_test_split\n",
        "x_train, x_test, y_train, y_test = train_test_split(x,y, test_size = 0.2, random_state=0)\n",
        "x_train, x_test, y_train, y_test"
      ],
      "metadata": {
        "colab": {
          "base_uri": "https://localhost:8080/"
        },
        "id": "BXvAmerFyQFe",
        "outputId": "e3b47050-07f5-4cb4-9c28-3b8ab356e0c4"
      },
      "execution_count": 36,
      "outputs": [
        {
          "output_type": "execute_result",
          "data": {
            "text/plain": [
              "(array([[0.0, 1.0, 0.0, 0.0, 0.0, 1.0, 1.0, 40.0, 61000.0],\n",
              "        [1.0, 0.0, 0.0, 0.0, 0.0, 1.0, 1.0, 37.0, 67000.0],\n",
              "        [0.0, 0.0, 1.0, 0.0, 0.0, 1.0, 1.0, 27.0, 48000.0],\n",
              "        [0.0, 0.0, 1.0, 0.0, 0.0, 1.0, 1.0, 38.0, 52000.0],\n",
              "        [1.0, 0.0, 0.0, 0.0, 0.0, 1.0, 1.0, 48.0, 79000.0],\n",
              "        [0.0, 0.0, 1.0, 0.0, 0.0, 1.0, 1.0, 38.0, 61000.0],\n",
              "        [1.0, 0.0, 0.0, 0.0, 0.0, 1.0, 1.0, 44.0, 72000.0],\n",
              "        [1.0, 0.0, 0.0, 0.0, 1.0, 0.0, 1.0, 35.0, 58000.0]], dtype=object),\n",
              " array([[0.0, 1.0, 0.0, 1.0, 0.0, 0.0, 1.0, 30.0, 54000.0],\n",
              "        [0.0, 1.0, 0.0, 1.0, 0.0, 0.0, 1.0, 50.0, 83000.0]], dtype=object),\n",
              " array([1, 1, 1, 0, 1, 0, 0, 1]),\n",
              " array([0, 0]))"
            ]
          },
          "metadata": {},
          "execution_count": 36
        }
      ]
    },
    {
      "cell_type": "code",
      "source": [
        "# breakdown big data column(8 and 9 into small data close to 1 and 0\n",
        "from sklearn.preprocessing import StandardScaler\n",
        "sc = StandardScaler()\n",
        "x_train[:,8:] = sc.fit_transform(x_train[:,8:])\n",
        "x_test[:,8:] = sc.fit_transform(x_test[:,8:])\n",
        "x_train, x_test"
      ],
      "metadata": {
        "colab": {
          "base_uri": "https://localhost:8080/"
        },
        "id": "KQhz-4gvyx90",
        "outputId": "fa48332c-63d9-4486-a783-49439cf4eb29"
      },
      "execution_count": 39,
      "outputs": [
        {
          "output_type": "execute_result",
          "data": {
            "text/plain": [
              "(array([[0.0, 1.0, 0.0, 0.0, 0.0, 1.0, 1.0, 40.0, -0.13108062627326897],\n",
              "        [1.0, 0.0, 0.0, 0.0, 0.0, 1.0, 1.0, 37.0, 0.4981063798384226],\n",
              "        [0.0, 0.0, 1.0, 0.0, 0.0, 1.0, 1.0, 27.0, -1.4943191395152675],\n",
              "        [0.0, 0.0, 1.0, 0.0, 0.0, 1.0, 1.0, 38.0, -1.0748611354408064],\n",
              "        [1.0, 0.0, 0.0, 0.0, 0.0, 1.0, 1.0, 48.0, 1.7564803920618055],\n",
              "        [0.0, 0.0, 1.0, 0.0, 0.0, 1.0, 1.0, 38.0, -0.13108062627326897],\n",
              "        [1.0, 0.0, 0.0, 0.0, 0.0, 1.0, 1.0, 44.0, 1.0224288849314989],\n",
              "        [1.0, 0.0, 0.0, 0.0, 1.0, 0.0, 1.0, 35.0, -0.44567412932911477]],\n",
              "       dtype=object),\n",
              " array([[0.0, 1.0, 0.0, 1.0, 0.0, 0.0, 1.0, 30.0, -1.0],\n",
              "        [0.0, 1.0, 0.0, 1.0, 0.0, 0.0, 1.0, 50.0, 1.0]], dtype=object))"
            ]
          },
          "metadata": {},
          "execution_count": 39
        }
      ]
    }
  ]
}