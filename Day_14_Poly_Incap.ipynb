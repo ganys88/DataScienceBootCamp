{
  "nbformat": 4,
  "nbformat_minor": 0,
  "metadata": {
    "colab": {
      "provenance": []
    },
    "kernelspec": {
      "name": "python3",
      "display_name": "Python 3"
    },
    "language_info": {
      "name": "python"
    }
  },
  "cells": [
    {
      "cell_type": "markdown",
      "source": [
        "**Thu, Aug 24, 2020**"
      ],
      "metadata": {
        "id": "GpwW4j5B_Yg6"
      }
    },
    {
      "cell_type": "code",
      "source": [
        "class Car:\n",
        "  def __init__ (self, brand, model):\n",
        "    self.brand = brand\n",
        "    self.model = model\n",
        "\n",
        "  def move (self):\n",
        "    print('Drive')\n",
        "\n",
        "class Boat:\n",
        "  def __init__ (self, brand, model):\n",
        "    self.brand = brand\n",
        "    self.model = model\n",
        "\n",
        "  def move (self):\n",
        "    print('Sail')\n",
        "\n",
        "class Plane:\n",
        "  def __init__ (self, brand, model):\n",
        "    self.brand = brand\n",
        "    self.model = model\n",
        "\n",
        "  def move (self):\n",
        "    print('Fly')\n",
        "\n",
        "\n",
        "car1 = Car (\"Ford\", \"Mustang\")\n",
        "boat1 = Boat(\"Ibiza\",\"Touring 20\")\n",
        "plane1 = Plane(\"Boeing\", \"747\")\n",
        "\n",
        "\n",
        "for x in (car1, boat1, plane1):\n",
        "  print(x.brand, x.model)\n",
        "\n"
      ],
      "metadata": {
        "colab": {
          "base_uri": "https://localhost:8080/"
        },
        "id": "9pk--XC5_hG6",
        "outputId": "5f5a5e9f-6ebe-4e47-960e-145aed9b4fee"
      },
      "execution_count": 3,
      "outputs": [
        {
          "output_type": "stream",
          "name": "stdout",
          "text": [
            "Ford Mustang\n",
            "Ibiza Touring 20\n",
            "Boeing 747\n"
          ]
        }
      ]
    },
    {
      "cell_type": "markdown",
      "source": [
        "=============================================================="
      ],
      "metadata": {
        "id": "u5UtJcB8JrS5"
      }
    },
    {
      "cell_type": "code",
      "source": [
        "# real interview question\n",
        "class Vehicle:      #parent class\n",
        "  def __init__ (self, brand, model): # funct #parameters\n",
        "    self.brand = brand\n",
        "    self.model = model\n",
        "\n",
        "  def move (self):\n",
        "    print('Move!')\n",
        "\n",
        "class Car(Vehicle):\n",
        "  def move(self):\n",
        "    print('Drive!')\n",
        "\n",
        "class Boat(Vehicle):\n",
        "  def move(self):\n",
        "    print('Sail!')\n",
        "\n",
        "class Plane(Vehicle): #inherit\n",
        "  def move(self):     #polymorph\n",
        "    print('Fly!')\n",
        "\n",
        "car1 = Car (\"Ford\", \"Mustang\")\n",
        "boat1 = Boat(\"Ibiza\",\"Touring 20\")\n",
        "plane1 = Plane(\"Boeing\", \"747\")\n",
        "\n",
        "for x in (car1, boat1, plane1):\n",
        "  print(x.brand) #overriding\n",
        "  print(x.model) #overriding\n",
        "  x.move()\n",
        "  print()"
      ],
      "metadata": {
        "id": "lT2q0MMGJteM"
      },
      "execution_count": null,
      "outputs": []
    },
    {
      "cell_type": "markdown",
      "source": [
        "==========================================================="
      ],
      "metadata": {
        "id": "a8QxzYH2RZVt"
      }
    },
    {
      "cell_type": "code",
      "source": [
        "class Dog:\n",
        "  def __init__ (self, name, age): # funct #paramet\n",
        "    self.name = name\n",
        "    self.age = age\n",
        "\n",
        "  def instruction (self):\n",
        "    print('Move!')\n",
        "\n",
        "class Maltipoo(Dog):\n",
        "  def instruction (self):\n",
        "    print('Eat')\n",
        "\n",
        "class Boxer(Dog):\n",
        "  def instruction (self):\n",
        "    print('Sit')\n",
        "\n",
        "class Poodle(Dog):\n",
        "  def instruction (self):    #polymorph\n",
        "    print('Paw')\n",
        "\n",
        "dog1 = Maltipoo ('Bella', 5) # value of paramet\n",
        "dog2 = Boxer ('Jimmy', 10)\n",
        "dog3 = Poodle ('Chappy', 7)\n",
        "\n",
        "for x in (dog1, dog2, dog3):\n",
        "  print(x.name, x.age)    #inherit\n",
        "  x.instruction()\n",
        "  print()\n"
      ],
      "metadata": {
        "colab": {
          "base_uri": "https://localhost:8080/"
        },
        "id": "ddqI3nWzPzdu",
        "outputId": "c593d360-02c4-46e4-89f6-9baa26548936"
      },
      "execution_count": 22,
      "outputs": [
        {
          "output_type": "stream",
          "name": "stdout",
          "text": [
            "Bella 5\n",
            "Eat\n",
            "\n",
            "Jimmy 10\n",
            "Sit\n",
            "\n",
            "Chappy 7\n",
            "Paw\n",
            "\n"
          ]
        }
      ]
    }
  ]
}