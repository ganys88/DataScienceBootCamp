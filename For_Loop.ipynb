{
  "nbformat": 4,
  "nbformat_minor": 0,
  "metadata": {
    "colab": {
      "provenance": []
    },
    "kernelspec": {
      "name": "python3",
      "display_name": "Python 3"
    },
    "language_info": {
      "name": "python"
    }
  },
  "cells": [
    {
      "cell_type": "markdown",
      "source": [
        "**Tuesday**, **Aug** **15**, **2023**- **Day** **7**"
      ],
      "metadata": {
        "id": "8RwppTI0puRM"
      }
    },
    {
      "cell_type": "code",
      "source": [
        "lst1 = [12,23,34,45,56,67,78,89,90]\n",
        "for i in lst1:\n",
        "  print('value of i is:', i)"
      ],
      "metadata": {
        "id": "nXbMEqbup1cB"
      },
      "execution_count": null,
      "outputs": []
    },
    {
      "cell_type": "code",
      "source": [
        "tup1 = ('mustang','ford','toyota','tesla')\n",
        "for i in tup1:\n",
        "  print('value of i is:', i)"
      ],
      "metadata": {
        "id": "1gtjlmnxquQC"
      },
      "execution_count": null,
      "outputs": []
    },
    {
      "cell_type": "code",
      "source": [
        "set1 = {12,23,34,45,'mustang','toyota','tesla'}\n",
        "for i in set1:\n",
        "  print('value of i is:', i)"
      ],
      "metadata": {
        "id": "CaCJZBJmrC7D"
      },
      "execution_count": null,
      "outputs": []
    },
    {
      "cell_type": "code",
      "source": [
        "str1 = 'Peppa Prefer Python Programming'\n",
        "print (len(str1))\n",
        "for i in str1:\n",
        "  print ('value of i is:', i)"
      ],
      "metadata": {
        "id": "LjzYS29FrYSf"
      },
      "execution_count": null,
      "outputs": []
    },
    {
      "cell_type": "code",
      "source": [
        "for i in range (10):\n",
        "  print ('value of i is:', i)"
      ],
      "metadata": {
        "id": "vXsd7dUxrz9u"
      },
      "execution_count": null,
      "outputs": []
    },
    {
      "cell_type": "code",
      "source": [
        "# the result shows the keys\n",
        "dict1 = {'t':'tesla','f':'ford','c':'chevy'}\n",
        "for i in dict1:\n",
        "  print('value of i is:', i)"
      ],
      "metadata": {
        "id": "om3wei_rr9rj"
      },
      "execution_count": null,
      "outputs": []
    },
    {
      "cell_type": "code",
      "source": [
        "# 2 represents interval\n",
        "for i in range (0,10,2):\n",
        "  print('value of i is:', i)"
      ],
      "metadata": {
        "id": "kPjy0BnZtRAb"
      },
      "execution_count": null,
      "outputs": []
    },
    {
      "cell_type": "code",
      "source": [
        "#break should be used in while loop\n",
        "#coz it keeps running the code (executing)\n",
        "num = int(input('num:'))\n",
        "\n",
        "while (num%5==0) and (num%7==0):\n",
        "  print ('it is divisible by 5 and 7')\n",
        "  break\n",
        "else:\n",
        "  print ('it is not divisible by 5 and 7')"
      ],
      "metadata": {
        "id": "JVvNBjqKt2h6"
      },
      "execution_count": null,
      "outputs": []
    },
    {
      "cell_type": "code",
      "source": [
        "for i in range (10,50,5):\n",
        "  for j in range (0,9):\n",
        "     print(i,end = ' ')\n",
        "  print('\\r')"
      ],
      "metadata": {
        "id": "d_TnlbldwC9V"
      },
      "execution_count": null,
      "outputs": []
    },
    {
      "cell_type": "code",
      "source": [
        "for i in range(10):       #draw 10 rows\n",
        "  for j in range(0,10-i): #spaces from(0-10)-i\n",
        "    print(' ', end='')    #print space\n",
        "  for k in range(0,i+1):  #print * from (0-i)+1\n",
        "    print('*', end =' ')\n",
        "  print('\\r')             #change line"
      ],
      "metadata": {
        "id": "4AlnWWCH08it"
      },
      "execution_count": null,
      "outputs": []
    },
    {
      "cell_type": "code",
      "source": [
        "# complete code\n",
        "for i in range(10):\n",
        "  for j in range(0,i+1):\n",
        "    print('', end=' ')\n",
        "  for k in range(0,10-i):\n",
        "    print('*', end =' ')\n",
        "  print('\\r')"
      ],
      "metadata": {
        "id": "7XGYAs_10bw8"
      },
      "execution_count": null,
      "outputs": []
    },
    {
      "cell_type": "code",
      "source": [
        "for i in range(10):\n",
        "  for j in range(0,10-i):\n",
        "    print(' ', end='')\n",
        "  for k in range(0,i+1):\n",
        "    print('*',end=' ')\n",
        "  print('\\r')"
      ],
      "metadata": {
        "id": "cs7EpiE6Bbvk"
      },
      "execution_count": null,
      "outputs": []
    },
    {
      "cell_type": "code",
      "source": [
        "for i in range(10):\n",
        "  for j in range(0,i+1):\n",
        "    print(' ', end='')\n",
        "  for k in range(0,10-i):\n",
        "    print('*', end =' ')\n",
        "  print('\\r')\n",
        "for i in range(9):\n",
        "  for j in range(0,9-i):\n",
        "    print('', end=' ')\n",
        "  for k in range(0,i+2):\n",
        "    print('*',end=' ')\n",
        "  print('\\r')"
      ],
      "metadata": {
        "id": "E9URqHSfE3E1"
      },
      "execution_count": null,
      "outputs": []
    },
    {
      "cell_type": "code",
      "source": [
        "# need work\n",
        "for i in range (0,10):\n",
        "  for j in range(0,9):\n",
        "    if i==1 or i==10 or j==1 or j==9:\n",
        "     print('*',end = ' ')\n",
        "    else:\n",
        "      print(' ', end = ' ')\n",
        "      print('\\r')"
      ],
      "metadata": {
        "id": "Bs8aizG3G3_X"
      },
      "execution_count": null,
      "outputs": []
    },
    {
      "cell_type": "code",
      "source": [
        "\n",
        "for row in range(10):\n",
        "  for column in range(0,10-row):\n",
        "    print(' ', end='')\n",
        "  for k in range(0,row+1):\n",
        "    print('*', end =' ')\n",
        "  print('\\r')"
      ],
      "metadata": {
        "id": "Q-Fl0hDWqkW0"
      },
      "execution_count": null,
      "outputs": []
    },
    {
      "cell_type": "code",
      "source": [
        "for row in range(10):\n",
        "  for col in range(0,10-row):\n",
        "    if row==0 or row+col==1 or col-row==0:\n",
        "      print('*',end='')\n",
        "    else:\n",
        "      print(end=' ')\n",
        "  print('\\r')"
      ],
      "metadata": {
        "id": "YXVvBRPzxAur"
      },
      "execution_count": null,
      "outputs": []
    },
    {
      "cell_type": "markdown",
      "source": [
        "**Wednesday**, **Aug** **16**, **2023** - **Day** **8**"
      ],
      "metadata": {
        "id": "iMtvpo5AzHty"
      }
    },
    {
      "cell_type": "code",
      "source": [
        "# square\n",
        "for i in range (10): # 0,1,2,3,4,5,6,7,8,9\n",
        "  for j in range (10): # 0,1,2,3,4,5,6,7,8,9\n",
        "    print('*', end=' ')\n",
        "  print('\\r')"
      ],
      "metadata": {
        "id": "oHm3qQpizP7M"
      },
      "execution_count": null,
      "outputs": []
    },
    {
      "cell_type": "code",
      "source": [
        "# triangle\n",
        "# end represent end of line or switch line"
      ],
      "metadata": {
        "id": "fVrv_4_BBOYM"
      },
      "execution_count": null,
      "outputs": []
    },
    {
      "cell_type": "code",
      "source": [
        "for row in range(10):            # 0,1,2,3,4,5,6,7,8,9\n",
        "  for column in range(0,10-row): # 0,1,2,3,4,5,6,7,8,9\n",
        "    print('-', end='')           # to understand clearly put '-' hyphen\n",
        "  for k in range(0,row+1):       # 0,1,2,3,4,5,6,7,8,9\n",
        "    print('*', end =' ')         # (prints * and add spaces starting from 0)\n",
        "  print('\\r')\n",
        "\n",
        "# print('*',end=' ') put space after end line(end=' ')\n",
        "# otherwise the triagle will be slanted because there is no space."
      ],
      "metadata": {
        "id": "59SkLtaB0JcQ"
      },
      "execution_count": null,
      "outputs": []
    },
    {
      "cell_type": "code",
      "source": [
        "# fibonacci series\n",
        "# 0,1,1,2,3,5,8,13,21,34....."
      ],
      "metadata": {
        "id": "84Uu3glh470G"
      },
      "execution_count": null,
      "outputs": []
    },
    {
      "cell_type": "code",
      "source": [
        "a = 2\n",
        "b = 5\n",
        "print (a, end = ' ')\n",
        "print (b, end = ' ')\n",
        "for i in range (17):\n",
        "  c = a + b\n",
        "  print (c, end = ' ')\n",
        "  a = b\n",
        "  b = c"
      ],
      "metadata": {
        "id": "iv9Iw6Zu7_Ku"
      },
      "execution_count": null,
      "outputs": []
    },
    {
      "cell_type": "code",
      "source": [
        "stu_record = {'sameer':89, 'sabina':77, 'raju':57, 'harry':47, 'sassy':37}\n",
        "for keys, values in stu_record.items():\n",
        "  print(keys, values)\n",
        "  if values >=80:\n",
        "    print('pass with distinction')\n",
        "  elif values >= 70:\n",
        "      print ('pass with good remarks')\n",
        "  elif values >=60:\n",
        "    print ('good job')\n",
        "  elif values >=50:\n",
        "      print ('need work')\n",
        "  else:\n",
        "        print ('better luck next time')\n"
      ],
      "metadata": {
        "id": "9HpN2SgS_17a"
      },
      "execution_count": null,
      "outputs": []
    },
    {
      "cell_type": "code",
      "source": [
        "stu_record = {'sameer':89, 'sabina':77, 'raju':57, 'harry':47, 'sassy':37}\n",
        "for keys, values in stu_record.items():\n",
        "  if values >= 80:\n",
        "    print(keys, 'passed with grade:', 'A')\n",
        "  elif values >=70:\n",
        "    print(keys, 'passed with grade:', 'B')\n",
        "  elif values >=60:\n",
        "    print(keys, 'passed with:', 'Shit Marks')\n",
        "  else:\n",
        "    print(keys,'You Suck')"
      ],
      "metadata": {
        "id": "cMQP5MCdFxil"
      },
      "execution_count": null,
      "outputs": []
    },
    {
      "cell_type": "code",
      "source": [
        "# Type Casting Functions"
      ],
      "metadata": {
        "id": "xu8a8Bz8HgKO"
      },
      "execution_count": null,
      "outputs": []
    },
    {
      "cell_type": "code",
      "source": [
        "# iterable values : repeated values"
      ],
      "metadata": {
        "id": "_H0kFKzPIipY"
      },
      "execution_count": null,
      "outputs": []
    },
    {
      "cell_type": "code",
      "source": [
        "int(),float(),complex(),bool(),str()\n",
        "list(),tuple(),set(),dict()"
      ],
      "metadata": {
        "id": "wcyNlp4BHkqD"
      },
      "execution_count": null,
      "outputs": []
    },
    {
      "cell_type": "code",
      "source": [
        "int1 = 2023\n",
        "print(float(int1))\n",
        "print(complex(int1))\n",
        "print(bool(int1))\n",
        "print(str(int1))\n",
        "print(list(int1)) #TypeError\n",
        "print(tuple(int1)) #TypeError\n",
        "print(set(int1)) #TypeError\n",
        "print(dict(int1)) #TypeError"
      ],
      "metadata": {
        "id": "41cZk0KlI6dM"
      },
      "execution_count": null,
      "outputs": []
    },
    {
      "cell_type": "code",
      "source": [
        "#deciman => bin(), oct(), hex()\n",
        "\n",
        "for i in range (0 , 100):\n",
        "    print('Decimal: ', i)\n",
        "    print('Binary: ', bin(i))\n",
        "    print('Octa Decimal: ', oct(i))\n",
        "    print('Hexa Decimal: ', hex(i))"
      ],
      "metadata": {
        "id": "6TwdtFQqJYfC"
      },
      "execution_count": null,
      "outputs": []
    },
    {
      "cell_type": "code",
      "source": [
        "help(print)"
      ],
      "metadata": {
        "id": "p_lY42cBPGZx"
      },
      "execution_count": null,
      "outputs": []
    },
    {
      "cell_type": "code",
      "source": [
        "help(type)"
      ],
      "metadata": {
        "id": "LFSOtLiuPJ4H"
      },
      "execution_count": null,
      "outputs": []
    },
    {
      "cell_type": "code",
      "source": [
        "help(iter)"
      ],
      "metadata": {
        "id": "GWTW33gwPKEV"
      },
      "execution_count": null,
      "outputs": []
    },
    {
      "cell_type": "code",
      "source": [
        "help(input)"
      ],
      "metadata": {
        "id": "KhzsxEE8PRP6"
      },
      "execution_count": null,
      "outputs": []
    },
    {
      "cell_type": "code",
      "source": [
        "# User Define Functions\n",
        "\n",
        "def sum_of_two(a, b):\n",
        "  return (a+b)"
      ],
      "metadata": {
        "id": "aH0K_sZ6PWXL"
      },
      "execution_count": 186,
      "outputs": []
    },
    {
      "cell_type": "code",
      "source": [
        "sum_of_two(1947, -1947)"
      ],
      "metadata": {
        "id": "2puD5inBPWop"
      },
      "execution_count": null,
      "outputs": []
    },
    {
      "cell_type": "code",
      "source": [
        "sum_of_two(3.14, -3.14)"
      ],
      "metadata": {
        "id": "LfILSzyRPquE"
      },
      "execution_count": null,
      "outputs": []
    },
    {
      "cell_type": "code",
      "source": [
        "sum_of_two(12+13j, -12-13j)"
      ],
      "metadata": {
        "id": "VjJCH8vCPq1d"
      },
      "execution_count": null,
      "outputs": []
    },
    {
      "cell_type": "code",
      "source": [
        "sum_of_two('Python','Programming')"
      ],
      "metadata": {
        "id": "6EaymhaDP1Lf"
      },
      "execution_count": null,
      "outputs": []
    },
    {
      "cell_type": "code",
      "source": [
        "sum_of_two((12,23,34,45,56),(67,78,89,90))"
      ],
      "metadata": {
        "id": "9nFAV4AzP1kM"
      },
      "execution_count": null,
      "outputs": []
    },
    {
      "cell_type": "code",
      "source": [
        "sum_of_two({1,2,3,4,5,6,7},{'End','Of','Game',True,False})\n",
        "# TypeError: unsupported operand type(s) for +: 'set' and 'set'"
      ],
      "metadata": {
        "id": "C80fl7LqQCWp"
      },
      "execution_count": null,
      "outputs": []
    }
  ]
}