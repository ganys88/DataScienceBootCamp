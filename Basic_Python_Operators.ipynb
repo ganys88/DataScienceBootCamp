{
  "nbformat": 4,
  "nbformat_minor": 0,
  "metadata": {
    "colab": {
      "provenance": [],
      "authorship_tag": "ABX9TyNkkpSaCijEO0jkmky0EJ1u",
      "include_colab_link": true
    },
    "kernelspec": {
      "name": "python3",
      "display_name": "Python 3"
    },
    "language_info": {
      "name": "python"
    }
  },
  "cells": [
    {
      "cell_type": "markdown",
      "metadata": {
        "id": "view-in-github",
        "colab_type": "text"
      },
      "source": [
        "<a href=\"https://colab.research.google.com/github/ganys88/DataScienceBootCamp/blob/main/Basic_Python_Operators.ipynb\" target=\"_parent\"><img src=\"https://colab.research.google.com/assets/colab-badge.svg\" alt=\"Open In Colab\"/></a>"
      ]
    },
    {
      "cell_type": "code",
      "execution_count": 9,
      "metadata": {
        "colab": {
          "base_uri": "https://localhost:8080/"
        },
        "id": "ljOgei3z3mBT",
        "outputId": "8062e265-99d5-4cf3-d252-da0dcb9c19eb"
      },
      "outputs": [
        {
          "output_type": "stream",
          "name": "stdout",
          "text": [
            "240\n",
            "160\n",
            "8000\n",
            "5.0\n",
            "0\n",
            "5\n",
            "109951162777600000000000000000000000000000000000000000000000000000000000000000000000000000000\n"
          ]
        }
      ],
      "source": [
        "# basic operators\n",
        "\n",
        "a = 200\n",
        "b = 40\n",
        "print (a+b)  #1\n",
        "print (a-b)  #2\n",
        "print (a*b)  #3\n",
        "print (a/b)  #4\n",
        "print (a%b)  #5.modulus gives us whatever remainder\n",
        "print (a//b) #6.floor division gives us quotient down to nearest integer\n",
        "print (a**b) #7.exponentiation tells to multiply itself by other number of times\n",
        "             #eg:multiply 200, 40 times\n",
        "             #200*200*200....40 times\n"
      ]
    },
    {
      "cell_type": "code",
      "source": [
        "# comparision operators\n",
        "\n",
        "a = 100\n",
        "b = 20\n",
        "print (a == b)  #1. equal to/comparision\n",
        "print (a != b)  #2.\n",
        "print (a > b)    #3.\n",
        "print (a < b)    #4.\n",
        "print (a >= b)   #5.\n",
        "print (a <= b)   #6.\n",
        "\n"
      ],
      "metadata": {
        "colab": {
          "base_uri": "https://localhost:8080/"
        },
        "id": "31XvAtHf7O4X",
        "outputId": "2eaabb58-bf59-4ac2-c357-2510cd34b915"
      },
      "execution_count": 11,
      "outputs": [
        {
          "output_type": "stream",
          "name": "stdout",
          "text": [
            "False\n",
            "True\n",
            "True\n",
            "False\n",
            "True\n",
            "False\n"
          ]
        }
      ]
    },
    {
      "cell_type": "code",
      "source": [
        "# assignment operators\n",
        "\n",
        "# eg: a = a + b => a += b\n",
        "\n",
        "a = 100\n",
        "b = 20\n",
        "a += b\n",
        "print (a,b)\n",
        "a -= b\n",
        "print (a,b)\n",
        "a *= b\n",
        "print (a,b)\n",
        "a /= b\n",
        "print (a,b)\n",
        "a %= b\n",
        "print (a,b)\n",
        "a //= b\n",
        "print (a,b)\n",
        "a **= b\n",
        "print (a,b)\n",
        "\n",
        "#below answers depends on the numbers above\n",
        "#if done individually gives different results"
      ],
      "metadata": {
        "colab": {
          "base_uri": "https://localhost:8080/"
        },
        "id": "mPCicVyv9EBx",
        "outputId": "f8e5c510-0b87-49bf-d3e6-9a99aec68a95"
      },
      "execution_count": 19,
      "outputs": [
        {
          "output_type": "stream",
          "name": "stdout",
          "text": [
            "120 20\n",
            "100 20\n",
            "2000 20\n",
            "100.0 20\n",
            "0.0 20\n",
            "0.0 20\n",
            "0.0 20\n"
          ]
        }
      ]
    },
    {
      "cell_type": "code",
      "source": [
        "a = 100\n",
        "b = 20\n",
        "\n",
        "#and operators all conditions must be true\n",
        "print (a > 80 and b < 80)\n",
        "print (a == 80 and b < 80)\n",
        "print (a < 80 and b < 80)\n",
        "print (a > 80 and b > 80)\n",
        "\n",
        "#or operators one of the conditions must be true\n",
        "print (a > 80 or b < 80)\n",
        "print (a == 80 or b < 80)\n",
        "print (a < 80 or b < 80)\n",
        "print (a > 80 or b > 80)\n",
        "\n"
      ],
      "metadata": {
        "colab": {
          "base_uri": "https://localhost:8080/"
        },
        "id": "Kj-RVqobBYtk",
        "outputId": "9556f50c-0304-478f-da08-a1c890e46cf0"
      },
      "execution_count": 22,
      "outputs": [
        {
          "output_type": "stream",
          "name": "stdout",
          "text": [
            "True\n",
            "False\n",
            "False\n",
            "False\n",
            "True\n",
            "True\n",
            "True\n",
            "True\n"
          ]
        }
      ]
    },
    {
      "cell_type": "code",
      "source": [
        "# Membership Operators\n",
        "\n",
        "a = 100\n",
        "b = [100, 200, 300, 400, 500]\n",
        "c = 600\n",
        "print (a in b)\n",
        "print (c in b)\n",
        "print (a not in b)\n",
        "print (c not in b)"
      ],
      "metadata": {
        "colab": {
          "base_uri": "https://localhost:8080/"
        },
        "id": "yaN9zsbyC0tc",
        "outputId": "0cd919f9-8c53-4f5f-ad19-b65c63afba30"
      },
      "execution_count": 26,
      "outputs": [
        {
          "output_type": "stream",
          "name": "stdout",
          "text": [
            "True\n",
            "False\n",
            "False\n",
            "True\n"
          ]
        }
      ]
    },
    {
      "cell_type": "code",
      "source": [
        "# Identity Operators\n",
        "a = 100\n",
        "b = 20\n",
        "\n",
        "print (a is b)\n",
        "print (a is not b)"
      ],
      "metadata": {
        "colab": {
          "base_uri": "https://localhost:8080/"
        },
        "id": "Mt9oQTAjDrp5",
        "outputId": "28c6da5e-8d15-45de-c27a-a1e452bcb9cf"
      },
      "execution_count": 27,
      "outputs": [
        {
          "output_type": "stream",
          "name": "stdout",
          "text": [
            "False\n",
            "True\n"
          ]
        }
      ]
    }
  ]
}