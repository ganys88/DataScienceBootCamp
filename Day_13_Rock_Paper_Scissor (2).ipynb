{
  "nbformat": 4,
  "nbformat_minor": 0,
  "metadata": {
    "colab": {
      "provenance": []
    },
    "kernelspec": {
      "name": "python3",
      "display_name": "Python 3"
    },
    "language_info": {
      "name": "python"
    }
  },
  "cells": [
    {
      "cell_type": "code",
      "source": [
        "import random\n",
        "\n",
        "while True:\n",
        "  possible_actions = [\"rock\", \"paper\", \"scissor\"]\n",
        "  user_input = input(\"rock, paper or scissor: \")\n",
        "\n",
        "  if user_input not in possible_actions:\n",
        "      print(\"Invalid input. Enter rock, paper or scissor\")\n",
        "      exit()\n",
        "\n",
        "  # Computer chooses a random action\n",
        "  computer_action = random.choice(possible_actions)\n",
        "\n",
        "  print(\"You chose:\", user_input)\n",
        "  print(\"Computer chose:\", computer_action)\n",
        "\n",
        "  if user_input == 'paper' and computer_action == 'rock':\n",
        "    print('You Win')\n",
        "    break\n",
        "  elif user_input == 'rock' and computer_action == 'scissor':\n",
        "    print('You Win')\n",
        "    break\n",
        "  elif user_input == 'scissor' and computer_action == 'paper':\n",
        "    print('You Win')\n",
        "    break\n",
        "  elif user_input == computer_action:\n",
        "    print('It is a Tie')\n",
        "  else:\n",
        "    print('Computer Win')\n",
        "\n",
        "\n"
      ],
      "metadata": {
        "id": "aKaMC0XLXzPu",
        "colab": {
          "base_uri": "https://localhost:8080/"
        },
        "outputId": "fed6d8c4-d072-4183-8674-d1f955c64362"
      },
      "execution_count": 1,
      "outputs": [
        {
          "output_type": "stream",
          "name": "stdout",
          "text": [
            "rock, paper or scissor: rock\n",
            "You chose: rock\n",
            "Computer chose: paper\n",
            "Computer Win\n",
            "rock, paper or scissor: rock\n",
            "You chose: rock\n",
            "Computer chose: paper\n",
            "Computer Win\n",
            "rock, paper or scissor: rock\n",
            "You chose: rock\n",
            "Computer chose: paper\n",
            "Computer Win\n",
            "rock, paper or scissor: rock\n",
            "You chose: rock\n",
            "Computer chose: rock\n",
            "It is a Tie\n",
            "rock, paper or scissor: rock\n",
            "You chose: rock\n",
            "Computer chose: rock\n",
            "It is a Tie\n",
            "rock, paper or scissor: rock\n",
            "You chose: rock\n",
            "Computer chose: rock\n",
            "It is a Tie\n",
            "rock, paper or scissor: rock\n",
            "You chose: rock\n",
            "Computer chose: paper\n",
            "Computer Win\n",
            "rock, paper or scissor: rock\n",
            "You chose: rock\n",
            "Computer chose: paper\n",
            "Computer Win\n",
            "rock, paper or scissor: rock\n",
            "You chose: rock\n",
            "Computer chose: scissor\n",
            "You Win\n"
          ]
        }
      ]
    }
  ]
}