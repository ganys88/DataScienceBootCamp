{
  "nbformat": 4,
  "nbformat_minor": 0,
  "metadata": {
    "colab": {
      "provenance": []
    },
    "kernelspec": {
      "name": "python3",
      "display_name": "Python 3"
    },
    "language_info": {
      "name": "python"
    }
  },
  "cells": [
    {
      "cell_type": "markdown",
      "source": [
        "1) Write a Python Function that accepts a hyphen-separated sequence of words as input and prints the words in a hyphen-separated sequence after sorting them alphabetically.\n",
        "\n",
        "Sample Items : green-red-yellow-black-white\n",
        "\n",
        "Expected Result : black-green-red-white-yellow"
      ],
      "metadata": {
        "id": "7y3giJgjEZFt"
      }
    },
    {
      "cell_type": "code",
      "source": [
        "def sort_the_string(words_str):\n",
        "  words_list=words_str.split('-')\n",
        "  sorted_list=sorted(words_list)\n",
        "\n",
        "  print('-'.join(sorted_list))\n",
        "\n",
        "sort_the_string('green-red-yellow-black-white')"
      ],
      "metadata": {
        "id": "1mNY6Mk0HZ8z"
      },
      "execution_count": null,
      "outputs": []
    },
    {
      "cell_type": "markdown",
      "source": [
        "\n",
        "\n",
        "2)  Write a function that accepts a string and count consonant and vowels in that string"
      ],
      "metadata": {
        "id": "CZCb9cNJK4H0"
      }
    },
    {
      "cell_type": "code",
      "source": [
        "def count_const_vowels(words):\n",
        "  vowels_list=['a','e','i','o','u','A','E','I','O','U']\n",
        "  count_vowels=0\n",
        "  count_const=0\n",
        "  for k in words:\n",
        "    if k in vowels_list:\n",
        "      count_vowels=count_vowels+1\n",
        "    else:\n",
        "      count_const=count_const+1\n",
        "  print('Count of consonanats is', count_const)\n",
        "  print('Count of Vowels is', count_vowels)\n",
        "\n",
        "count_const_vowels('ASDFGHJKLQWERTYUIOPZXCVBNM')"
      ],
      "metadata": {
        "id": "DKGYwKFkK-my"
      },
      "execution_count": null,
      "outputs": []
    },
    {
      "cell_type": "markdown",
      "source": [
        "3.Write a Python function to check whether a number is \"Perfect\" or not.\n",
        "\n",
        "According to Wikipedia : In number theory, a perfect number is a positive integer that is equal to the sum of its proper positive divisors, that is, the sum of its positive divisors excluding the number itself (also known as its aliquot sum). Equivalently, a perfect number is a number that is half the sum of all of its positive divisors (including itself).\n",
        "Example : The first perfect number is 6, because 1, 2, and 3 are its proper positive divisors, and 1 + 2 + 3 = 6. Equivalently, the number 6 is equal to half the sum of all its positive divisors: ( 1 + 2 + 3 + 6 ) / 2 = 6. The next perfect number is 28 = 1 + 2 + 4 + 7 + 14. This is followed by the perfect numbers 496 and 8128.\n",
        "\n",
        " like 2"
      ],
      "metadata": {
        "id": "PCYIRrTHU-lJ"
      }
    },
    {
      "cell_type": "code",
      "source": [
        "n = int(input(\"Enter any number: \"))\n",
        "sum1 = 0\n",
        "for i in range(1,n):\n",
        "  if (n % i == 0):\n",
        "    print(i)\n",
        "    sum1 = sum1 + i\n",
        "  if (sum1 == n):\n",
        "    print(\"The number is a Perfect number!\")\n",
        "  else:\n",
        "    print(\"The number is not a Perfect number!\")\n"
      ],
      "metadata": {
        "id": "RfnHKjqlU9Xe"
      },
      "execution_count": null,
      "outputs": []
    },
    {
      "cell_type": "markdown",
      "source": [
        "\n",
        "4) Write a program to print twin primes less than 1000. If two consecutive odd numbers are both prime then they are known as twin primes"
      ],
      "metadata": {
        "id": "dFe6859uTmUU"
      }
    },
    {
      "cell_type": "code",
      "source": [
        "def is_prime(num):\n",
        "    if num <= 1:\n",
        "        return False\n",
        "    if num <= 3:\n",
        "        return True\n",
        "    if num % 2 == 0 or num % 3 == 0:\n",
        "        return False\n",
        "    i = 5\n",
        "    while i * i <= num:\n",
        "        if num % i == 0 or num % (i + 2) == 0:\n",
        "            return False\n",
        "        i += 6\n",
        "    return True\n",
        "\n",
        "def print_twin_primes(limit):\n",
        "    for num in range(3, limit, 2):\n",
        "        if is_prime(num) and is_prime(num + 2):\n",
        "            print(f\"({num}, {num + 2})\")\n",
        "\n",
        "print(\"Twin primes less than 1000:\")\n",
        "print_twin_primes(1000)\n"
      ],
      "metadata": {
        "id": "QeGO7fGYZdWo"
      },
      "execution_count": null,
      "outputs": []
    },
    {
      "cell_type": "code",
      "source": [
        "n = int(input(\"Enter the Max Range: \"))\n",
        "\n",
        "def check_prime_number(num):\n",
        "  for i in range(2, num):\n",
        "    if num % i == 0:\n",
        "      return False\n",
        "  return True\n",
        "\n",
        "def print_prime_pairs(n):\n",
        "  for k in range (3,n,2):\n",
        "    if check_prime_number(k) and check_prime_number(k+2):\n",
        "      print(\"Pair Prime Numbers\",k,k+2)\n",
        "\n",
        "print_prime_pairs(n)"
      ],
      "metadata": {
        "id": "-VniUiwYN69I"
      },
      "execution_count": null,
      "outputs": []
    },
    {
      "cell_type": "markdown",
      "source": [
        "5. Write a program to find out the prime factorization of a number. Example: prime factorization of 56 2x2x2x7.\n",
        "we will divide the number until it becomes 1."
      ],
      "metadata": {
        "id": "KL4WpinhSf6H"
      }
    },
    {
      "cell_type": "code",
      "source": [
        "n = int(input(\"Enter the number for prime factorization: \"))\n",
        "\n",
        "def prime_factors(num):\n",
        "  factors=[]\n",
        "  divisor=2\n",
        "  while num>1:\n",
        "    while num%divisor==0:\n",
        "      num = num/divisor\n",
        "      factors.append(str(divisor))\n",
        "    divisor=divisor+1\n",
        "  return factors\n",
        "\n",
        "def show_prime_factorization(n):\n",
        "  factors=prime_factors(n)\n",
        "  return \"x\".join(factors)\n",
        "\n",
        "show_prime_factorization(n)"
      ],
      "metadata": {
        "colab": {
          "base_uri": "https://localhost:8080/",
          "height": 54
        },
        "id": "gKYAXjaaSeW_",
        "outputId": "d17e6ae9-31aa-4b58-8af8-bb8f04dad172"
      },
      "execution_count": 9,
      "outputs": [
        {
          "name": "stdout",
          "output_type": "stream",
          "text": [
            "Enter the number for prime factorization: 83\n"
          ]
        },
        {
          "output_type": "execute_result",
          "data": {
            "text/plain": [
              "'83'"
            ],
            "application/vnd.google.colaboratory.intrinsic+json": {
              "type": "string"
            }
          },
          "metadata": {},
          "execution_count": 9
        }
      ]
    },
    {
      "cell_type": "markdown",
      "source": [
        "6. two different numbers are called amicable numbers if the sum of the proper divisors of each is equal to the other number. for example 220 and 284\n",
        "#get all divisors of both numbers\n",
        "#check if sum is equal to original number"
      ],
      "metadata": {
        "id": "jWBoveS2YJEI"
      }
    },
    {
      "cell_type": "code",
      "source": [
        "x=int(input(\"Enter first number\"))\n",
        "y=int(input(\"Enter second number\"))\n",
        "\n",
        "def get_proper_divisors_sum(num):\n",
        "  sum=0\n",
        "  for k in range(1,num):\n",
        "    if num % k == 0:\n",
        "      sum = sum+k\n",
        "  return sum\n",
        "\n",
        "def check_ambicale_numbers(x,y):\n",
        "  if get_proper_divisors_sum(x)==y and get_proper_divisors_sum(y)==x:\n",
        "    print(\"These are ambicale numbers\",x,y)\n",
        "  else:\n",
        "    print(\"Not ambicale number\")\n",
        "\n",
        "check_ambicale_numbers(x,y)"
      ],
      "metadata": {
        "colab": {
          "base_uri": "https://localhost:8080/"
        },
        "id": "f-xU9jsvYirD",
        "outputId": "085f5281-12a6-4d0d-a012-bcb57efe8dac"
      },
      "execution_count": 11,
      "outputs": [
        {
          "output_type": "stream",
          "name": "stdout",
          "text": [
            "Enter first number220\n",
            "Enter second number284\n",
            "These are ambicale numbers 220 284\n"
          ]
        }
      ]
    },
    {
      "cell_type": "code",
      "source": [
        "#swap 1st and last element of list\n",
        "#remove function work on values which we might not know\n",
        "#pop works at indexs more suitable\n",
        "#clear removes everything from list which is not suggested\n",
        "\n",
        "a=[1,2,5,10,'l']\n",
        "\n",
        "def swap_elements(list_temp):\n",
        "  first = list_temp.pop(0)\n",
        "  last = list_temp.pop(-1)\n",
        "  list_temp.insert(0,last)\n",
        "  list_temp.append(first)\n",
        "\n",
        "swap_elements(a)\n",
        "print(a)\n"
      ],
      "metadata": {
        "colab": {
          "base_uri": "https://localhost:8080/"
        },
        "id": "GD2qYdUpdEFd",
        "outputId": "71f68015-a0e8-4154-da01-3633091cdfb0"
      },
      "execution_count": 29,
      "outputs": [
        {
          "output_type": "stream",
          "name": "stdout",
          "text": [
            "['l', 2, 5, 10, 1]\n"
          ]
        }
      ]
    },
    {
      "cell_type": "code",
      "source": [
        "a = [1,2,5,10,'l']\n",
        "def swap_elements(list_temp):\n",
        "  list_temp[0], list_temp[-1]=list_temp[-1],list_temp[0]\n",
        "  return list_temp\n",
        "\n",
        "swap_elements(a)"
      ],
      "metadata": {
        "colab": {
          "base_uri": "https://localhost:8080/"
        },
        "id": "Evv056F7i81z",
        "outputId": "9cf2da8d-8b84-475a-92f6-a7efa5221ae2"
      },
      "execution_count": 33,
      "outputs": [
        {
          "output_type": "execute_result",
          "data": {
            "text/plain": [
              "['l', 2, 5, 10, 1]"
            ]
          },
          "metadata": {},
          "execution_count": 33
        }
      ]
    },
    {
      "cell_type": "code",
      "source": [],
      "metadata": {
        "id": "72RKrU-6jSwI"
      },
      "execution_count": null,
      "outputs": []
    }
  ]
}